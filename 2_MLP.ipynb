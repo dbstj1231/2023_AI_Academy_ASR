{
  "cells": [
    {
      "cell_type": "markdown",
      "metadata": {
        "id": "rvsjBjiTaj0L"
      },
      "source": [
        "# 기초 MLP 실습\n",
        "\n",
        "Import torch"
      ]
    },
    {
      "cell_type": "code",
      "execution_count": 1,
      "metadata": {
        "id": "eIfKvf8Iagyc"
      },
      "outputs": [],
      "source": [
        "import torch\n",
        "import torch.nn as nn"
      ]
    },
    {
      "cell_type": "markdown",
      "metadata": {
        "id": "gFhJYrRTcnNH"
      },
      "source": [
        "Device check(gpu)"
      ]
    },
    {
      "cell_type": "code",
      "execution_count": 2,
      "metadata": {
        "colab": {
          "base_uri": "https://localhost:8080/"
        },
        "id": "OyCCshBmattT",
        "outputId": "ee0da713-8094-4e41-e682-ee8bf4a3c16f"
      },
      "outputs": [
        {
          "output_type": "stream",
          "name": "stdout",
          "text": [
            "True\n",
            "cuda <class 'torch.device'>\n"
          ]
        }
      ],
      "source": [
        "# device check\n",
        "print(torch.cuda.is_available())\n",
        "\n",
        "if torch.cuda.is_available():\n",
        "  device = torch.device(\"cuda\")\n",
        "else:\n",
        "  device = torch.device(\"cpu\")\n",
        "\n",
        "print(device, type(device))\n"
      ]
    },
    {
      "cell_type": "markdown",
      "metadata": {
        "id": "qznrhl2tdXo3"
      },
      "source": [
        "## XOR problem\n",
        "\n",
        "![img](https://github.com/june-oh/2023_AI_Academy_ASR/blob/main/img/xor_table.jpg?raw=true)"
      ]
    },
    {
      "cell_type": "markdown",
      "metadata": {
        "id": "071EQk0KL-Vu"
      },
      "source": [
        "Dataset"
      ]
    },
    {
      "cell_type": "code",
      "execution_count": 3,
      "metadata": {
        "id": "DengB8ASdJow"
      },
      "outputs": [],
      "source": [
        "# define X, Y\n",
        "X = [[0,0],[0,1],[1,0],[1,1]]\n",
        "Y = [[0],[1],[1],[0]]"
      ]
    },
    {
      "cell_type": "code",
      "execution_count": 4,
      "metadata": {
        "id": "QC7F0kkAd0HW"
      },
      "outputs": [],
      "source": [
        "# define torch.tensor X, Y\n",
        "X=torch.tensor(X, dtype=torch.float)\n",
        "Y=torch.tensor(Y, dtype=torch.float)"
      ]
    },
    {
      "cell_type": "code",
      "execution_count": 5,
      "metadata": {
        "colab": {
          "base_uri": "https://localhost:8080/"
        },
        "id": "oOLYHIasd3vH",
        "outputId": "5cb2f65c-f8a7-4537-8a99-259316125ec7"
      },
      "outputs": [
        {
          "output_type": "execute_result",
          "data": {
            "text/plain": [
              "(tensor([[0., 0.],\n",
              "         [0., 1.],\n",
              "         [1., 0.],\n",
              "         [1., 1.]]),\n",
              " torch.float32)"
            ]
          },
          "metadata": {},
          "execution_count": 5
        }
      ],
      "source": [
        "# check X and type of X\n",
        "X, X.dtype"
      ]
    },
    {
      "cell_type": "code",
      "execution_count": 6,
      "metadata": {
        "colab": {
          "base_uri": "https://localhost:8080/"
        },
        "id": "wzp2W9wwd4kE",
        "outputId": "255540e2-00b4-4554-f349-8465a734bf29"
      },
      "outputs": [
        {
          "output_type": "execute_result",
          "data": {
            "text/plain": [
              "(tensor([[0.],\n",
              "         [1.],\n",
              "         [1.],\n",
              "         [0.]]),\n",
              " torch.float32)"
            ]
          },
          "metadata": {},
          "execution_count": 6
        }
      ],
      "source": [
        "# check Y and type of Y\n",
        "Y, Y.dtype"
      ]
    },
    {
      "cell_type": "markdown",
      "metadata": {
        "id": "aPWP0Bd_eX59"
      },
      "source": [
        "## Perceptron\n",
        "\n",
        "<img src=\"https://github.com/june-oh/2023_AI_Academy_ASR/blob/main/img/perceptron.jpg?raw=true\" width=450>"
      ]
    },
    {
      "cell_type": "markdown",
      "metadata": {
        "id": "El1IYqkUex-R"
      },
      "source": [
        "### nn.sequential\n",
        "- 여러 neural network layer를 순서대로 적용하는 컨테이너\n",
        "\n",
        "### nn.linear\n",
        "- linear transform layer\n",
        "- arg\n",
        "  - in_features  : 입력 노드의 개수\n",
        "  - out_features : 출력 노드의 개수\n",
        "\n",
        "### nn.Sigmoid\n",
        "- sigmoid function\n",
        "- output = 0~1\n",
        "- used in binary classification problem"
      ]
    },
    {
      "cell_type": "code",
      "execution_count": 7,
      "metadata": {
        "id": "ckChgeltL-Vv"
      },
      "outputs": [],
      "source": [
        "??nn.Sequential"
      ]
    },
    {
      "cell_type": "code",
      "execution_count": 8,
      "metadata": {
        "id": "1EDyqpEgg4m-"
      },
      "outputs": [],
      "source": [
        "??nn.Linear"
      ]
    },
    {
      "cell_type": "code",
      "execution_count": 9,
      "metadata": {
        "id": "9xfRhe3gL-Vv"
      },
      "outputs": [],
      "source": [
        "??nn.Sigmoid"
      ]
    },
    {
      "cell_type": "markdown",
      "metadata": {
        "id": "GhOquD9RL-Vv"
      },
      "source": [
        "Define Model"
      ]
    },
    {
      "cell_type": "code",
      "execution_count": 10,
      "metadata": {
        "id": "wrlWPhBFd9Um"
      },
      "outputs": [],
      "source": [
        "#define basic model\n",
        "model = nn.Sequential(\n",
        "    nn.Linear(2, 1),\n",
        "    nn.Sigmoid()\n",
        ")"
      ]
    },
    {
      "cell_type": "code",
      "execution_count": 11,
      "metadata": {
        "colab": {
          "base_uri": "https://localhost:8080/"
        },
        "id": "JX5V4dHUfTBh",
        "outputId": "0fc3ef94-4457-41e1-c70b-de91d5faa1dc"
      },
      "outputs": [
        {
          "output_type": "execute_result",
          "data": {
            "text/plain": [
              "Sequential(\n",
              "  (0): Linear(in_features=2, out_features=1, bias=True)\n",
              "  (1): Sigmoid()\n",
              ")"
            ]
          },
          "metadata": {},
          "execution_count": 11
        }
      ],
      "source": [
        "# check model\n",
        "model"
      ]
    },
    {
      "cell_type": "code",
      "execution_count": 12,
      "metadata": {
        "colab": {
          "base_uri": "https://localhost:8080/"
        },
        "id": "it0MabxFfULs",
        "outputId": "8232071d-1216-4523-edc9-b7cf1b8a5539"
      },
      "outputs": [
        {
          "output_type": "execute_result",
          "data": {
            "text/plain": [
              "tensor([0.6116], grad_fn=<SigmoidBackward0>)"
            ]
          },
          "metadata": {},
          "execution_count": 12
        }
      ],
      "source": [
        "# sample input\n",
        "sample_input = torch.tensor([0,0], dtype=torch.float)\n",
        "model(sample_input)"
      ]
    },
    {
      "cell_type": "markdown",
      "metadata": {
        "id": "vrGwqHwFL-Vw"
      },
      "source": [
        "## Loss Function\n",
        "- 예측값과 실제 값 사이의 차이를 측정하는 함수\n",
        "- 이 손실 함수를 최소화하는 파라미터를 찾는 것이 딥러닝의 목적\n",
        "### nn.BCELoss\n",
        "- Binary Cross Entropy Loss\n",
        "- used in binary classification\n",
        "\n",
        "## Optimizer\n",
        "- 손실함수의 값을 최소화하는 모델의 파라미터를 찾는 알고리즘\n",
        "### optim.SGD\n",
        "- Stochastic Gradient Descent(SGD)\n",
        "    - Mini-Batch를 이용한 Gradient Descent\n",
        "### optim.Adam\n",
        "- Adaptive Moment Estimation(Adam)\n",
        "    - SGD + momentum + RMSprop\n",
        "\n",
        "\n"
      ]
    },
    {
      "cell_type": "code",
      "execution_count": 13,
      "metadata": {
        "id": "WLj-MSQLgUS9"
      },
      "outputs": [],
      "source": [
        "??torch.nn.BCELoss"
      ]
    },
    {
      "cell_type": "code",
      "execution_count": 14,
      "metadata": {
        "id": "7cCaF9-ggohW"
      },
      "outputs": [],
      "source": [
        "??torch.optim.SGD"
      ]
    },
    {
      "cell_type": "markdown",
      "metadata": {
        "id": "Mrhh14ZIL-Vw"
      },
      "source": [
        "Define loss function and optimizer"
      ]
    },
    {
      "cell_type": "code",
      "execution_count": 15,
      "metadata": {
        "colab": {
          "base_uri": "https://localhost:8080/"
        },
        "id": "DgF7wLx6g_ml",
        "outputId": "501958d1-fb08-4a2b-f173-c345f3bb516d"
      },
      "outputs": [
        {
          "output_type": "execute_result",
          "data": {
            "text/plain": [
              "[Parameter containing:\n",
              " tensor([[ 0.0844, -0.3661]], requires_grad=True),\n",
              " Parameter containing:\n",
              " tensor([0.4541], requires_grad=True)]"
            ]
          },
          "metadata": {},
          "execution_count": 15
        }
      ],
      "source": [
        "# model parameter check\n",
        "list(model.parameters())"
      ]
    },
    {
      "cell_type": "code",
      "execution_count": 16,
      "metadata": {
        "id": "nFQf_qJRf9kG"
      },
      "outputs": [],
      "source": [
        "# define loss_fn , optimizer\n",
        "loss_fn = torch.nn.BCELoss()\n",
        "optim = torch.optim.SGD(model.parameters(), lr=0.001)"
      ]
    },
    {
      "cell_type": "markdown",
      "metadata": {
        "id": "HlnspUqWhQGA"
      },
      "source": [
        "### Train loop\n",
        "\n",
        "- epoch (전체데이터)\n",
        "  - batch (batch data)\n"
      ]
    },
    {
      "cell_type": "code",
      "execution_count": 17,
      "metadata": {
        "colab": {
          "base_uri": "https://localhost:8080/",
          "height": 49,
          "referenced_widgets": [
            "1ddaa7dfefb04f45aed979cddcd558d2",
            "65a762b1dfc04b46aa635e144f8217dc",
            "909b7890c5aa4228a41a3b94eb2b276b",
            "615a838c1be14677b5fb9157d88ca964",
            "f3861244dea0402f9cb236f83bc00d57",
            "c82435e87102494db89bb7a28072ee7f",
            "62b7b36ef1424fcea4d191875eca63ad",
            "75a2e2afc9174eef8d06ab2fc2a24f64",
            "d549200d5b0e4174aebc598bf895b83d",
            "238362b5a86e4122a66f30e3942e9e31",
            "e08c0cb39d01407d9832ad377ef95f51"
          ]
        },
        "id": "ARGvYXw-gk2y",
        "outputId": "f136bbf6-4ed0-4c58-9b50-35dad5643a84"
      },
      "outputs": [
        {
          "output_type": "display_data",
          "data": {
            "text/plain": [
              "  0%|          | 0/10000 [00:00<?, ?it/s]"
            ],
            "application/vnd.jupyter.widget-view+json": {
              "version_major": 2,
              "version_minor": 0,
              "model_id": "1ddaa7dfefb04f45aed979cddcd558d2"
            }
          },
          "metadata": {}
        }
      ],
      "source": [
        "# Train loop\n",
        "from tqdm.auto import tqdm\n",
        "\n",
        "# epoch\n",
        "n_epoch= 10**4\n",
        "\n",
        "# model to device\n",
        "model.to(device)\n",
        "X = X.to(device)\n",
        "Y = Y.to(device)\n",
        "\n",
        "# loss tracking\n",
        "losses = []\n",
        "\n",
        "\n",
        "#training loop\n",
        "for epoch in tqdm(range(n_epoch)):\n",
        "  # gradient init\n",
        "  optim.zero_grad()\n",
        "\n",
        "  # prediction\n",
        "  pred = model(X)\n",
        "\n",
        "  # loss\n",
        "  loss = loss_fn(pred, Y)\n",
        "\n",
        "  # gradient backpropagation\n",
        "  loss.backward()\n",
        "\n",
        "  # loss tracking\n",
        "  if epoch % 10 ==0:\n",
        "    losses.append(loss.item())\n",
        "\n",
        "  # model parameter update\n",
        "  optim.step()\n",
        "\n"
      ]
    },
    {
      "cell_type": "code",
      "execution_count": 18,
      "metadata": {
        "colab": {
          "base_uri": "https://localhost:8080/",
          "height": 448
        },
        "id": "uJtOJyrchzNQ",
        "outputId": "346ded0c-966a-42cd-9c2d-078d5cf3029b"
      },
      "outputs": [
        {
          "output_type": "display_data",
          "data": {
            "text/plain": [
              "<Figure size 640x480 with 1 Axes>"
            ],
            "image/png": "[encoded data removed]"
          },
          "metadata": {}
        },
        {
          "output_type": "stream",
          "name": "stdout",
          "text": [
            "0.6958434581756592\n"
          ]
        }
      ],
      "source": [
        "# check loss\n",
        "import matplotlib.pyplot as plt\n",
        "%matplotlib inline\n",
        "\n",
        "plt.plot(losses)\n",
        "plt.show()\n",
        "\n",
        "print(losses[-1])\n"
      ]
    },
    {
      "cell_type": "code",
      "execution_count": 19,
      "metadata": {
        "colab": {
          "base_uri": "https://localhost:8080/"
        },
        "id": "aedNFGf0h1N2",
        "outputId": "ca3ae789-733e-44d6-d234-1743d8d20c02"
      },
      "outputs": [
        {
          "output_type": "execute_result",
          "data": {
            "text/plain": [
              "tensor([[0.5490],\n",
              "        [0.4787],\n",
              "        [0.5391],\n",
              "        [0.4687]], device='cuda:0', grad_fn=<SigmoidBackward0>)"
            ]
          },
          "metadata": {},
          "execution_count": 19
        }
      ],
      "source": [
        "# Inference\n",
        "model(X)\n"
      ]
    },
    {
      "cell_type": "markdown",
      "metadata": {
        "id": "oT2mm2jKohYj"
      },
      "source": [
        "## define MLP model"
      ]
    },
    {
      "cell_type": "code",
      "execution_count": 26,
      "metadata": {
        "id": "zeS9bAZ5jjRV"
      },
      "outputs": [],
      "source": [
        "# define MLP model\n",
        "mlp_model = nn.Sequential(\n",
        "    nn.Linear(2,2,bias=True),\n",
        "    nn.Sigmoid(),\n",
        "    nn.Linear(2,1,bias=True),\n",
        "    nn.Sigmoid()\n",
        ")"
      ]
    },
    {
      "cell_type": "code",
      "source": [
        "mlp_model"
      ],
      "metadata": {
        "id": "xo0lZ4AJWhVL",
        "outputId": "c9e199d2-38ab-4fdb-8e5f-856845f41a03",
        "colab": {
          "base_uri": "https://localhost:8080/"
        }
      },
      "execution_count": 27,
      "outputs": [
        {
          "output_type": "execute_result",
          "data": {
            "text/plain": [
              "Sequential(\n",
              "  (0): Linear(in_features=2, out_features=2, bias=True)\n",
              "  (1): Sigmoid()\n",
              "  (2): Linear(in_features=2, out_features=1, bias=True)\n",
              "  (3): Sigmoid()\n",
              ")"
            ]
          },
          "metadata": {},
          "execution_count": 27
        }
      ]
    },
    {
      "cell_type": "markdown",
      "metadata": {
        "id": "D3ymtAj8L-Vw"
      },
      "source": [
        "모델을 학습할때 lr을 충분히 크게(e.g., lr = 0.1) 줘야 학습이 용이"
      ]
    },
    {
      "cell_type": "code",
      "execution_count": 28,
      "metadata": {
        "id": "ErI0Ax3WL-Vx"
      },
      "outputs": [],
      "source": [
        "# define loss function and optimizer\n",
        "loss_fn = torch.nn.BCELoss()\n",
        "optim = torch.optim.Adam(mlp_model.parameters(), lr=0.01)"
      ]
    },
    {
      "cell_type": "code",
      "execution_count": 29,
      "metadata": {
        "colab": {
          "base_uri": "https://localhost:8080/",
          "height": 49,
          "referenced_widgets": [
            "5637170642c7446a894becf1b0c90580",
            "ce4a77d600844ba784b701466b23332c",
            "1e3d6fb21ed74204b854517e2eede20f",
            "d65a530322e040c6b5eadd76d76872ce",
            "7d45bcbcfc154306bf5c0e1b8af7d210",
            "68c05ee05e34466fbcce25c8a76df66b",
            "ad85569ee37645fdac503dcdfb41011a",
            "00f1cd3697f142b5a126c85b53f371f7",
            "409300b5193a4133a1723dd749a09d4f",
            "970e3843210947d0a2762bcdaba13161",
            "00fe101f3ec449d4a87a1aa298eb6cdc"
          ]
        },
        "id": "92zA-wxLpePz",
        "outputId": "a5246330-febf-4c73-ab4d-4740bdf5bc11"
      },
      "outputs": [
        {
          "output_type": "display_data",
          "data": {
            "text/plain": [
              "  0%|          | 0/10000 [00:00<?, ?it/s]"
            ],
            "application/vnd.jupyter.widget-view+json": {
              "version_major": 2,
              "version_minor": 0,
              "model_id": "5637170642c7446a894becf1b0c90580"
            }
          },
          "metadata": {}
        }
      ],
      "source": [
        "\n",
        "\n",
        "# Train loop\n",
        "# epoch\n",
        "n_epoch= 10**4\n",
        "\n",
        "# model to device\n",
        "mlp_model.to(device)\n",
        "X = X.to(device)\n",
        "Y = Y.to(device)\n",
        "\n",
        "# loss tracking\n",
        "losses = []\n",
        "\n",
        "\n",
        "pbar = tqdm(range(n_epoch))\n",
        "for epoch in pbar:\n",
        "  # gradient init\n",
        "  optim.zero_grad()\n",
        "\n",
        "  # prediction\n",
        "  pred = mlp_model(X)\n",
        "\n",
        "  # loss\n",
        "  loss = loss_fn(pred, Y)\n",
        "\n",
        "  # gradient backpropagation\n",
        "  loss.backward()\n",
        "\n",
        "  pbar.desc = f\"loss : {loss.item()}\"\n",
        "\n",
        "  # loss tracking\n",
        "  if epoch % 10 ==0:\n",
        "    losses.append(loss.item())\n",
        "\n",
        "  # model parameter update\n",
        "  optim.step()\n",
        "\n"
      ]
    },
    {
      "cell_type": "code",
      "execution_count": 30,
      "metadata": {
        "colab": {
          "base_uri": "https://localhost:8080/",
          "height": 448
        },
        "id": "uE4NO4tGp82i",
        "outputId": "d97623b1-3178-4dac-a1e4-2d48e68a72c3"
      },
      "outputs": [
        {
          "output_type": "display_data",
          "data": {
            "text/plain": [
              "<Figure size 640x480 with 1 Axes>"
            ],
            "image/png": "[encoded data removed]"
          },
          "metadata": {}
        },
        {
          "output_type": "stream",
          "name": "stdout",
          "text": [
            "8.157946285791695e-05\n"
          ]
        }
      ],
      "source": [
        "# check loss\n",
        "plt.plot(losses)\n",
        "plt.show()\n",
        "\n",
        "print(losses[-1])\n"
      ]
    },
    {
      "cell_type": "code",
      "execution_count": 31,
      "metadata": {
        "colab": {
          "base_uri": "https://localhost:8080/"
        },
        "id": "DS2fVrnlqAYa",
        "outputId": "228c9145-828d-4b3e-87de-1fcee7d924cd"
      },
      "outputs": [
        {
          "output_type": "execute_result",
          "data": {
            "text/plain": [
              "tensor([[    0.00007816125435056165],\n",
              "        [    0.99992001056671142578],\n",
              "        [    0.99991178512573242188],\n",
              "        [    0.00007831882248865440]], device='cuda:0',\n",
              "       grad_fn=<SigmoidBackward0>)"
            ]
          },
          "metadata": {},
          "execution_count": 31
        }
      ],
      "source": [
        "# Inference\n",
        "torch.set_printoptions(precision=20,sci_mode=False)\n",
        "mlp_model(X)"
      ]
    },
    {
      "cell_type": "code",
      "source": [],
      "metadata": {
        "id": "CqAhck6gX3kW"
      },
      "execution_count": 25,
      "outputs": []
    }
  ],
  "metadata": {
    "accelerator": "GPU",
    "colab": {
      "provenance": []
    },
    "gpuClass": "standard",
    "kernelspec": {
      "display_name": "Python 3 (ipykernel)",
      "language": "python",
      "name": "python3"
    },
    "language_info": {
      "codemirror_mode": {
        "name": "ipython",
        "version": 3
      },
      "file_extension": ".py",
      "mimetype": "text/x-python",
      "name": "python",
      "nbconvert_exporter": "python",
      "pygments_lexer": "ipython3",
      "version": "3.9.12"
    },
    "widgets": {
      "application/vnd.jupyter.widget-state+json": {
        "1ddaa7dfefb04f45aed979cddcd558d2": {
          "model_module": "@jupyter-widgets/controls",
          "model_name": "HBoxModel",
          "model_module_version": "1.5.0",
          "state": {
            "_dom_classes": [],
            "_model_module": "@jupyter-widgets/controls",
            "_model_module_version": "1.5.0",
            "_model_name": "HBoxModel",
            "_view_count": null,
            "_view_module": "@jupyter-widgets/controls",
            "_view_module_version": "1.5.0",
            "_view_name": "HBoxView",
            "box_style": "",
            "children": [
              "IPY_MODEL_65a762b1dfc04b46aa635e144f8217dc",
              "IPY_MODEL_909b7890c5aa4228a41a3b94eb2b276b",
              "IPY_MODEL_615a838c1be14677b5fb9157d88ca964"
            ],
            "layout": "IPY_MODEL_f3861244dea0402f9cb236f83bc00d57"
          }
        },
        "65a762b1dfc04b46aa635e144f8217dc": {
          "model_module": "@jupyter-widgets/controls",
          "model_name": "HTMLModel",
          "model_module_version": "1.5.0",
          "state": {
            "_dom_classes": [],
            "_model_module": "@jupyter-widgets/controls",
            "_model_module_version": "1.5.0",
            "_model_name": "HTMLModel",
            "_view_count": null,
            "_view_module": "@jupyter-widgets/controls",
            "_view_module_version": "1.5.0",
            "_view_name": "HTMLView",
            "description": "",
            "description_tooltip": null,
            "layout": "IPY_MODEL_c82435e87102494db89bb7a28072ee7f",
            "placeholder": "​",
            "style": "IPY_MODEL_62b7b36ef1424fcea4d191875eca63ad",
            "value": "100%"
          }
        },
        "909b7890c5aa4228a41a3b94eb2b276b": {
          "model_module": "@jupyter-widgets/controls",
          "model_name": "FloatProgressModel",
          "model_module_version": "1.5.0",
          "state": {
            "_dom_classes": [],
            "_model_module": "@jupyter-widgets/controls",
            "_model_module_version": "1.5.0",
            "_model_name": "FloatProgressModel",
            "_view_count": null,
            "_view_module": "@jupyter-widgets/controls",
            "_view_module_version": "1.5.0",
            "_view_name": "ProgressView",
            "bar_style": "success",
            "description": "",
            "description_tooltip": null,
            "layout": "IPY_MODEL_75a2e2afc9174eef8d06ab2fc2a24f64",
            "max": 10000,
            "min": 0,
            "orientation": "horizontal",
            "style": "IPY_MODEL_d549200d5b0e4174aebc598bf895b83d",
            "value": 10000
          }
        },
        "615a838c1be14677b5fb9157d88ca964": {
          "model_module": "@jupyter-widgets/controls",
          "model_name": "HTMLModel",
          "model_module_version": "1.5.0",
          "state": {
            "_dom_classes": [],
            "_model_module": "@jupyter-widgets/controls",
            "_model_module_version": "1.5.0",
            "_model_name": "HTMLModel",
            "_view_count": null,
            "_view_module": "@jupyter-widgets/controls",
            "_view_module_version": "1.5.0",
            "_view_name": "HTMLView",
            "description": "",
            "description_tooltip": null,
            "layout": "IPY_MODEL_238362b5a86e4122a66f30e3942e9e31",
            "placeholder": "​",
            "style": "IPY_MODEL_e08c0cb39d01407d9832ad377ef95f51",
            "value": " 10000/10000 [00:10&lt;00:00, 1545.33it/s]"
          }
        },
        "f3861244dea0402f9cb236f83bc00d57": {
          "model_module": "@jupyter-widgets/base",
          "model_name": "LayoutModel",
          "model_module_version": "1.2.0",
          "state": {
            "_model_module": "@jupyter-widgets/base",
            "_model_module_version": "1.2.0",
            "_model_name": "LayoutModel",
            "_view_count": null,
            "_view_module": "@jupyter-widgets/base",
            "_view_module_version": "1.2.0",
            "_view_name": "LayoutView",
            "align_content": null,
            "align_items": null,
            "align_self": null,
            "border": null,
            "bottom": null,
            "display": null,
            "flex": null,
            "flex_flow": null,
            "grid_area": null,
            "grid_auto_columns": null,
            "grid_auto_flow": null,
            "grid_auto_rows": null,
            "grid_column": null,
            "grid_gap": null,
            "grid_row": null,
            "grid_template_areas": null,
            "grid_template_columns": null,
            "grid_template_rows": null,
            "height": null,
            "justify_content": null,
            "justify_items": null,
            "left": null,
            "margin": null,
            "max_height": null,
            "max_width": null,
            "min_height": null,
            "min_width": null,
            "object_fit": null,
            "object_position": null,
            "order": null,
            "overflow": null,
            "overflow_x": null,
            "overflow_y": null,
            "padding": null,
            "right": null,
            "top": null,
            "visibility": null,
            "width": null
          }
        },
        "c82435e87102494db89bb7a28072ee7f": {
          "model_module": "@jupyter-widgets/base",
          "model_name": "LayoutModel",
          "model_module_version": "1.2.0",
          "state": {
            "_model_module": "@jupyter-widgets/base",
            "_model_module_version": "1.2.0",
            "_model_name": "LayoutModel",
            "_view_count": null,
            "_view_module": "@jupyter-widgets/base",
            "_view_module_version": "1.2.0",
            "_view_name": "LayoutView",
            "align_content": null,
            "align_items": null,
            "align_self": null,
            "border": null,
            "bottom": null,
            "display": null,
            "flex": null,
            "flex_flow": null,
            "grid_area": null,
            "grid_auto_columns": null,
            "grid_auto_flow": null,
            "grid_auto_rows": null,
            "grid_column": null,
            "grid_gap": null,
            "grid_row": null,
            "grid_template_areas": null,
            "grid_template_columns": null,
            "grid_template_rows": null,
            "height": null,
            "justify_content": null,
            "justify_items": null,
            "left": null,
            "margin": null,
            "max_height": null,
            "max_width": null,
            "min_height": null,
            "min_width": null,
            "object_fit": null,
            "object_position": null,
            "order": null,
            "overflow": null,
            "overflow_x": null,
            "overflow_y": null,
            "padding": null,
            "right": null,
            "top": null,
            "visibility": null,
            "width": null
          }
        },
        "62b7b36ef1424fcea4d191875eca63ad": {
          "model_module": "@jupyter-widgets/controls",
          "model_name": "DescriptionStyleModel",
          "model_module_version": "1.5.0",
          "state": {
            "_model_module": "@jupyter-widgets/controls",
            "_model_module_version": "1.5.0",
            "_model_name": "DescriptionStyleModel",
            "_view_count": null,
            "_view_module": "@jupyter-widgets/base",
            "_view_module_version": "1.2.0",
            "_view_name": "StyleView",
            "description_width": ""
          }
        },
        "75a2e2afc9174eef8d06ab2fc2a24f64": {
          "model_module": "@jupyter-widgets/base",
          "model_name": "LayoutModel",
          "model_module_version": "1.2.0",
          "state": {
            "_model_module": "@jupyter-widgets/base",
            "_model_module_version": "1.2.0",
            "_model_name": "LayoutModel",
            "_view_count": null,
            "_view_module": "@jupyter-widgets/base",
            "_view_module_version": "1.2.0",
            "_view_name": "LayoutView",
            "align_content": null,
            "align_items": null,
            "align_self": null,
            "border": null,
            "bottom": null,
            "display": null,
            "flex": null,
            "flex_flow": null,
            "grid_area": null,
            "grid_auto_columns": null,
            "grid_auto_flow": null,
            "grid_auto_rows": null,
            "grid_column": null,
            "grid_gap": null,
            "grid_row": null,
            "grid_template_areas": null,
            "grid_template_columns": null,
            "grid_template_rows": null,
            "height": null,
            "justify_content": null,
            "justify_items": null,
            "left": null,
            "margin": null,
            "max_height": null,
            "max_width": null,
            "min_height": null,
            "min_width": null,
            "object_fit": null,
            "object_position": null,
            "order": null,
            "overflow": null,
            "overflow_x": null,
            "overflow_y": null,
            "padding": null,
            "right": null,
            "top": null,
            "visibility": null,
            "width": null
          }
        },
        "d549200d5b0e4174aebc598bf895b83d": {
          "model_module": "@jupyter-widgets/controls",
          "model_name": "ProgressStyleModel",
          "model_module_version": "1.5.0",
          "state": {
            "_model_module": "@jupyter-widgets/controls",
            "_model_module_version": "1.5.0",
            "_model_name": "ProgressStyleModel",
            "_view_count": null,
            "_view_module": "@jupyter-widgets/base",
            "_view_module_version": "1.2.0",
            "_view_name": "StyleView",
            "bar_color": null,
            "description_width": ""
          }
        },
        "238362b5a86e4122a66f30e3942e9e31": {
          "model_module": "@jupyter-widgets/base",
          "model_name": "LayoutModel",
          "model_module_version": "1.2.0",
          "state": {
            "_model_module": "@jupyter-widgets/base",
            "_model_module_version": "1.2.0",
            "_model_name": "LayoutModel",
            "_view_count": null,
            "_view_module": "@jupyter-widgets/base",
            "_view_module_version": "1.2.0",
            "_view_name": "LayoutView",
            "align_content": null,
            "align_items": null,
            "align_self": null,
            "border": null,
            "bottom": null,
            "display": null,
            "flex": null,
            "flex_flow": null,
            "grid_area": null,
            "grid_auto_columns": null,
            "grid_auto_flow": null,
            "grid_auto_rows": null,
            "grid_column": null,
            "grid_gap": null,
            "grid_row": null,
            "grid_template_areas": null,
            "grid_template_columns": null,
            "grid_template_rows": null,
            "height": null,
            "justify_content": null,
            "justify_items": null,
            "left": null,
            "margin": null,
            "max_height": null,
            "max_width": null,
            "min_height": null,
            "min_width": null,
            "object_fit": null,
            "object_position": null,
            "order": null,
            "overflow": null,
            "overflow_x": null,
            "overflow_y": null,
            "padding": null,
            "right": null,
            "top": null,
            "visibility": null,
            "width": null
          }
        },
        "e08c0cb39d01407d9832ad377ef95f51": {
          "model_module": "@jupyter-widgets/controls",
          "model_name": "DescriptionStyleModel",
          "model_module_version": "1.5.0",
          "state": {
            "_model_module": "@jupyter-widgets/controls",
            "_model_module_version": "1.5.0",
            "_model_name": "DescriptionStyleModel",
            "_view_count": null,
            "_view_module": "@jupyter-widgets/base",
            "_view_module_version": "1.2.0",
            "_view_name": "StyleView",
            "description_width": ""
          }
        },
        "5637170642c7446a894becf1b0c90580": {
          "model_module": "@jupyter-widgets/controls",
          "model_name": "HBoxModel",
          "model_module_version": "1.5.0",
          "state": {
            "_dom_classes": [],
            "_model_module": "@jupyter-widgets/controls",
            "_model_module_version": "1.5.0",
            "_model_name": "HBoxModel",
            "_view_count": null,
            "_view_module": "@jupyter-widgets/controls",
            "_view_module_version": "1.5.0",
            "_view_name": "HBoxView",
            "box_style": "",
            "children": [
              "IPY_MODEL_ce4a77d600844ba784b701466b23332c",
              "IPY_MODEL_1e3d6fb21ed74204b854517e2eede20f",
              "IPY_MODEL_d65a530322e040c6b5eadd76d76872ce"
            ],
            "layout": "IPY_MODEL_7d45bcbcfc154306bf5c0e1b8af7d210"
          }
        },
        "ce4a77d600844ba784b701466b23332c": {
          "model_module": "@jupyter-widgets/controls",
          "model_name": "HTMLModel",
          "model_module_version": "1.5.0",
          "state": {
            "_dom_classes": [],
            "_model_module": "@jupyter-widgets/controls",
            "_model_module_version": "1.5.0",
            "_model_name": "HTMLModel",
            "_view_count": null,
            "_view_module": "@jupyter-widgets/controls",
            "_view_module_version": "1.5.0",
            "_view_name": "HTMLView",
            "description": "",
            "description_tooltip": null,
            "layout": "IPY_MODEL_68c05ee05e34466fbcce25c8a76df66b",
            "placeholder": "​",
            "style": "IPY_MODEL_ad85569ee37645fdac503dcdfb41011a",
            "value": "loss : 8.119398989947513e-05: 100%"
          }
        },
        "1e3d6fb21ed74204b854517e2eede20f": {
          "model_module": "@jupyter-widgets/controls",
          "model_name": "FloatProgressModel",
          "model_module_version": "1.5.0",
          "state": {
            "_dom_classes": [],
            "_model_module": "@jupyter-widgets/controls",
            "_model_module_version": "1.5.0",
            "_model_name": "FloatProgressModel",
            "_view_count": null,
            "_view_module": "@jupyter-widgets/controls",
            "_view_module_version": "1.5.0",
            "_view_name": "ProgressView",
            "bar_style": "success",
            "description": "",
            "description_tooltip": null,
            "layout": "IPY_MODEL_00f1cd3697f142b5a126c85b53f371f7",
            "max": 10000,
            "min": 0,
            "orientation": "horizontal",
            "style": "IPY_MODEL_409300b5193a4133a1723dd749a09d4f",
            "value": 10000
          }
        },
        "d65a530322e040c6b5eadd76d76872ce": {
          "model_module": "@jupyter-widgets/controls",
          "model_name": "HTMLModel",
          "model_module_version": "1.5.0",
          "state": {
            "_dom_classes": [],
            "_model_module": "@jupyter-widgets/controls",
            "_model_module_version": "1.5.0",
            "_model_name": "HTMLModel",
            "_view_count": null,
            "_view_module": "@jupyter-widgets/controls",
            "_view_module_version": "1.5.0",
            "_view_name": "HTMLView",
            "description": "",
            "description_tooltip": null,
            "layout": "IPY_MODEL_970e3843210947d0a2762bcdaba13161",
            "placeholder": "​",
            "style": "IPY_MODEL_00fe101f3ec449d4a87a1aa298eb6cdc",
            "value": " 10000/10000 [00:12&lt;00:00, 915.51it/s]"
          }
        },
        "7d45bcbcfc154306bf5c0e1b8af7d210": {
          "model_module": "@jupyter-widgets/base",
          "model_name": "LayoutModel",
          "model_module_version": "1.2.0",
          "state": {
            "_model_module": "@jupyter-widgets/base",
            "_model_module_version": "1.2.0",
            "_model_name": "LayoutModel",
            "_view_count": null,
            "_view_module": "@jupyter-widgets/base",
            "_view_module_version": "1.2.0",
            "_view_name": "LayoutView",
            "align_content": null,
            "align_items": null,
            "align_self": null,
            "border": null,
            "bottom": null,
            "display": null,
            "flex": null,
            "flex_flow": null,
            "grid_area": null,
            "grid_auto_columns": null,
            "grid_auto_flow": null,
            "grid_auto_rows": null,
            "grid_column": null,
            "grid_gap": null,
            "grid_row": null,
            "grid_template_areas": null,
            "grid_template_columns": null,
            "grid_template_rows": null,
            "height": null,
            "justify_content": null,
            "justify_items": null,
            "left": null,
            "margin": null,
            "max_height": null,
            "max_width": null,
            "min_height": null,
            "min_width": null,
            "object_fit": null,
            "object_position": null,
            "order": null,
            "overflow": null,
            "overflow_x": null,
            "overflow_y": null,
            "padding": null,
            "right": null,
            "top": null,
            "visibility": null,
            "width": null
          }
        },
        "68c05ee05e34466fbcce25c8a76df66b": {
          "model_module": "@jupyter-widgets/base",
          "model_name": "LayoutModel",
          "model_module_version": "1.2.0",
          "state": {
            "_model_module": "@jupyter-widgets/base",
            "_model_module_version": "1.2.0",
            "_model_name": "LayoutModel",
            "_view_count": null,
            "_view_module": "@jupyter-widgets/base",
            "_view_module_version": "1.2.0",
            "_view_name": "LayoutView",
            "align_content": null,
            "align_items": null,
            "align_self": null,
            "border": null,
            "bottom": null,
            "display": null,
            "flex": null,
            "flex_flow": null,
            "grid_area": null,
            "grid_auto_columns": null,
            "grid_auto_flow": null,
            "grid_auto_rows": null,
            "grid_column": null,
            "grid_gap": null,
            "grid_row": null,
            "grid_template_areas": null,
            "grid_template_columns": null,
            "grid_template_rows": null,
            "height": null,
            "justify_content": null,
            "justify_items": null,
            "left": null,
            "margin": null,
            "max_height": null,
            "max_width": null,
            "min_height": null,
            "min_width": null,
            "object_fit": null,
            "object_position": null,
            "order": null,
            "overflow": null,
            "overflow_x": null,
            "overflow_y": null,
            "padding": null,
            "right": null,
            "top": null,
            "visibility": null,
            "width": null
          }
        },
        "ad85569ee37645fdac503dcdfb41011a": {
          "model_module": "@jupyter-widgets/controls",
          "model_name": "DescriptionStyleModel",
          "model_module_version": "1.5.0",
          "state": {
            "_model_module": "@jupyter-widgets/controls",
            "_model_module_version": "1.5.0",
            "_model_name": "DescriptionStyleModel",
            "_view_count": null,
            "_view_module": "@jupyter-widgets/base",
            "_view_module_version": "1.2.0",
            "_view_name": "StyleView",
            "description_width": ""
          }
        },
        "00f1cd3697f142b5a126c85b53f371f7": {
          "model_module": "@jupyter-widgets/base",
          "model_name": "LayoutModel",
          "model_module_version": "1.2.0",
          "state": {
            "_model_module": "@jupyter-widgets/base",
            "_model_module_version": "1.2.0",
            "_model_name": "LayoutModel",
            "_view_count": null,
            "_view_module": "@jupyter-widgets/base",
            "_view_module_version": "1.2.0",
            "_view_name": "LayoutView",
            "align_content": null,
            "align_items": null,
            "align_self": null,
            "border": null,
            "bottom": null,
            "display": null,
            "flex": null,
            "flex_flow": null,
            "grid_area": null,
            "grid_auto_columns": null,
            "grid_auto_flow": null,
            "grid_auto_rows": null,
            "grid_column": null,
            "grid_gap": null,
            "grid_row": null,
            "grid_template_areas": null,
            "grid_template_columns": null,
            "grid_template_rows": null,
            "height": null,
            "justify_content": null,
            "justify_items": null,
            "left": null,
            "margin": null,
            "max_height": null,
            "max_width": null,
            "min_height": null,
            "min_width": null,
            "object_fit": null,
            "object_position": null,
            "order": null,
            "overflow": null,
            "overflow_x": null,
            "overflow_y": null,
            "padding": null,
            "right": null,
            "top": null,
            "visibility": null,
            "width": null
          }
        },
        "409300b5193a4133a1723dd749a09d4f": {
          "model_module": "@jupyter-widgets/controls",
          "model_name": "ProgressStyleModel",
          "model_module_version": "1.5.0",
          "state": {
            "_model_module": "@jupyter-widgets/controls",
            "_model_module_version": "1.5.0",
            "_model_name": "ProgressStyleModel",
            "_view_count": null,
            "_view_module": "@jupyter-widgets/base",
            "_view_module_version": "1.2.0",
            "_view_name": "StyleView",
            "bar_color": null,
            "description_width": ""
          }
        },
        "970e3843210947d0a2762bcdaba13161": {
          "model_module": "@jupyter-widgets/base",
          "model_name": "LayoutModel",
          "model_module_version": "1.2.0",
          "state": {
            "_model_module": "@jupyter-widgets/base",
            "_model_module_version": "1.2.0",
            "_model_name": "LayoutModel",
            "_view_count": null,
            "_view_module": "@jupyter-widgets/base",
            "_view_module_version": "1.2.0",
            "_view_name": "LayoutView",
            "align_content": null,
            "align_items": null,
            "align_self": null,
            "border": null,
            "bottom": null,
            "display": null,
            "flex": null,
            "flex_flow": null,
            "grid_area": null,
            "grid_auto_columns": null,
            "grid_auto_flow": null,
            "grid_auto_rows": null,
            "grid_column": null,
            "grid_gap": null,
            "grid_row": null,
            "grid_template_areas": null,
            "grid_template_columns": null,
            "grid_template_rows": null,
            "height": null,
            "justify_content": null,
            "justify_items": null,
            "left": null,
            "margin": null,
            "max_height": null,
            "max_width": null,
            "min_height": null,
            "min_width": null,
            "object_fit": null,
            "object_position": null,
            "order": null,
            "overflow": null,
            "overflow_x": null,
            "overflow_y": null,
            "padding": null,
            "right": null,
            "top": null,
            "visibility": null,
            "width": null
          }
        },
        "00fe101f3ec449d4a87a1aa298eb6cdc": {
          "model_module": "@jupyter-widgets/controls",
          "model_name": "DescriptionStyleModel",
          "model_module_version": "1.5.0",
          "state": {
            "_model_module": "@jupyter-widgets/controls",
            "_model_module_version": "1.5.0",
            "_model_name": "DescriptionStyleModel",
            "_view_count": null,
            "_view_module": "@jupyter-widgets/base",
            "_view_module_version": "1.2.0",
            "_view_name": "StyleView",
            "description_width": ""
          }
        }
      }
    }
  },
  "nbformat": 4,
  "nbformat_minor": 0
}