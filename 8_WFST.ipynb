{
  "nbformat": 4,
  "nbformat_minor": 0,
  "metadata": {
    "colab": {
      "name": "k2_playground.ipynb",
      "provenance": [],
      "collapsed_sections": [
        "qyeP2SKY1HFL",
        "kxyhd-oZ3SXz",
        "n0GaLACZ3UYj"
      ]
    },
    "kernelspec": {
      "name": "python3",
      "display_name": "Python 3"
    },
    "language_info": {
      "name": "python"
    },
    "gpuClass": "standard"
  },
  "cells": [
    {
      "cell_type": "markdown",
      "source": [
        "<a href=\"https://colab.research.google.com/github/dbstj1231/2023_AI_Academy_ASR/blob/main/7_WFST.ipynb\" target=\"_parent\"><img src=\"https://colab.research.google.com/assets/colab-badge.svg\" alt=\"Open In Colab\"/></a>"
      ],
      "metadata": {
        "id": "RoGoF1bq8_J0"
      }
    },
    {
      "cell_type": "markdown",
      "source": [
        "# Nemo+K2 ASR Demo\n",
        "\n",
        "materials\n",
        "\n",
        "logits, indexed words, indexed tokens and lexicon from Nemo\n",
        "Arpa format from n-gram models\n"
      ],
      "metadata": {
        "id": "PbpP6YXrtR4a"
      }
    },
    {
      "cell_type": "markdown",
      "source": [
        "## k2-fsa(k2)\n",
        "-  OpenFST를 개량한 python 기반의 WFST 패키지\n",
        "- End-to-end 모델과 WFST를 결합할 목적으로 제작됨\n",
        "- FSA, FST를 tensor 형태로 구현하여 GPU에서 WFST 연산을 가능하게 함\n",
        "- https://github.com/k2-fsa/k2"
      ],
      "metadata": {
        "id": "qRYJNaR-ysEu"
      }
    },
    {
      "cell_type": "markdown",
      "source": [
        "## K2 설치 및 기본 환경 세팅\n",
        "\n",
        "### Prerequisities (pip 기준)\n",
        "- Python >= 3.6\n",
        "- CUDA >= 10.1\n",
        "- PyTorch == 1.7.1 (conda 설치의 경우 >=1.7.1)\n",
        "\n",
        "### PyPI (PIP)를 이용한 설치 방법 (권장, but colab에선 비권장)\n",
        "- pip install k2 (Prerequisities 자동으로 설치됨)\n",
        "\n",
        "### Colab에서 돌아가는 pip 설치 방법\n",
        "- ! pip install torch==1.7.1\n",
        "- ! pip install k2==1.17.dev20220710+cuda10.2.torch1.7.1 -f https://k2-fsa.org/nightly/\n",
        "\n",
        "### Source code (github)을 이용한 설치 방법\n",
        "- git clone https://github.com/k2-fsa/k2.git\n",
        "- cd k2\n",
        "- python3 setup.py install"
      ],
      "metadata": {
        "id": "MLZJsgNz_92N"
      }
    },
    {
      "cell_type": "code",
      "execution_count": null,
      "metadata": {
        "id": "HnDNN-YcaKOH"
      },
      "outputs": [],
      "source": [
        "!pip install torch==1.13.1 torchaudio==0.13.1\n",
        "!pip install k2==1.24.3.dev20230629+cpu.torch1.13.1 -f https://k2-fsa.org/nightly/"
      ]
    },
    {
      "cell_type": "code",
      "source": [
        "import k2, torch"
      ],
      "metadata": {
        "id": "7ICax8qboPIn"
      },
      "execution_count": 2,
      "outputs": []
    },
    {
      "cell_type": "code",
      "source": [
        "import k2.version\n",
        "k2.version.version.main()"
      ],
      "metadata": {
        "id": "3S_oVGdQAaWq"
      },
      "execution_count": null,
      "outputs": []
    },
    {
      "cell_type": "markdown",
      "source": [
        "## K2를 이용한 WFST 구현\n",
        "\n",
        "### Weighted Finite-state Acceptor(WFSA)\n",
        "- StartState \\t EndState \\t Symbol(index) \\t Weight\n",
        "- Symbol은 기본적으로 index로 표현/계산됨\n",
        "- 시각화할 일이 있을 때만 symbol을 표현\n",
        "- Symbol table 정의가 필요함\n",
        "- 일반적으로 k2.Fsa.from_str()를 사용하여 생성함\n",
        "- draw() or to_dot() methods를 이용하여 시각화"
      ],
      "metadata": {
        "id": "41ISeYBjAB4l"
      }
    },
    {
      "cell_type": "markdown",
      "source": [
        "## WFSA creation"
      ],
      "metadata": {
        "id": "df18aGu2ALWr"
      }
    },
    {
      "cell_type": "code",
      "source": [
        "s = '''\n",
        "0 1 1 1\n",
        "0 1 3 5\n",
        "0 2 1 3\n",
        "0 2 2 4\n",
        "0 2 3 7\n",
        "0 2 4 8\n",
        "0 2 5 9\n",
        "1 3 6 9\n",
        "1 3 5 8\n",
        "2 3 6 12\n",
        "3 4 -1 0\n",
        "4\n",
        "'''"
      ],
      "metadata": {
        "id": "QGuY6fNLzEUv"
      },
      "execution_count": 4,
      "outputs": []
    },
    {
      "cell_type": "code",
      "source": [
        "sym_str = '''\n",
        "  <eps> 0\n",
        " a 1\n",
        " b 2\n",
        " c 3\n",
        " d 4\n",
        " e 5\n",
        " f 6\n",
        "'''"
      ],
      "metadata": {
        "id": "wDp5Y9ZBYhld"
      },
      "execution_count": 5,
      "outputs": []
    },
    {
      "cell_type": "markdown",
      "source": [
        "###  Weighted Finite-state Transducer(WFST)\n",
        "- WFST: StartState \\t EndState \\t InputSymbol \\t OutputSymbol\\t Weight\n",
        "- 시각화된 표현은 arc당 InputSymbol:OutputSymbol/weight\n",
        "- CTC, lexicon, language model의 최적화된 표현을 위해\n",
        "- k2.Fsa.from_str의 acceptor=False option을 이용하여 생성"
      ],
      "metadata": {
        "id": "quwc3MPeAOAX"
      }
    },
    {
      "cell_type": "code",
      "source": [
        "s = '''\n",
        "0 1 1 1 1\n",
        "0 1 3 3 5\n",
        "0 2 1 1 3\n",
        "0 2 2 2 4\n",
        "0 2 3 3 7\n",
        "0 2 4 4 8\n",
        "0 2 5 5 9\n",
        "1 3 6 6 9\n",
        "1 3 5 5 8\n",
        "2 3 6 6 12\n",
        "3 4 -1 -1 0\n",
        "4\n",
        "'''\n",
        "\n",
        "#a_fsa = k2.Fsa.from_str(s)\n",
        "\n",
        "\n",
        "sym_str = '''\n",
        " <eps> 0\n",
        " a 1\n",
        " b 2\n",
        " c 3\n",
        " d 4\n",
        " e 5\n",
        " f 6\n",
        "'''\n",
        "#a_fsa.symbols = k2.SymbolTable.from_str(sym_str)\n",
        "#a_fsa.labels_sym = k2.SymbolTable.from_str(sym_str)\n",
        "a_fst.symbols = k2.SymbolTable.from_str(sym_str)\n",
        "a_fst.labels_sym = k2.SymbolTable.from_str(sym_str)\n",
        "a_fst.aux_labels_sym = k2.SymbolTable.from_str(sym_str)\n",
        "a_fst = k2.arc_sort(a_fst)\n",
        "a_fst.draw('a_fst.svg')\n"
      ],
      "metadata": {
        "id": "gFEtAfPtZkxY"
      },
      "execution_count": null,
      "outputs": []
    },
    {
      "cell_type": "markdown",
      "source": [
        "## Composition & Determinization"
      ],
      "metadata": {
        "id": "o7NetP3FASi7"
      }
    },
    {
      "cell_type": "code",
      "source": [
        "s = '''\n",
        "0 1 1 2 0.1\n",
        "1 2 2 2 0.3\n",
        "1 3 2 2 0.4\n",
        "2 3 1 2 0.5\n",
        "3 3 1 1 0.6\n",
        "3 4 -1 -1 0\n",
        "4\n",
        "'''\n",
        "\n",
        "\n",
        "sym_str = '''\n",
        " <eps> 0\n",
        " a 1\n",
        " b 2\n",
        " c 3\n",
        " d 4\n",
        " e 5\n",
        " f 6\n",
        "'''\n"
      ],
      "metadata": {
        "id": "Ub-YXHfxc46h"
      },
      "execution_count": null,
      "outputs": []
    },
    {
      "cell_type": "code",
      "source": [
        "s = '''\n",
        "0 1 2 2 0.1\n",
        "1 1 2 1 0.2\n",
        "1 2 1 2 0.3\n",
        "2 3 2 1 0.5\n",
        "3 4 -1 -1 0.6\n",
        "4\n",
        "'''\n",
        "\n",
        "\n",
        "\n",
        "sym_str = '''\n",
        " <eps> 0\n",
        " a 1\n",
        " b 2\n",
        " c 3\n",
        " d 4\n",
        " e 5\n",
        " f 6\n",
        "'''"
      ],
      "metadata": {
        "id": "nOR8Nq8OdSpc"
      },
      "execution_count": null,
      "outputs": []
    },
    {
      "cell_type": "code",
      "source": [
        "# compose\n"
      ],
      "metadata": {
        "id": "JSKyl2KHdrWM"
      },
      "execution_count": null,
      "outputs": []
    },
    {
      "cell_type": "code",
      "source": [
        "# determinization\n",
        "a_fsa.draw('a_fsa.svg')"
      ],
      "metadata": {
        "id": "SWK8ApfSecnM"
      },
      "execution_count": null,
      "outputs": []
    },
    {
      "cell_type": "code",
      "source": [
        "a_deter = k2.determinize(a_fsa)\n",
        "a_deter = k2.arc_sort(a_deter)\n",
        "a_deter.labels_sym = k2.SymbolTable.from_str(sym_str)\n",
        "a_deter.draw('deter.svg')"
      ],
      "metadata": {
        "id": "MSfF0CoueBb5"
      },
      "execution_count": null,
      "outputs": []
    },
    {
      "cell_type": "markdown",
      "source": [
        "# WFST"
      ],
      "metadata": {
        "id": "UW6Ml3Y3-9ae"
      }
    },
    {
      "cell_type": "code",
      "source": [
        "words_values = k2.SymbolTable.from_file('lang/lm/words.txt')\n",
        "tokens_values = k2.SymbolTable.from_file('lang/lm/tokens.txt')"
      ],
      "metadata": {
        "id": "MIWPiEpwLHp8"
      },
      "execution_count": 6,
      "outputs": []
    },
    {
      "cell_type": "markdown",
      "source": [
        "## Lexicon transducer"
      ],
      "metadata": {
        "id": "YpT3fE6lcLmD"
      }
    },
    {
      "cell_type": "code",
      "source": [
        "# C = k2.ctc_topo(max_token=129, modified=False)"
      ],
      "metadata": {
        "id": "PAPGgAXs-QMR"
      },
      "execution_count": null,
      "outputs": []
    },
    {
      "cell_type": "code",
      "source": [
        "from utils import read_lexicon\n",
        "\n",
        "lexicon = read_lexicon(\"lang/lm/lexicon.txt\")"
      ],
      "metadata": {
        "id": "_COJkkFkEFGx"
      },
      "execution_count": 9,
      "outputs": []
    },
    {
      "cell_type": "code",
      "source": [
        "from utils import add_disambig_symbols\n",
        "\n",
        "lexicon_disambig, max_disambig = add_disambig_symbols(lexicon)"
      ],
      "metadata": {
        "id": "v_YskpYoEnHO"
      },
      "execution_count": 10,
      "outputs": []
    },
    {
      "cell_type": "code",
      "source": [
        "max_disambig"
      ],
      "metadata": {
        "id": "qq7uWsUIFNM-",
        "colab": {
          "base_uri": "https://localhost:8080/"
        },
        "outputId": "895efc56-0669-4871-a0db-95991186349b"
      },
      "execution_count": null,
      "outputs": [
        {
          "output_type": "execute_result",
          "data": {
            "text/plain": [
              "1"
            ]
          },
          "metadata": {},
          "execution_count": 15
        }
      ]
    },
    {
      "cell_type": "code",
      "source": [
        "tokens_values.add('#0', 128)\n",
        "tokens_values.add('#1', 129)\n",
        "\n",
        "print(tokens_values.get('#0'), tokens_values.get('#1'))"
      ],
      "metadata": {
        "colab": {
          "base_uri": "https://localhost:8080/"
        },
        "id": "FlH9s71qMdEb",
        "outputId": "bf25be03-0a56-4386-84f3-69511d645bde"
      },
      "execution_count": 11,
      "outputs": [
        {
          "output_type": "stream",
          "name": "stdout",
          "text": [
            "128 129\n"
          ]
        }
      ]
    },
    {
      "cell_type": "code",
      "source": [
        "from utils import lexicon_to_fst\n",
        "\n",
        "L = lexicon_to_fst(\n",
        "    lexicon_disambig,\n",
        "    token2id=tokens_values._sym2id,\n",
        "    word2id=words_values._sym2id,\n",
        "    need_self_loops=True\n",
        ")"
      ],
      "metadata": {
        "id": "a2nQda-kFOPM"
      },
      "execution_count": null,
      "outputs": []
    },
    {
      "cell_type": "markdown",
      "source": [
        "## Grammar transducer"
      ],
      "metadata": {
        "id": "zXeWxmwmcIvW"
      }
    },
    {
      "cell_type": "code",
      "source": [
        "!pip install kaldilm"
      ],
      "metadata": {
        "id": "bBfsue39K0C0"
      },
      "execution_count": null,
      "outputs": []
    },
    {
      "cell_type": "code",
      "source": [
        "!python3 -m kaldilm --read-symbol-table=\"lang/lm/words.txt\" --disambig-symbol='#0' --max-order=3 lang/lm/libri_3_gram_1e-7.arpa > lang/G.fst.txt"
      ],
      "metadata": {
        "id": "JDp0eJq5VgEe"
      },
      "execution_count": null,
      "outputs": []
    },
    {
      "cell_type": "code",
      "source": [
        "import torch\n",
        "\n",
        "with open(\"lang/G.fst.txt\") as f:\n",
        "  G = k2.Fsa.from_openfst(f.read(), acceptor=False)\n",
        "  torch.save(G.as_dict(), \"lang/G.pt\")"
      ],
      "metadata": {
        "id": "R-QrVYJEkvc0"
      },
      "execution_count": null,
      "outputs": []
    },
    {
      "cell_type": "markdown",
      "source": [
        "## Composition & Determinization"
      ],
      "metadata": {
        "id": "tYvx47yA09uC"
      }
    },
    {
      "cell_type": "markdown",
      "source": [
        "### Composition"
      ],
      "metadata": {
        "id": "qyeP2SKY1HFL"
      }
    },
    {
      "cell_type": "code",
      "source": [
        "L = k2.arc_sort(L)\n",
        "G = k2.arc_sort(G)\n",
        "\n",
        "LG = k2.compose(L, G)\n",
        "#L_inv = L.invert()\n",
        "#L_inv = k2.arc_sort(L_inv)\n",
        "#L_inv.rename_tensor_attribute_('aux_labels', 'left_labels')\n",
        "#LG = k2.intersect(L_inv, G, treat_epsilons_specially=True)\n",
        "#LG.rename_tensor_attribute_('left_labels', 'labels')\n",
        "LG = k2.connect(LG)\n",
        "\n",
        "print(LG.shape)"
      ],
      "metadata": {
        "id": "QFrrgXX8E5y0"
      },
      "execution_count": null,
      "outputs": []
    },
    {
      "cell_type": "markdown",
      "source": [
        "### Determinization"
      ],
      "metadata": {
        "id": "kxyhd-oZ3SXz"
      }
    },
    {
      "cell_type": "code",
      "source": [
        "LG = k2.determinize(LG)\n",
        "LG = k2.connect(LG)\n",
        "print(LG.shape)"
      ],
      "metadata": {
        "id": "BlNHrH1TFBfJ"
      },
      "execution_count": null,
      "outputs": []
    },
    {
      "cell_type": "markdown",
      "source": [
        "### Epsilon removal"
      ],
      "metadata": {
        "id": "n0GaLACZ3UYj"
      }
    },
    {
      "cell_type": "code",
      "source": [
        "LG.labels[LG.labels >= tokens_values[\"#0\"]] = 0\n",
        "# See https://github.com/k2-fsa/k2/issues/874\n",
        "# for why we need to set LG.properties to None\n",
        "LG.__dict__[\"_properties\"] = None\n",
        "\n",
        "assert isinstance(LG.aux_labels, k2.RaggedTensor)\n",
        "LG.aux_labels.values[LG.aux_labels.values >= words_values[\"#0\"]] = 0\n",
        "\n",
        "LG = k2.remove_epsilon(LG)\n",
        "#logging.info(f\"LG shape after k2.remove_epsilon: {LG.shape}\")\n",
        "\n",
        "LG = k2.connect(LG)\n",
        "LG.aux_labels = LG.aux_labels.remove_values_eq(0)"
      ],
      "metadata": {
        "id": "Hk5YfnndFDtF"
      },
      "execution_count": null,
      "outputs": []
    },
    {
      "cell_type": "code",
      "source": [
        "print(LG.shape)"
      ],
      "metadata": {
        "colab": {
          "base_uri": "https://localhost:8080/"
        },
        "id": "xIcOqgUpFEN2",
        "outputId": "88f4b3f9-844a-4d65-ca73-95d45ed1ee8e"
      },
      "execution_count": null,
      "outputs": [
        {
          "output_type": "stream",
          "name": "stdout",
          "text": [
            "(3472138, None)\n"
          ]
        }
      ]
    },
    {
      "cell_type": "markdown",
      "source": [
        "## CLG composition"
      ],
      "metadata": {
        "id": "N7QNVYtn23e7"
      }
    },
    {
      "cell_type": "code",
      "source": [
        "torch.save(LG.as_dict(), \"lang/LG.pt\")"
      ],
      "metadata": {
        "id": "mWR8k2EOFGL4"
      },
      "execution_count": null,
      "outputs": []
    },
    {
      "cell_type": "code",
      "source": [
        "C = k2.arc_sort(C)\n",
        "LG = k2.arc_sort(LG)"
      ],
      "metadata": {
        "id": "3NkNa8hoFGer"
      },
      "execution_count": null,
      "outputs": []
    },
    {
      "cell_type": "code",
      "source": [
        "CLG = k2.compose(C, LG)\n",
        "\n",
        "CLG = k2.connect(CLG)\n",
        "\n",
        "print(CLG.shape)"
      ],
      "metadata": {
        "colab": {
          "base_uri": "https://localhost:8080/"
        },
        "id": "dEFpKKoLFIK9",
        "outputId": "a8e6e2ee-4ada-41a4-e1d5-187cbb835116"
      },
      "execution_count": null,
      "outputs": [
        {
          "output_type": "stream",
          "name": "stdout",
          "text": [
            "(6944399, None)\n"
          ]
        }
      ]
    },
    {
      "cell_type": "code",
      "source": [
        "torch.save(CLG.as_dict(), 'lang/CLG.pt')"
      ],
      "metadata": {
        "id": "nqs7W_1iFJCb"
      },
      "execution_count": null,
      "outputs": []
    },
    {
      "cell_type": "code",
      "source": [
        "import k2, torch\n",
        "CLG = k2.Fsa.from_dict(torch.load('lang/CLG.pt', map_location=\"cpu\"))"
      ],
      "metadata": {
        "id": "t77AW2f0FKiP"
      },
      "execution_count": null,
      "outputs": []
    },
    {
      "cell_type": "markdown",
      "source": [
        "## Utterance transducer"
      ],
      "metadata": {
        "id": "HhS8gqdL2_Gc"
      }
    },
    {
      "cell_type": "code",
      "source": [
        "import torch\n",
        "nnet_outputs = torch.load('logits.pt')"
      ],
      "metadata": {
        "id": "8ogqCuM8FLqp"
      },
      "execution_count": null,
      "outputs": []
    },
    {
      "cell_type": "code",
      "source": [
        "print(len(nnet_outputs))\n",
        "print(nnet_outputs[0].shape)"
      ],
      "metadata": {
        "colab": {
          "base_uri": "https://localhost:8080/"
        },
        "id": "kqQVNmLzFPdq",
        "outputId": "dd046e27-75f4-4520-ce66-9209fa3bdff3"
      },
      "execution_count": null,
      "outputs": [
        {
          "output_type": "stream",
          "name": "stdout",
          "text": [
            "2620\n",
            "torch.Size([303, 129])\n"
          ]
        }
      ]
    },
    {
      "cell_type": "code",
      "source": [
        "def rearrange_blksym(nnet_outputs):\n",
        "    nnet_t = nnet_outputs.T\n",
        "    tmp = nnet_t[1:-1]\n",
        "    tmp2 = nnet_t[-1:]\n",
        "    logits = torch.cat([tmp2, tmp])\n",
        "    logits = logits.T\n",
        "    logits = torch.tensor([logits.numpy()])\n",
        "\n",
        "    return logits\n",
        ""
      ],
      "metadata": {
        "id": "GGNpcqi_ZYmx"
      },
      "execution_count": null,
      "outputs": []
    },
    {
      "cell_type": "code",
      "source": [
        "logits = rearrange_blksym(nnet_outputs[0])"
      ],
      "metadata": {
        "id": "ALuq1VK0ZaNp"
      },
      "execution_count": null,
      "outputs": []
    },
    {
      "cell_type": "code",
      "source": [
        "logits.shape"
      ],
      "metadata": {
        "colab": {
          "base_uri": "https://localhost:8080/"
        },
        "id": "p5ot3zRDZbmX",
        "outputId": "d16a32cb-3741-4bd8-e8c0-2eb86c2062b7"
      },
      "execution_count": null,
      "outputs": [
        {
          "output_type": "execute_result",
          "data": {
            "text/plain": [
              "torch.Size([1, 303, 128])"
            ]
          },
          "metadata": {},
          "execution_count": 34
        }
      ]
    },
    {
      "cell_type": "code",
      "source": [
        "supervision_segments = torch.tensor([[0, 0, logits.shape[1]]], dtype=torch.int32)"
      ],
      "metadata": {
        "id": "20wYdjfsZcsn"
      },
      "execution_count": null,
      "outputs": []
    },
    {
      "cell_type": "code",
      "source": [
        "dense_fsa_vec = k2.DenseFsaVec(\n",
        "    logits,\n",
        "    supervision_segments)"
      ],
      "metadata": {
        "id": "PygimBFKZd2l"
      },
      "execution_count": null,
      "outputs": []
    },
    {
      "cell_type": "code",
      "source": [
        "lattice = k2.intersect_dense_pruned(CLG, dense_fsa_vec, 30.0, 15, 30, 1000000)"
      ],
      "metadata": {
        "id": "zveWY_IgZfMT"
      },
      "execution_count": null,
      "outputs": []
    },
    {
      "cell_type": "code",
      "source": [
        "best_path = k2.shortest_path(lattice, use_double_scores=True)"
      ],
      "metadata": {
        "id": "BEY6SeKQZgd3"
      },
      "execution_count": null,
      "outputs": []
    },
    {
      "cell_type": "code",
      "source": [
        "from utils import get_texts\n",
        "\n",
        "token_ids = get_texts(best_path)\n",
        "hyp = [[words_values[i] for i in ids] for ids in token_ids]\n",
        "print(\" \".join(hyp[0]))"
      ],
      "metadata": {
        "id": "_aO2lD0bZhvs"
      },
      "execution_count": null,
      "outputs": []
    },
    {
      "cell_type": "code",
      "source": [
        "token_ids"
      ],
      "metadata": {
        "id": "ELB9vrcIZitc"
      },
      "execution_count": null,
      "outputs": []
    }
  ]
}