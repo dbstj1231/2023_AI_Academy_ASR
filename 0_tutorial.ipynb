{
 "cells": [
  {
   "attachments": {},
   "cell_type": "markdown",
   "id": "8f765a75-b1e1-432e-8de9-31fab9438707",
   "metadata": {},
   "source": [
    "# NumPy, matplotlib, PyTorch Tensor 튜토리얼\n",
    "\n",
    "> 본 튜토리얼은 [cs231n 튜토리얼](https://colab.research.google.com/github/cs231n/cs231n.github.io/blob/master/python-colab.ipynb)과 해당 튜토리얼의 [한국어 번역본](https://github.com/aikorea/cs231n/blob/master/python-numpy-tutorial.md)을 참고하여 제작되었습니다.\n",
    "\n",
    "# [Numpy](https://github.com/numpy/numpy) \n",
    "\n",
    "<img src=\"https://github.com/numpy/numpy/raw/main/branding/logo/primary/numpylogo.svg\" height=120>\n",
    "\n",
    "NumPy는 Python을 사용한 과학적 컴퓨팅을 위한 기본 패키지\n",
    "\n",
    "다음과 같은 기능을 제공\n",
    "\n",
    "- 강력한 N차원 배열 객체\n",
    "- brodacasting 기능\n",
    "- C/C++ 및 Fortran 코드 통합을 위한 도구\n",
    "- 유용한 선형 대수학, 푸리에 변환 및 난수 기능\n",
    "\n",
    "<br><br>\n",
    "\n",
    "\n",
    "NumPy를 사용하기 위해 우선 `numpy` 패키지를 import합니다."
   ]
  },
  {
   "cell_type": "code",
   "execution_count": null,
   "id": "e6a3405c-be75-42d9-83fc-d142f41d6a31",
   "metadata": {},
   "outputs": [],
   "source": [
    "# import numpy package\n",
    "import numpy as np"
   ]
  },
  {
   "attachments": {},
   "cell_type": "markdown",
   "id": "7ef64569-5301-4d89-8305-1e6763b05eee",
   "metadata": {},
   "source": [
    "## [배열] \n",
    "Numpy 배열은 동일한 자료형을 가지는 값들이 격자판 형태로 있는 것입니다. 각각의 값들은 튜플(이때 튜플은 양의 정수만을 요소값으로 갖습니다.) 형태로 색인 됩니다. \n",
    "- rank는 배열이 몇 차원인지를 의미\n",
    "- shape는 는 각 차원의 크기를 알려주는 정수들이 모인 튜플\n",
    "\n",
    "파이썬의 리스트를 중첩해 Numpy 배열을 초기화 할 수 있고, 대괄호를 통해 각 요소에 접근할 수 있습니다:"
   ]
  },
  {
   "cell_type": "markdown",
   "id": "2da54eb5",
   "metadata": {},
   "source": [
    "### 1D 배열 생성"
   ]
  },
  {
   "cell_type": "code",
   "execution_count": null,
   "id": "53458bec-a378-4ba9-b3c9-5770616b4717",
   "metadata": {},
   "outputs": [],
   "source": [
    "# 1-dim numpy array\n",
    "\n",
    "a = np.array([1, 2, 3]) \n",
    "print(a)      "
   ]
  },
  {
   "cell_type": "code",
   "execution_count": null,
   "id": "1f0f18c0",
   "metadata": {},
   "outputs": [],
   "source": [
    "# rank, shape\n",
    "\n",
    "a.ndim, a.shape"
   ]
  },
  {
   "attachments": {},
   "cell_type": "markdown",
   "id": "c67a2808-3778-4fcb-ad34-21a14281f873",
   "metadata": {},
   "source": [
    "### 1D 배열 인덱스를 통한 원소 접근 및 수정"
   ]
  },
  {
   "cell_type": "code",
   "execution_count": null,
   "id": "4da78a25-35a4-4492-b10a-ebb3ab61d02f",
   "metadata": {},
   "outputs": [],
   "source": [
    "# 인덱스를 통한 원소 접근\n",
    "\n",
    "print(type(a),a[0],a[1],a[2])\n",
    "print(a)\n",
    "\n",
    "# 원소 값 수정\n",
    "a[0]=5      \n",
    "print(a)"
   ]
  },
  {
   "cell_type": "markdown",
   "id": "2bff03a9",
   "metadata": {},
   "source": [
    "### 2D 배열 생성"
   ]
  },
  {
   "cell_type": "code",
   "execution_count": null,
   "id": "b206f85b-4409-4730-a386-7bfb1c001b2a",
   "metadata": {},
   "outputs": [],
   "source": [
    "# 2-dim numpy array\n",
    "\n",
    "b = np.array([[1,2,3],[4,5,6]])   \n",
    "print(b)"
   ]
  },
  {
   "cell_type": "code",
   "execution_count": null,
   "id": "f5ffac3c",
   "metadata": {},
   "outputs": [],
   "source": [
    "# rank, shape\n",
    "\n",
    "b.ndim, b.shape"
   ]
  },
  {
   "attachments": {},
   "cell_type": "markdown",
   "id": "b53df8c5",
   "metadata": {},
   "source": [
    "### 2D 배열 인덱스를 통한 원소 접근 및 수정"
   ]
  },
  {
   "cell_type": "code",
   "execution_count": null,
   "id": "dfa141a2-127e-48d3-8df2-3c2d70bad75b",
   "metadata": {},
   "outputs": [],
   "source": [
    "print(b.shape)\n",
    "print(b[0, 0], b[0, 1], b[1, 0])"
   ]
  },
  {
   "attachments": {},
   "cell_type": "markdown",
   "id": "e24f7f3b",
   "metadata": {},
   "source": [
    "## [특수한 배열]"
   ]
  },
  {
   "attachments": {},
   "cell_type": "markdown",
   "id": "78beaef8",
   "metadata": {},
   "source": [
    "### 1. 영행렬"
   ]
  },
  {
   "cell_type": "code",
   "execution_count": null,
   "id": "b5d12b29",
   "metadata": {},
   "outputs": [],
   "source": [
    "print(np.zeros((2,2)))  # 영행렬 생성"
   ]
  },
  {
   "attachments": {},
   "cell_type": "markdown",
   "id": "9634856d",
   "metadata": {},
   "source": [
    "### 2. 유닛행렬"
   ]
  },
  {
   "cell_type": "code",
   "execution_count": null,
   "id": "0625e6ad-71df-44a1-9b08-2971e59475f8",
   "metadata": {},
   "outputs": [],
   "source": [
    "print(np.ones((1,2)))   # Create an array of all ones"
   ]
  },
  {
   "attachments": {},
   "cell_type": "markdown",
   "id": "f3008040",
   "metadata": {},
   "source": [
    "### 3. 모든 원소값이 특정 값으로 정해진 행렬"
   ]
  },
  {
   "cell_type": "code",
   "execution_count": null,
   "id": "c64145e8",
   "metadata": {},
   "outputs": [],
   "source": [
    "print(np.full((2,2), 7)) # Create a constant array"
   ]
  },
  {
   "attachments": {},
   "cell_type": "markdown",
   "id": "6f913513",
   "metadata": {},
   "source": [
    "### 4. 단위행렬"
   ]
  },
  {
   "cell_type": "code",
   "execution_count": null,
   "id": "c04f2f18",
   "metadata": {},
   "outputs": [],
   "source": [
    "print(np.eye(3)) # 단위행렬"
   ]
  },
  {
   "cell_type": "markdown",
   "id": "4640d1af",
   "metadata": {},
   "source": [
    "### 5. 임의의 값 행렬"
   ]
  },
  {
   "cell_type": "code",
   "execution_count": null,
   "id": "36f2c6ac",
   "metadata": {},
   "outputs": [],
   "source": [
    "print(np.random.random((2,2)))"
   ]
  },
  {
   "attachments": {},
   "cell_type": "markdown",
   "id": "820a1c4f",
   "metadata": {},
   "source": [
    "## [배열 인덱싱]"
   ]
  },
  {
   "cell_type": "markdown",
   "id": "eb2b2061",
   "metadata": {},
   "source": [
    "### Slicing\n",
    "파이썬 리스트와 유사하게, Numpy 배열도 슬라이싱이 가능합니다. Numpy 배열은 다차원인 경우가 많기에, 각 차원별로 어떻게 슬라이스할건지 명확히 해야 합니다:"
   ]
  },
  {
   "cell_type": "code",
   "execution_count": null,
   "id": "32c169af",
   "metadata": {},
   "outputs": [],
   "source": [
    "import numpy as np\n",
    "\n",
    "# Create the following rank 2 array with shape (3, 4)\n",
    "# [[ 1  2  3  4]\n",
    "#  [ 5  6  7  8]\n",
    "#  [ 9 10 11 12]]\n",
    "a = np.array([[1,2,3,4], [5,6,7,8], [9,10,11,12]])\n",
    "\n",
    "# Use slicing to pull out the subarray consisting of the first 2 rows\n",
    "# and columns 1 and 2; b is the following array of shape (2, 2):\n",
    "# [[2 3]\n",
    "#  [6 7]]\n",
    "b = a[:2, 1:3]\n",
    "print(b)"
   ]
  },
  {
   "attachments": {},
   "cell_type": "markdown",
   "id": "83b68781",
   "metadata": {},
   "source": [
    "슬라이싱된 배열은 원본 배열과 같은 데이터를 참조합니다, 즉 슬라이싱된 배열을 수정하면 원본 배열 역시 수정됩니다."
   ]
  },
  {
   "cell_type": "code",
   "execution_count": null,
   "id": "9b39c6b9",
   "metadata": {},
   "outputs": [],
   "source": [
    "print(a[0, 1])\n",
    "b[0, 0] = 77    # b[0, 0] is the same piece of data as a[0, 1]\n",
    "print(a[0, 1]) "
   ]
  },
  {
   "attachments": {},
   "cell_type": "markdown",
   "id": "e8ea57da",
   "metadata": {},
   "source": [
    "### Boolean Array Indexing\n",
    "Boolean array indexing을 통해 배열 속 요소를 취사선택할 수 있습니다. Boolean array indexing은 특정 조건을 만족하게 하는 요소만 선택하고자 할 때 자주 사용됩니다.:"
   ]
  },
  {
   "cell_type": "code",
   "execution_count": null,
   "id": "5c5fb867",
   "metadata": {},
   "outputs": [],
   "source": [
    "import numpy as np\n",
    "\n",
    "a = np.array([[1,2], [3, 4], [5, 6]])\n",
    "\n",
    "bool_idx = (a > 2)  # Find the elements of a that are bigger than 2;\n",
    "                    # this returns a numpy array of Booleans of the same\n",
    "                    # shape as a, where each slot of bool_idx tells\n",
    "                    # whether that element of a is > 2.\n",
    "\n",
    "print(bool_idx)"
   ]
  },
  {
   "cell_type": "code",
   "execution_count": null,
   "id": "801069f7",
   "metadata": {},
   "outputs": [],
   "source": [
    "# We use boolean array indexing to construct a rank 1 array\n",
    "# consisting of the elements of a corresponding to the True values\n",
    "# of bool_idx\n",
    "print(a[bool_idx])\n",
    "\n",
    "# We can do all of the above in a single concise statement:\n",
    "print(a[a > 2])"
   ]
  },
  {
   "attachments": {},
   "cell_type": "markdown",
   "id": "a7a86900",
   "metadata": {},
   "source": [
    "## [자료형]\n",
    "\n",
    "Numpy 배열은 동일한 자료형을 가지는 값들이 격자판 형태로 있는 것입니다. Numpy에선 배열을 구성하는 데 사용할 수 있는 다양한 숫자 자료형을 제공합니다. Numpy는 배열이 생성될 때 자료형을 스스로 추측합니다, 그러나 배열을 생성할 때 명시적으로 특정 자료형을 지정할 수도 있습니다. "
   ]
  },
  {
   "cell_type": "code",
   "execution_count": null,
   "id": "6387d298",
   "metadata": {},
   "outputs": [],
   "source": [
    "x = np.array([1, 2])  # Let numpy choose the datatype\n",
    "y = np.array([1.0, 2.0])  # Let numpy choose the datatype\n",
    "z = np.array([1, 2], dtype=np.int32)  # Force a particular datatype\n",
    "\n",
    "print(x.dtype, y.dtype, z.dtype)"
   ]
  },
  {
   "attachments": {},
   "cell_type": "markdown",
   "id": "f45f5af0",
   "metadata": {},
   "source": [
    "## [배열 연산]\n",
    "기본적인 수학함수는 배열의 각 요소별로 동작하며 연산자를 통해 동작하거나 numpy 함수모듈을 통해 동작합니다:"
   ]
  },
  {
   "cell_type": "code",
   "execution_count": null,
   "id": "4084958d",
   "metadata": {},
   "outputs": [],
   "source": [
    "x = np.array([[1,2],[3,4]], dtype=np.float64)\n",
    "y = np.array([[5,6],[7,8]], dtype=np.float64)"
   ]
  },
  {
   "cell_type": "code",
   "execution_count": null,
   "id": "e4c20ccc",
   "metadata": {},
   "outputs": [],
   "source": [
    "# Elementwise sum; both produce the array\n",
    "print(x + y)\n",
    "print(np.add(x, y))"
   ]
  },
  {
   "cell_type": "code",
   "execution_count": null,
   "id": "cf7ea967",
   "metadata": {},
   "outputs": [],
   "source": [
    "# Elementwise difference; both produce the array\n",
    "print(x - y)\n",
    "print(np.subtract(x, y))"
   ]
  },
  {
   "cell_type": "code",
   "execution_count": null,
   "id": "135dc038",
   "metadata": {},
   "outputs": [],
   "source": [
    "# Elementwise product; both produce the array\n",
    "print(x * y)\n",
    "print(np.multiply(x, y))"
   ]
  },
  {
   "cell_type": "code",
   "execution_count": null,
   "id": "f8691731",
   "metadata": {},
   "outputs": [],
   "source": [
    "# Elementwise division; both produce the array\n",
    "# [[ 0.2         0.33333333]\n",
    "#  [ 0.42857143  0.5       ]]\n",
    "print(x / y)\n",
    "print(np.divide(x, y))"
   ]
  },
  {
   "cell_type": "code",
   "execution_count": null,
   "id": "8c038586",
   "metadata": {},
   "outputs": [],
   "source": [
    "# Elementwise square root; produces the array\n",
    "# [[ 1.          1.41421356]\n",
    "#  [ 1.73205081  2.        ]]\n",
    "print(np.sqrt(x))"
   ]
  },
  {
   "attachments": {},
   "cell_type": "markdown",
   "id": "af383fd4",
   "metadata": {},
   "source": [
    "`*`은 행렬의 곱셈이 아닌 element wise 곱셈이므로 행렬곱을 구하기 위해서는 `dot`연산을 사용"
   ]
  },
  {
   "cell_type": "code",
   "execution_count": null,
   "id": "d9d0813e",
   "metadata": {},
   "outputs": [],
   "source": [
    "x = np.array([[1,2],\n",
    "              [3,4]])\n",
    "y = np.array([[5,6],\n",
    "              [7,8]])\n",
    "\n",
    "v = np.array([9, 10])\n",
    "w = np.array([11, 12])\n",
    "\n",
    "# Inner product of vectors; both produce 219\n",
    "print(v.dot(w))\n",
    "print(np.dot(v, w))"
   ]
  },
  {
   "attachments": {},
   "cell_type": "markdown",
   "id": "f9e7fe17",
   "metadata": {},
   "source": [
    "Python 3.5 버전부터 추가된 `@`연산자를 이용하여 행렬의 곱셈을 수행 가능"
   ]
  },
  {
   "cell_type": "code",
   "execution_count": null,
   "id": "26c32dd5",
   "metadata": {},
   "outputs": [],
   "source": [
    "print(v @ w)"
   ]
  },
  {
   "cell_type": "code",
   "execution_count": null,
   "id": "70051a98",
   "metadata": {},
   "outputs": [],
   "source": [
    "# Matrix / vector product; both produce the rank 1 array [29 67]\n",
    "print(x.dot(v))\n",
    "print(np.dot(x, v))\n",
    "print(x @ v)"
   ]
  },
  {
   "cell_type": "code",
   "execution_count": null,
   "id": "39f61a9c",
   "metadata": {},
   "outputs": [],
   "source": [
    "x@y,(x@y).shape"
   ]
  },
  {
   "cell_type": "markdown",
   "id": "bf8f170b",
   "metadata": {},
   "source": [
    "## [브로드캐스팅]\n",
    "1. 두 배열이 동일한 rank를 가지고 있지 않다면, 낮은 rank의 1차원 배열이 높은 rank 배열의 shape로 간주합니다.\n",
    "2. 특정 차원에서 두 배열이 동일한 크기를 갖거나, 두 배열 중 하나의 크기가 1이라면 그 두 배열은 특정 차원에서 compatible하다고 여겨집니다.\n",
    "3. 두 행렬이 모든 차원에서 compatible하다면, 브로드캐스팅이 가능합니다.\n",
    "4. 브로드캐스팅이 이뤄지면, 각 배열 shape의 요소별 최소공배수로 이루어진 shape가 두 배열의 shape로 간주합니다.\n",
    "5. 차원에 상관없이 크기가 1인 배열과 1보다 큰 배열이 있을 때, 크기가 1인 배열은 자신의 차원 수만큼 복사되어 쌓인 것처럼 간주합니다."
   ]
  },
  {
   "cell_type": "code",
   "execution_count": null,
   "id": "17bbebef",
   "metadata": {},
   "outputs": [],
   "source": [
    "# 행렬 x의 각 행에 벡터 v를 더한 뒤,\n",
    "# 그 결과를 행렬 y에 저장하고자 합니다\n",
    "x = np.array([[1,2,3], \n",
    "              [4,5,6], \n",
    "              [7,8,9], \n",
    "              [10,11,12]])\n",
    "v = np.array([1, 0, 1])\n",
    "y = np.empty_like(x)   # x와 동일한 shape를 가지며 비어있는 행렬 생성\n",
    "\n",
    "# 명시적 반복문을 통해 행렬 x의 각 행에 벡터 v를 더하는 방법\n",
    "for i in range(4):\n",
    "    y[i, :] = x[i, :] + v\n",
    "\n",
    "# 이제 y는 다음과 같습니다\n",
    "# [[ 2  2  4]\n",
    "#  [ 5  5  7]\n",
    "#  [ 8  8 10]\n",
    "#  [11 11 13]]\n",
    "print(y)"
   ]
  },
  {
   "cell_type": "code",
   "execution_count": null,
   "id": "0aa4600b",
   "metadata": {},
   "outputs": [],
   "source": [
    "# 벡터 v를 행렬 x의 각 행에 더한 뒤,\n",
    "# 그 결과를 행렬 y에 저장하고자 합니다\n",
    "x = np.array([[1,2,3], \n",
    "              [4,5,6], \n",
    "              [7,8,9], \n",
    "              [10, 11, 12]])\n",
    "v = np.array([1, 0, 1])\n",
    "vv = np.tile(v, (4, 1))  # v의 복사본 4개를 위로 차곡차곡 쌓은 것이 vv\n",
    "print(vv)                 # 출력 \"[[1 0 1]\n",
    "                         #       [1 0 1]\n",
    "                         #       [1 0 1]\n",
    "                         #       [1 0 1]]\"\n",
    "y = x + vv  # x와 vv의 요소별 합\n",
    "print(y) # 출력 \"[[ 2  2  4\n",
    "         #       [ 5  5  7]\n",
    "         #       [ 8  8 10]\n",
    "         #       [11 11 13]]\""
   ]
  },
  {
   "cell_type": "code",
   "execution_count": null,
   "id": "595b1cb3",
   "metadata": {},
   "outputs": [],
   "source": [
    "# 벡터 v를 행렬 x의 각 행에 더한 뒤,\n",
    "# 그 결과를 행렬 y에 저장하고자 합니다\n",
    "x = np.array([[1,2,3], \n",
    "              [4,5,6], \n",
    "              [7,8,9], \n",
    "              [10, 11, 12]])\n",
    "v = np.array([1, 0, 1])\n",
    "y = x + v  # 브로드캐스팅을 이용하여 v를 x의 각 행에 더하기\n",
    "print(y) # 출력 \"[[ 2  2  4]\n",
    "         #       [ 5  5  7]\n",
    "         #       [ 8  8 10]\n",
    "         #       [11 11 13]]\""
   ]
  },
  {
   "attachments": {},
   "cell_type": "markdown",
   "id": "bfb58d87",
   "metadata": {},
   "source": [
    "## [많이 사용하는 함수]\n",
    "\n",
    "`transpose`, `reshape`, `concat`, `vstack`, `hstack`, `stack`, `squeeze`, `expand_dim`(`unsqueeze`)"
   ]
  },
  {
   "attachments": {},
   "cell_type": "markdown",
   "id": "74ebc16e",
   "metadata": {},
   "source": [
    "### transpose"
   ]
  },
  {
   "cell_type": "code",
   "execution_count": null,
   "id": "4d4ff0d1",
   "metadata": {},
   "outputs": [],
   "source": [
    "x = np.array([[1,2,3], [4,5,6]])\n",
    "print(x.T)\n",
    "print(np.transpose(x))"
   ]
  },
  {
   "attachments": {},
   "cell_type": "markdown",
   "id": "ade183de",
   "metadata": {},
   "source": [
    "### reshape"
   ]
  },
  {
   "cell_type": "code",
   "execution_count": null,
   "id": "2ce5fa8a",
   "metadata": {},
   "outputs": [],
   "source": [
    "x = np.array([[1,2,3], [4,5,6]])\n",
    "print(x, x.shape)\n",
    "x = x.reshape(3,2)\n",
    "print(x,x.shape)"
   ]
  },
  {
   "cell_type": "markdown",
   "id": "d20349ea",
   "metadata": {},
   "source": [
    "### concat"
   ]
  },
  {
   "cell_type": "code",
   "execution_count": null,
   "id": "e09c46b3",
   "metadata": {},
   "outputs": [],
   "source": [
    "a = np.array([[1, 2], [3, 4]])\n",
    "b = np.array([[5, 6]])\n",
    "np.concatenate((a, b), axis=0)"
   ]
  },
  {
   "cell_type": "code",
   "execution_count": null,
   "id": "1adf90ca",
   "metadata": {},
   "outputs": [],
   "source": [
    "np.concatenate((a, b.T), axis=1)"
   ]
  },
  {
   "cell_type": "markdown",
   "id": "e7d892eb",
   "metadata": {},
   "source": [
    "### vstack"
   ]
  },
  {
   "cell_type": "code",
   "execution_count": null,
   "id": "62c512e3",
   "metadata": {},
   "outputs": [],
   "source": [
    "x = np.array([[1, 2], \n",
    "              [3, 4]])\n",
    "y = np.array([[5, 6], \n",
    "              [7, 8]])\n",
    "np.vstack((x,y))    # 행결합"
   ]
  },
  {
   "cell_type": "code",
   "execution_count": null,
   "id": "709ea3da",
   "metadata": {},
   "outputs": [],
   "source": [
    "np.concatenate((x, y), axis=0)"
   ]
  },
  {
   "cell_type": "markdown",
   "id": "9f6a77a1",
   "metadata": {},
   "source": [
    "### hstack"
   ]
  },
  {
   "cell_type": "code",
   "execution_count": null,
   "id": "8d0a1c78",
   "metadata": {},
   "outputs": [],
   "source": [
    "x = np.array([[1, 2], \n",
    "              [3, 4]])\n",
    "y = np.array([[5, 6], \n",
    "              [7, 8]])\n",
    "np.hstack((x,y))    # 열결합"
   ]
  },
  {
   "cell_type": "code",
   "execution_count": null,
   "id": "6c5559f3",
   "metadata": {},
   "outputs": [],
   "source": [
    "np.concatenate((x, y), axis=1)"
   ]
  },
  {
   "attachments": {},
   "cell_type": "markdown",
   "id": "77d50af9",
   "metadata": {},
   "source": [
    "### stack\n",
    "- stack 함수는 지정한 axis를 완전히 새로운 axis로 생각\n",
    "- 지정한 axis 기준으로 reshape 후 concatenate"
   ]
  },
  {
   "cell_type": "code",
   "execution_count": null,
   "id": "20d05f46",
   "metadata": {},
   "outputs": [],
   "source": [
    "a = np.array([[1, 2], \n",
    "              [3, 4]]) # a.shape=(2, 2)\n",
    "b = np.array([[5, 6]]) # b.shape=(2, 1)"
   ]
  },
  {
   "cell_type": "code",
   "execution_count": null,
   "id": "e4b1b1ea",
   "metadata": {},
   "outputs": [],
   "source": [
    "# np.stack((a, b), axis=0) "
   ]
  },
  {
   "cell_type": "code",
   "execution_count": null,
   "id": "9392f6c3",
   "metadata": {},
   "outputs": [],
   "source": [
    "a = np.array([[1, 2], \n",
    "              [3, 4]]) # a.shape=(2, 2)\n",
    "b = np.array([[5, 6], \n",
    "              [7, 8]]) # b.shape=(2, 2)"
   ]
  },
  {
   "cell_type": "code",
   "execution_count": null,
   "id": "a079b744",
   "metadata": {},
   "outputs": [],
   "source": [
    "c = np.stack((a, b), axis=0) \n",
    "print(c, c.shape)"
   ]
  },
  {
   "cell_type": "code",
   "execution_count": null,
   "id": "7e6b6cf7",
   "metadata": {},
   "outputs": [],
   "source": [
    "c = np.stack((a, b), axis=1) \n",
    "print(c, c.shape)"
   ]
  },
  {
   "cell_type": "code",
   "execution_count": null,
   "id": "713bcfff",
   "metadata": {},
   "outputs": [],
   "source": [
    "c = np.stack((a, b), axis=2) \n",
    "print(c, c.shape)"
   ]
  },
  {
   "attachments": {},
   "cell_type": "markdown",
   "id": "3277c41b",
   "metadata": {},
   "source": [
    "### squeeze"
   ]
  },
  {
   "cell_type": "code",
   "execution_count": null,
   "id": "775fdafb",
   "metadata": {},
   "outputs": [],
   "source": [
    "a = np.array([[1,2,3]])\n",
    "print(a, a.shape)\n",
    "a= a.squeeze(0)\n",
    "print(a, a.shape)"
   ]
  },
  {
   "attachments": {},
   "cell_type": "markdown",
   "id": "2faba86b",
   "metadata": {},
   "source": [
    "### expand_dims"
   ]
  },
  {
   "cell_type": "code",
   "execution_count": null,
   "id": "d54d4882",
   "metadata": {},
   "outputs": [],
   "source": [
    "a = np.array([1,2,3])\n",
    "print(a, a.shape)\n",
    "a= np.expand_dims(a,0)\n",
    "print(a, a.shape)"
   ]
  },
  {
   "attachments": {},
   "cell_type": "markdown",
   "id": "aa5c5cfd",
   "metadata": {},
   "source": [
    "# Matplotlib\n",
    "\n",
    "Matplotlib는 plotting 라이브러리입니다. 이번에는 MATLAB의 plotting 시스템과 유사한 기능을 제공하는 `matplotlib.pyplot` 모듈에 관한 간략한 소개가 있겠습니다.,"
   ]
  },
  {
   "cell_type": "code",
   "execution_count": null,
   "id": "86e03f11",
   "metadata": {},
   "outputs": [],
   "source": [
    "import matplotlib.pyplot as plt\n",
    "%matplotlib inline  "
   ]
  },
  {
   "cell_type": "code",
   "execution_count": null,
   "id": "309f5fec",
   "metadata": {},
   "outputs": [],
   "source": [
    "# Compute the x and y coordinates for points on a sine curve\n",
    "x = np.arange(0, 3 * np.pi, 0.1)\n",
    "y = np.sin(x)\n",
    "\n",
    "# Plot the points using matplotlib\n",
    "plt.plot(x, y)"
   ]
  },
  {
   "cell_type": "code",
   "execution_count": null,
   "id": "d0d1765e",
   "metadata": {},
   "outputs": [],
   "source": [
    "y_sin = np.sin(x)\n",
    "y_cos = np.cos(x)\n",
    "\n",
    "# Plot the points using matplotlib\n",
    "plt.plot(x, y_sin)\n",
    "plt.plot(x, y_cos)\n",
    "plt.xlabel('x axis label')\n",
    "plt.ylabel('y axis label')\n",
    "plt.title('Sine and Cosine')\n",
    "plt.legend(['Sine', 'Cosine'])"
   ]
  },
  {
   "cell_type": "code",
   "execution_count": null,
   "id": "789e63bc",
   "metadata": {},
   "outputs": [],
   "source": [
    "# Compute the x and y coordinates for points on sine and cosine curves\n",
    "x = np.arange(0, 3 * np.pi, 0.1)\n",
    "y_sin = np.sin(x)\n",
    "y_cos = np.cos(x)\n",
    "\n",
    "# Set up a subplot grid that has height 2 and width 1,\n",
    "# and set the first such subplot as active.\n",
    "plt.subplot(2, 1, 1)\n",
    "\n",
    "# Make the first plot\n",
    "plt.plot(x, y_sin)\n",
    "plt.title('Sine')\n",
    "\n",
    "# Set the second subplot as active, and make the second plot.\n",
    "plt.subplot(2, 1, 2)\n",
    "plt.plot(x, y_cos)\n",
    "plt.title('Cosine')\n",
    "\n",
    "# Show the figure.\n",
    "plt.show()"
   ]
  },
  {
   "cell_type": "code",
   "execution_count": null,
   "id": "297c50d7",
   "metadata": {},
   "outputs": [],
   "source": [
    "# Compute the x and y coordinates for points on sine and cosine curves\n",
    "x = np.arange(0, 3 * np.pi, 0.1)\n",
    "y_sin = np.sin(x)\n",
    "y_cos = np.cos(x)\n",
    "\n",
    "# Set up a subplot grid that has height 2 and width 1,\n",
    "# and set the first such subplot as active.\n",
    "plt.subplot(2, 1, 1)\n",
    "\n",
    "# Make the first plot\n",
    "plt.plot(x, y_sin)\n",
    "plt.title('Sine')\n",
    "\n",
    "# Set the second subplot as active, and make the second plot.\n",
    "plt.subplot(2, 1, 2)\n",
    "plt.plot(x, y_cos)\n",
    "plt.title('Cosine')\n",
    "\n",
    "# Show the figure.\n",
    "plt.tight_layout()\n",
    "plt.show()"
   ]
  },
  {
   "attachments": {},
   "cell_type": "markdown",
   "id": "10c9b554",
   "metadata": {},
   "source": [
    "## numpy 와 matplotlib 을 이용한 음성신호 생성  및 시각화"
   ]
  },
  {
   "cell_type": "code",
   "execution_count": null,
   "id": "70a9863b",
   "metadata": {},
   "outputs": [],
   "source": [
    "sr = 16000\n",
    "dur = 3\n",
    "F = 440\n",
    "t = np.arange(dur*sr)/sr\n",
    "sig = np.sin(2*t*np.pi*440) \n",
    "plt.plot(sig[:100])"
   ]
  },
  {
   "cell_type": "code",
   "execution_count": null,
   "id": "8ee07cba",
   "metadata": {},
   "outputs": [],
   "source": [
    "import IPython.display as ipd"
   ]
  },
  {
   "cell_type": "code",
   "execution_count": null,
   "id": "190758d0",
   "metadata": {},
   "outputs": [],
   "source": [
    "ipd.Audio(sig,rate=sr)"
   ]
  },
  {
   "attachments": {},
   "cell_type": "markdown",
   "id": "4a846c23",
   "metadata": {},
   "source": [
    "## 연습문제\n",
    "A4(4옥타브 라)에 해당하는 주파수는 440Hz이다.\n",
    "\n",
    "C4~C5에 해당하는 주파수가 아래와 같이 주어졌을때\n",
    "\n",
    "진폭과 주파수가 1초단위로 변경하는 음성 샘플을 생성하라"
   ]
  },
  {
   "cell_type": "code",
   "execution_count": null,
   "id": "5ba4a770",
   "metadata": {},
   "outputs": [],
   "source": [
    "#Frequency(Hz) of C4 to C5 scales\n",
    "scales = [261.63, 293.66, 329.63, 349.23, 392.00, 440.00, 493.88, 523.25] \n",
    "sr = 16000\n",
    "dur = 1\n",
    "t = np.arange(dur*sr)/sr\n",
    "x = []\n"
   ]
  },
  {
   "cell_type": "code",
   "execution_count": null,
   "id": "612ea013",
   "metadata": {},
   "outputs": [],
   "source": [
    "ipd.Audio(x,rate=sr)"
   ]
  },
  {
   "cell_type": "markdown",
   "id": "e7a22aee",
   "metadata": {},
   "source": [
    "# PyTorch Tensor\n",
    "텐서 등의 다양한 수학 함수가 포함되어져 있으며 Numpy와 유사한 구조를 가집니다."
   ]
  },
  {
   "cell_type": "markdown",
   "id": "c819aecc",
   "metadata": {},
   "source": [
    "## [파이토치 텐서]"
   ]
  },
  {
   "cell_type": "code",
   "execution_count": null,
   "id": "baeb490f",
   "metadata": {},
   "outputs": [],
   "source": [
    "import torch"
   ]
  },
  {
   "cell_type": "markdown",
   "id": "3dfb19e8",
   "metadata": {},
   "source": [
    "### 1D 배열 생성"
   ]
  },
  {
   "cell_type": "code",
   "execution_count": null,
   "id": "0827cdc2",
   "metadata": {},
   "outputs": [],
   "source": [
    "t = torch.FloatTensor([0., 1., 2., 3., 4., 5., 6.])\n",
    "print(t)"
   ]
  },
  {
   "cell_type": "code",
   "execution_count": null,
   "id": "8ace0198",
   "metadata": {},
   "outputs": [],
   "source": [
    "print(t.dim())  # rank\n",
    "print(t.shape)  # shape\n",
    "print(t.size()) # shape"
   ]
  },
  {
   "cell_type": "markdown",
   "id": "a4f74936",
   "metadata": {},
   "source": [
    "### 1D 배열 인덱스를 통한 원소 접근 및 슬라이싱"
   ]
  },
  {
   "cell_type": "code",
   "execution_count": null,
   "id": "30077c17",
   "metadata": {},
   "outputs": [],
   "source": [
    "print(t[0], t[1], t[-1])  \n",
    "print(t[2:4], t[:2])       "
   ]
  },
  {
   "cell_type": "markdown",
   "id": "2f9ab134",
   "metadata": {},
   "source": [
    "### 2D 배열 생성"
   ]
  },
  {
   "cell_type": "code",
   "execution_count": null,
   "id": "8fb17945",
   "metadata": {},
   "outputs": [],
   "source": [
    "t = torch.FloatTensor([[1., 2., 3.],\n",
    "                       [4., 5., 6.],\n",
    "                       [7., 8., 9.],\n",
    "                       [10., 11., 12.]\n",
    "                      ])\n",
    "print(t)"
   ]
  },
  {
   "cell_type": "code",
   "execution_count": null,
   "id": "502826b6",
   "metadata": {},
   "outputs": [],
   "source": [
    "print(t.dim())  # rank\n",
    "print(t.size()) # shape"
   ]
  },
  {
   "cell_type": "markdown",
   "id": "9d7845db",
   "metadata": {},
   "source": [
    "### 2D 배열 인덱스를 통한 원소 접근 및 슬라이싱"
   ]
  },
  {
   "cell_type": "code",
   "execution_count": null,
   "id": "e6cc187f",
   "metadata": {},
   "outputs": [],
   "source": [
    "print(t[:, 1]) \n",
    "print(t[:, 1].size()) "
   ]
  },
  {
   "cell_type": "code",
   "execution_count": null,
   "id": "0939a0ed",
   "metadata": {},
   "outputs": [],
   "source": [
    "print(t[:, :-1])"
   ]
  },
  {
   "cell_type": "markdown",
   "id": "93bbd9b9",
   "metadata": {},
   "source": [
    "## [브로드캐스팅]"
   ]
  },
  {
   "cell_type": "code",
   "execution_count": null,
   "id": "120ce3f1",
   "metadata": {},
   "outputs": [],
   "source": [
    "m1 = torch.Tensor([[1, 2]])\n",
    "m2 = torch.Tensor([[3, 4]])\n",
    "print(m1 + m2)"
   ]
  },
  {
   "cell_type": "code",
   "execution_count": null,
   "id": "6eb117ed",
   "metadata": {},
   "outputs": [],
   "source": [
    "m1 = torch.Tensor([[1, 2]])\n",
    "m2 = torch.Tensor([3]) # [3] -> [3, 3]\n",
    "print(m1 + m2)"
   ]
  },
  {
   "cell_type": "code",
   "execution_count": null,
   "id": "9b5350cb",
   "metadata": {},
   "outputs": [],
   "source": [
    "m1 = torch.Tensor([[1, 2]])\n",
    "m2 = torch.Tensor([[3], [4]])\n",
    "print(m1 + m2)\n",
    "\n",
    "\n",
    "# [1, 2]\n",
    "# ==> [[1, 2],\n",
    "#      [1, 2]]\n",
    "# [3]\n",
    "# [4]\n",
    "# ==> [[3, 3],\n",
    "#      [4, 4]]"
   ]
  },
  {
   "cell_type": "markdown",
   "id": "e438a96b",
   "metadata": {},
   "source": [
    "## [텐서 연산]"
   ]
  },
  {
   "cell_type": "markdown",
   "id": "1f39aeb6",
   "metadata": {},
   "source": [
    "### matrix multiplication , multiplication"
   ]
  },
  {
   "cell_type": "code",
   "execution_count": null,
   "id": "4fc0103c",
   "metadata": {},
   "outputs": [],
   "source": [
    "m1 = torch.Tensor([[1, 2], \n",
    "                   [3, 4]])\n",
    "m2 = torch.Tensor([[1], \n",
    "                   [2]])\n",
    "print(m1.matmul(m2)) # 2 x 1"
   ]
  },
  {
   "cell_type": "code",
   "execution_count": null,
   "id": "a7f55070",
   "metadata": {},
   "outputs": [],
   "source": [
    "m1 = torch.Tensor([[1, 2], \n",
    "                   [3, 4]])\n",
    "m2 = torch.Tensor([[1], \n",
    "                   [2]])\n",
    "print(m1 * m2) # 2 x 2\n",
    "print(m1.mul(m2))"
   ]
  },
  {
   "cell_type": "markdown",
   "id": "b273a9a9",
   "metadata": {},
   "source": [
    "### Mean"
   ]
  },
  {
   "cell_type": "code",
   "execution_count": null,
   "id": "aa32ae0f",
   "metadata": {},
   "outputs": [],
   "source": [
    "t = torch.Tensor([1, 2])\n",
    "print(t.mean())"
   ]
  },
  {
   "cell_type": "code",
   "execution_count": null,
   "id": "5f3a5478",
   "metadata": {},
   "outputs": [],
   "source": [
    "t = torch.Tensor([[1, 2], \n",
    "                  [3, 4]])\n",
    "print(t.mean())     "
   ]
  },
  {
   "cell_type": "code",
   "execution_count": null,
   "id": "ad96c068",
   "metadata": {},
   "outputs": [],
   "source": [
    "print(t.mean(dim=0))    # 행을 제거하고 열만 남긴다. "
   ]
  },
  {
   "cell_type": "code",
   "execution_count": null,
   "id": "83a1d14a",
   "metadata": {},
   "outputs": [],
   "source": [
    "print(t.mean(dim=1))    # 열을 제거하고 행만 남긴다. "
   ]
  },
  {
   "cell_type": "markdown",
   "id": "08434d1b",
   "metadata": {},
   "source": [
    "### Sum"
   ]
  },
  {
   "cell_type": "code",
   "execution_count": null,
   "id": "27cbb59e",
   "metadata": {},
   "outputs": [],
   "source": [
    "t = torch.Tensor([[1, 2], \n",
    "                  [3, 4]])\n",
    "print(t.sum())          # 단순히 원소 전체의 덧셈을 수행\n",
    "print(t.sum(dim=0))     # 행을 제거\n",
    "print(t.sum(dim=1))     # 열을 제거\n",
    "print(t.sum(dim=-1))    # 열을 제거"
   ]
  },
  {
   "cell_type": "markdown",
   "id": "8e1b1282",
   "metadata": {},
   "source": [
    "### Max, ArgMax"
   ]
  },
  {
   "cell_type": "code",
   "execution_count": null,
   "id": "8b715e08",
   "metadata": {},
   "outputs": [],
   "source": [
    "t = torch.Tensor([[1, 2], \n",
    "                  [3, 4]])\n",
    "print(t.max())\n",
    "print(t.max(dim=0)[0], t.max(dim=0)[1])     # Max, ArgMax\n",
    "print(t.max(dim=1)[0], t.max(dim=1)[1])     # Max, ArgMax"
   ]
  },
  {
   "cell_type": "markdown",
   "id": "5d0d703f",
   "metadata": {},
   "source": [
    "## 많이 사용하는 함수"
   ]
  },
  {
   "cell_type": "markdown",
   "id": "51c3e317",
   "metadata": {},
   "source": [
    "### View"
   ]
  },
  {
   "cell_type": "code",
   "execution_count": null,
   "id": "944c0f32",
   "metadata": {},
   "outputs": [],
   "source": [
    "t = np.array([[[0, 1, 2],\n",
    "               [3, 4, 5]],\n",
    "              [[6, 7, 8],\n",
    "               [9, 10, 11]]])\n",
    "ft = torch.Tensor(t)"
   ]
  },
  {
   "cell_type": "code",
   "execution_count": null,
   "id": "4e0a4a3c",
   "metadata": {},
   "outputs": [],
   "source": [
    "print(ft.shape)"
   ]
  },
  {
   "cell_type": "code",
   "execution_count": null,
   "id": "79778f94",
   "metadata": {},
   "outputs": [],
   "source": [
    "print(ft.view([-1, 3]))       # -1로 설정되면 다른 차원으로부터 해당 값을 유추  \n",
    "print(ft.view([-1, 3]).shape)"
   ]
  },
  {
   "cell_type": "code",
   "execution_count": null,
   "id": "fc30cb58",
   "metadata": {},
   "outputs": [],
   "source": [
    "print(ft.view([-1, 1, 3]))\n",
    "print(ft.view([-1, 1, 3]).shape)"
   ]
  },
  {
   "cell_type": "markdown",
   "id": "75d9ecf6",
   "metadata": {},
   "source": [
    "### Squeeze"
   ]
  },
  {
   "cell_type": "code",
   "execution_count": null,
   "id": "4968c17a",
   "metadata": {},
   "outputs": [],
   "source": [
    "ft = torch.Tensor([[0], [1], [2]])\n",
    "print(ft)\n",
    "print(ft.shape)"
   ]
  },
  {
   "cell_type": "code",
   "execution_count": null,
   "id": "558d3ad2",
   "metadata": {},
   "outputs": [],
   "source": [
    "print(ft.squeeze())\n",
    "print(ft.squeeze().shape)"
   ]
  },
  {
   "cell_type": "markdown",
   "id": "b22ae766",
   "metadata": {},
   "source": [
    "### Unsqueeze"
   ]
  },
  {
   "cell_type": "code",
   "execution_count": null,
   "id": "875b8336",
   "metadata": {},
   "outputs": [],
   "source": [
    "ft = torch.Tensor([0, 1, 2])\n",
    "print(ft.shape)"
   ]
  },
  {
   "cell_type": "code",
   "execution_count": null,
   "id": "6da9bcdc",
   "metadata": {},
   "outputs": [],
   "source": [
    "print(ft.unsqueeze(0)) # 인덱스가 0부터 시작하므로 0은 첫번째 차원을 의미한다.\n",
    "print(ft.unsqueeze(0).shape)"
   ]
  },
  {
   "cell_type": "code",
   "execution_count": null,
   "id": "0c1b4cbc",
   "metadata": {},
   "outputs": [],
   "source": [
    "print(ft.unsqueeze(1))\n",
    "print(ft.unsqueeze(1).shape)"
   ]
  },
  {
   "cell_type": "markdown",
   "id": "349785e1",
   "metadata": {},
   "source": [
    "### Concatenate"
   ]
  },
  {
   "cell_type": "code",
   "execution_count": null,
   "id": "77225555",
   "metadata": {},
   "outputs": [],
   "source": [
    "x = torch.Tensor([[1, 2], [3, 4]])\n",
    "y = torch.Tensor([[5, 6], [7, 8]])"
   ]
  },
  {
   "cell_type": "code",
   "execution_count": null,
   "id": "3a982063",
   "metadata": {},
   "outputs": [],
   "source": [
    "print(torch.cat([x, y], dim=0))"
   ]
  },
  {
   "cell_type": "code",
   "execution_count": null,
   "id": "19ddb247",
   "metadata": {},
   "outputs": [],
   "source": [
    "print(torch.cat([x, y], dim=1))"
   ]
  },
  {
   "cell_type": "markdown",
   "id": "d303b029",
   "metadata": {},
   "source": [
    "### Stack"
   ]
  },
  {
   "cell_type": "code",
   "execution_count": null,
   "id": "ad1119d2",
   "metadata": {},
   "outputs": [],
   "source": [
    "x = torch.Tensor([1, 4])\n",
    "y = torch.Tensor([2, 5])\n",
    "z = torch.Tensor([3, 6])"
   ]
  },
  {
   "cell_type": "code",
   "execution_count": null,
   "id": "bbde5618",
   "metadata": {},
   "outputs": [],
   "source": [
    "print(torch.stack([x, y, z]))"
   ]
  },
  {
   "cell_type": "code",
   "execution_count": null,
   "id": "62048305",
   "metadata": {},
   "outputs": [],
   "source": [
    "print(torch.stack([x, y, z], dim=1))"
   ]
  },
  {
   "cell_type": "markdown",
   "id": "fd0d4d65",
   "metadata": {},
   "source": [
    "### ones_like, zeros_like"
   ]
  },
  {
   "cell_type": "code",
   "execution_count": null,
   "id": "d9cd9491",
   "metadata": {},
   "outputs": [],
   "source": [
    "x = torch.FloatTensor([[0, 1, 2], [2, 1, 0]])\n",
    "print(x)"
   ]
  },
  {
   "cell_type": "code",
   "execution_count": null,
   "id": "3afda069",
   "metadata": {},
   "outputs": [],
   "source": [
    "print(torch.ones_like(x))"
   ]
  },
  {
   "cell_type": "code",
   "execution_count": null,
   "id": "846a9b09",
   "metadata": {},
   "outputs": [],
   "source": [
    "print(torch.zeros_like(x))"
   ]
  },
  {
   "cell_type": "code",
   "execution_count": null,
   "id": "41869774",
   "metadata": {},
   "outputs": [],
   "source": []
  }
 ],
 "metadata": {
  "kernelspec": {
   "display_name": "Python 3 (ipykernel)",
   "language": "python",
   "name": "python3"
  },
  "language_info": {
   "codemirror_mode": {
    "name": "ipython",
    "version": 3
   },
   "file_extension": ".py",
   "mimetype": "text/x-python",
   "name": "python",
   "nbconvert_exporter": "python",
   "pygments_lexer": "ipython3",
   "version": "3.9.12"
  }
 },
 "nbformat": 4,
 "nbformat_minor": 5
}
