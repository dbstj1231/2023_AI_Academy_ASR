{
 "cells": [
  {
   "attachments": {},
   "cell_type": "markdown",
   "id": "8f765a75-b1e1-432e-8de9-31fab9438707",
   "metadata": {},
   "source": [
    "# NumPy, matplotlib, PyTorch Tensor 튜토리얼\n",
    "\n",
    "> 본 튜토리얼은 [cs231n 튜토리얼](https://colab.research.google.com/github/cs231n/cs231n.github.io/blob/master/python-colab.ipynb)과 해당 튜토리얼의 [한국어 번역본](https://github.com/aikorea/cs231n/blob/master/python-numpy-tutorial.md)을 참고하여 제작되었습니다.\n",
    "\n",
    "# [Numpy](https://github.com/numpy/numpy) \n",
    "\n",
    "<img src=\"https://github.com/numpy/numpy/raw/main/branding/logo/primary/numpylogo.svg\" height=120>\n",
    "\n",
    "NumPy는 Python을 사용한 과학적 컴퓨팅을 위한 기본 패키지\n",
    "\n",
    "다음과 같은 기능을 제공\n",
    "\n",
    "- 강력한 N차원 배열 객체\n",
    "- brodacasting 기능\n",
    "- C/C++ 및 Fortran 코드 통합을 위한 도구\n",
    "- 유용한 선형 대수학, 푸리에 변환 및 난수 기능\n",
    "\n",
    "<br><br>\n",
    "\n",
    "\n",
    "NumPy를 사용하기 위해 우선 `numpy` 패키지를 import합니다."
   ]
  },
  {
   "cell_type": "code",
   "execution_count": 94,
   "id": "e6a3405c-be75-42d9-83fc-d142f41d6a31",
   "metadata": {},
   "outputs": [],
   "source": [
    "# import numpy package\n",
    "import numpy as np"
   ]
  },
  {
   "attachments": {},
   "cell_type": "markdown",
   "id": "7ef64569-5301-4d89-8305-1e6763b05eee",
   "metadata": {},
   "source": [
    "## [배열] \n",
    "Numpy 배열은 동일한 자료형을 가지는 값들이 격자판 형태로 있는 것입니다. 각각의 값들은 튜플(이때 튜플은 양의 정수만을 요소값으로 갖습니다.) 형태로 색인 됩니다. \n",
    "- rank는 배열이 몇 차원인지를 의미\n",
    "- shape는 는 각 차원의 크기를 알려주는 정수들이 모인 튜플\n",
    "\n",
    "파이썬의 리스트를 중첩해 Numpy 배열을 초기화 할 수 있고, 대괄호를 통해 각 요소에 접근할 수 있습니다:"
   ]
  },
  {
   "cell_type": "markdown",
   "id": "2da54eb5",
   "metadata": {},
   "source": [
    "### 1D 배열 생성"
   ]
  },
  {
   "cell_type": "code",
   "execution_count": 95,
   "id": "53458bec-a378-4ba9-b3c9-5770616b4717",
   "metadata": {},
   "outputs": [
    {
     "name": "stdout",
     "output_type": "stream",
     "text": [
      "[1 2 3]\n"
     ]
    }
   ],
   "source": [
    "# 1-dim numpy array\n",
    "\n",
    "a = np.array([1, 2, 3]) \n",
    "print(a)      "
   ]
  },
  {
   "cell_type": "code",
   "execution_count": 96,
   "id": "1f0f18c0",
   "metadata": {},
   "outputs": [
    {
     "data": {
      "text/plain": [
       "(1, (3,))"
      ]
     },
     "execution_count": 96,
     "metadata": {},
     "output_type": "execute_result"
    }
   ],
   "source": [
    "# rank, shape\n",
    "\n",
    "a.ndim, a.shape"
   ]
  },
  {
   "attachments": {},
   "cell_type": "markdown",
   "id": "c67a2808-3778-4fcb-ad34-21a14281f873",
   "metadata": {},
   "source": [
    "### 1D 배열 인덱스를 통한 원소 접근 및 수정"
   ]
  },
  {
   "cell_type": "code",
   "execution_count": 97,
   "id": "4da78a25-35a4-4492-b10a-ebb3ab61d02f",
   "metadata": {},
   "outputs": [
    {
     "name": "stdout",
     "output_type": "stream",
     "text": [
      "<class 'numpy.ndarray'> 1 2 3\n",
      "[1 2 3]\n",
      "[5 2 3]\n"
     ]
    }
   ],
   "source": [
    "# 인덱스를 통한 원소 접근\n",
    "\n",
    "print(type(a),a[0],a[1],a[2])\n",
    "print(a)\n",
    "\n",
    "# 원소 값 수정\n",
    "a[0]=5      \n",
    "print(a)"
   ]
  },
  {
   "cell_type": "markdown",
   "id": "2bff03a9",
   "metadata": {},
   "source": [
    "### 2D 배열 생성"
   ]
  },
  {
   "cell_type": "code",
   "execution_count": 98,
   "id": "b206f85b-4409-4730-a386-7bfb1c001b2a",
   "metadata": {},
   "outputs": [
    {
     "name": "stdout",
     "output_type": "stream",
     "text": [
      "[[1 2 3]\n",
      " [4 5 6]]\n"
     ]
    }
   ],
   "source": [
    "# 2-dim numpy array\n",
    "\n",
    "b = np.array([[1,2,3],[4,5,6]])   \n",
    "print(b)"
   ]
  },
  {
   "cell_type": "code",
   "execution_count": 99,
   "id": "f5ffac3c",
   "metadata": {},
   "outputs": [
    {
     "data": {
      "text/plain": [
       "(2, (2, 3))"
      ]
     },
     "execution_count": 99,
     "metadata": {},
     "output_type": "execute_result"
    }
   ],
   "source": [
    "# rank, shape\n",
    "\n",
    "b.ndim, b.shape"
   ]
  },
  {
   "attachments": {},
   "cell_type": "markdown",
   "id": "b53df8c5",
   "metadata": {},
   "source": [
    "### 2D 배열 인덱스를 통한 원소 접근 및 수정"
   ]
  },
  {
   "cell_type": "code",
   "execution_count": 100,
   "id": "dfa141a2-127e-48d3-8df2-3c2d70bad75b",
   "metadata": {},
   "outputs": [
    {
     "name": "stdout",
     "output_type": "stream",
     "text": [
      "(2, 3)\n",
      "1 2 4\n"
     ]
    }
   ],
   "source": [
    "print(b.shape)\n",
    "print(b[0, 0], b[0, 1], b[1, 0])"
   ]
  },
  {
   "attachments": {},
   "cell_type": "markdown",
   "id": "e24f7f3b",
   "metadata": {},
   "source": [
    "## [특수한 배열]"
   ]
  },
  {
   "attachments": {},
   "cell_type": "markdown",
   "id": "78beaef8",
   "metadata": {},
   "source": [
    "### 1. 영행렬"
   ]
  },
  {
   "cell_type": "code",
   "execution_count": 101,
   "id": "b5d12b29",
   "metadata": {},
   "outputs": [
    {
     "name": "stdout",
     "output_type": "stream",
     "text": [
      "[[0. 0.]\n",
      " [0. 0.]]\n"
     ]
    }
   ],
   "source": [
    "print(np.zeros((2,2)))  # 영행렬 생성"
   ]
  },
  {
   "attachments": {},
   "cell_type": "markdown",
   "id": "9634856d",
   "metadata": {},
   "source": [
    "### 2. 유닛행렬"
   ]
  },
  {
   "cell_type": "code",
   "execution_count": 102,
   "id": "0625e6ad-71df-44a1-9b08-2971e59475f8",
   "metadata": {},
   "outputs": [
    {
     "name": "stdout",
     "output_type": "stream",
     "text": [
      "[[1. 1.]]\n"
     ]
    }
   ],
   "source": [
    "print(np.ones((1,2)))   # Create an array of all ones"
   ]
  },
  {
   "attachments": {},
   "cell_type": "markdown",
   "id": "f3008040",
   "metadata": {},
   "source": [
    "### 3. 모든 원소값이 특정 값으로 정해진 행렬"
   ]
  },
  {
   "cell_type": "code",
   "execution_count": 103,
   "id": "c64145e8",
   "metadata": {},
   "outputs": [
    {
     "name": "stdout",
     "output_type": "stream",
     "text": [
      "[[7 7]\n",
      " [7 7]]\n"
     ]
    }
   ],
   "source": [
    "print(np.full((2,2), 7)) # Create a constant array"
   ]
  },
  {
   "attachments": {},
   "cell_type": "markdown",
   "id": "6f913513",
   "metadata": {},
   "source": [
    "### 4. 단위행렬"
   ]
  },
  {
   "cell_type": "code",
   "execution_count": 104,
   "id": "c04f2f18",
   "metadata": {},
   "outputs": [
    {
     "name": "stdout",
     "output_type": "stream",
     "text": [
      "[[1. 0. 0.]\n",
      " [0. 1. 0.]\n",
      " [0. 0. 1.]]\n"
     ]
    }
   ],
   "source": [
    "print(np.eye(3)) # 단위행렬"
   ]
  },
  {
   "cell_type": "markdown",
   "id": "4640d1af",
   "metadata": {},
   "source": [
    "### 5. 임의의 값 행렬"
   ]
  },
  {
   "cell_type": "code",
   "execution_count": 105,
   "id": "36f2c6ac",
   "metadata": {},
   "outputs": [
    {
     "name": "stdout",
     "output_type": "stream",
     "text": [
      "[[0.53747471 0.30306305]\n",
      " [0.0397946  0.78520969]]\n"
     ]
    }
   ],
   "source": [
    "print(np.random.random((2,2)))"
   ]
  },
  {
   "attachments": {},
   "cell_type": "markdown",
   "id": "820a1c4f",
   "metadata": {},
   "source": [
    "## [배열 인덱싱]"
   ]
  },
  {
   "cell_type": "markdown",
   "id": "eb2b2061",
   "metadata": {},
   "source": [
    "### Slicing\n",
    "파이썬 리스트와 유사하게, Numpy 배열도 슬라이싱이 가능합니다. Numpy 배열은 다차원인 경우가 많기에, 각 차원별로 어떻게 슬라이스할건지 명확히 해야 합니다:"
   ]
  },
  {
   "cell_type": "code",
   "execution_count": 106,
   "id": "32c169af",
   "metadata": {},
   "outputs": [
    {
     "name": "stdout",
     "output_type": "stream",
     "text": [
      "[[2 3]\n",
      " [6 7]]\n"
     ]
    }
   ],
   "source": [
    "import numpy as np\n",
    "\n",
    "# Create the following rank 2 array with shape (3, 4)\n",
    "# [[ 1  2  3  4]\n",
    "#  [ 5  6  7  8]\n",
    "#  [ 9 10 11 12]]\n",
    "a = np.array([[1,2,3,4], [5,6,7,8], [9,10,11,12]])\n",
    "\n",
    "# Use slicing to pull out the subarray consisting of the first 2 rows\n",
    "# and columns 1 and 2; b is the following array of shape (2, 2):\n",
    "# [[2 3]\n",
    "#  [6 7]]\n",
    "b = a[:2, 1:3]\n",
    "print(b)"
   ]
  },
  {
   "attachments": {},
   "cell_type": "markdown",
   "id": "83b68781",
   "metadata": {},
   "source": [
    "슬라이싱된 배열은 원본 배열과 같은 데이터를 참조합니다, 즉 슬라이싱된 배열을 수정하면 원본 배열 역시 수정됩니다."
   ]
  },
  {
   "cell_type": "code",
   "execution_count": 107,
   "id": "9b39c6b9",
   "metadata": {},
   "outputs": [
    {
     "name": "stdout",
     "output_type": "stream",
     "text": [
      "2\n",
      "77\n"
     ]
    }
   ],
   "source": [
    "print(a[0, 1])\n",
    "b[0, 0] = 77    # b[0, 0] is the same piece of data as a[0, 1]\n",
    "print(a[0, 1]) "
   ]
  },
  {
   "attachments": {},
   "cell_type": "markdown",
   "id": "e8ea57da",
   "metadata": {},
   "source": [
    "### Boolean Array Indexing\n",
    "Boolean array indexing을 통해 배열 속 요소를 취사선택할 수 있습니다. Boolean array indexing은 특정 조건을 만족하게 하는 요소만 선택하고자 할 때 자주 사용됩니다.:"
   ]
  },
  {
   "cell_type": "code",
   "execution_count": 108,
   "id": "5c5fb867",
   "metadata": {},
   "outputs": [
    {
     "name": "stdout",
     "output_type": "stream",
     "text": [
      "[[False False]\n",
      " [ True  True]\n",
      " [ True  True]]\n"
     ]
    }
   ],
   "source": [
    "import numpy as np\n",
    "\n",
    "a = np.array([[1,2], [3, 4], [5, 6]])\n",
    "\n",
    "bool_idx = (a > 2)  # Find the elements of a that are bigger than 2;\n",
    "                    # this returns a numpy array of Booleans of the same\n",
    "                    # shape as a, where each slot of bool_idx tells\n",
    "                    # whether that element of a is > 2.\n",
    "\n",
    "print(bool_idx)"
   ]
  },
  {
   "cell_type": "code",
   "execution_count": 109,
   "id": "801069f7",
   "metadata": {},
   "outputs": [
    {
     "name": "stdout",
     "output_type": "stream",
     "text": [
      "[3 4 5 6]\n",
      "[3 4 5 6]\n"
     ]
    }
   ],
   "source": [
    "# We use boolean array indexing to construct a rank 1 array\n",
    "# consisting of the elements of a corresponding to the True values\n",
    "# of bool_idx\n",
    "print(a[bool_idx])\n",
    "\n",
    "# We can do all of the above in a single concise statement:\n",
    "print(a[a > 2])"
   ]
  },
  {
   "attachments": {},
   "cell_type": "markdown",
   "id": "a7a86900",
   "metadata": {},
   "source": [
    "## [자료형]\n",
    "\n",
    "Numpy 배열은 동일한 자료형을 가지는 값들이 격자판 형태로 있는 것입니다. Numpy에선 배열을 구성하는 데 사용할 수 있는 다양한 숫자 자료형을 제공합니다. Numpy는 배열이 생성될 때 자료형을 스스로 추측합니다, 그러나 배열을 생성할 때 명시적으로 특정 자료형을 지정할 수도 있습니다. "
   ]
  },
  {
   "cell_type": "code",
   "execution_count": 110,
   "id": "6387d298",
   "metadata": {},
   "outputs": [
    {
     "name": "stdout",
     "output_type": "stream",
     "text": [
      "int64 float64 int32\n"
     ]
    }
   ],
   "source": [
    "x = np.array([1, 2])  # Let numpy choose the datatype\n",
    "y = np.array([1.0, 2.0])  # Let numpy choose the datatype\n",
    "z = np.array([1, 2], dtype=np.int32)  # Force a particular datatype\n",
    "\n",
    "print(x.dtype, y.dtype, z.dtype)"
   ]
  },
  {
   "attachments": {},
   "cell_type": "markdown",
   "id": "f45f5af0",
   "metadata": {},
   "source": [
    "## [배열 연산]\n",
    "기본적인 수학함수는 배열의 각 요소별로 동작하며 연산자를 통해 동작하거나 numpy 함수모듈을 통해 동작합니다:"
   ]
  },
  {
   "cell_type": "code",
   "execution_count": 111,
   "id": "4084958d",
   "metadata": {},
   "outputs": [],
   "source": [
    "x = np.array([[1,2],[3,4]], dtype=np.float64)\n",
    "y = np.array([[5,6],[7,8]], dtype=np.float64)"
   ]
  },
  {
   "cell_type": "code",
   "execution_count": 112,
   "id": "e4c20ccc",
   "metadata": {},
   "outputs": [
    {
     "name": "stdout",
     "output_type": "stream",
     "text": [
      "[[ 6.  8.]\n",
      " [10. 12.]]\n",
      "[[ 6.  8.]\n",
      " [10. 12.]]\n"
     ]
    }
   ],
   "source": [
    "# Elementwise sum; both produce the array\n",
    "print(x + y)\n",
    "print(np.add(x, y))"
   ]
  },
  {
   "cell_type": "code",
   "execution_count": 113,
   "id": "cf7ea967",
   "metadata": {},
   "outputs": [
    {
     "name": "stdout",
     "output_type": "stream",
     "text": [
      "[[-4. -4.]\n",
      " [-4. -4.]]\n",
      "[[-4. -4.]\n",
      " [-4. -4.]]\n"
     ]
    }
   ],
   "source": [
    "# Elementwise difference; both produce the array\n",
    "print(x - y)\n",
    "print(np.subtract(x, y))"
   ]
  },
  {
   "cell_type": "code",
   "execution_count": 114,
   "id": "135dc038",
   "metadata": {},
   "outputs": [
    {
     "name": "stdout",
     "output_type": "stream",
     "text": [
      "[[ 5. 12.]\n",
      " [21. 32.]]\n",
      "[[ 5. 12.]\n",
      " [21. 32.]]\n"
     ]
    }
   ],
   "source": [
    "# Elementwise product; both produce the array\n",
    "print(x * y)\n",
    "print(np.multiply(x, y))"
   ]
  },
  {
   "cell_type": "code",
   "execution_count": 115,
   "id": "f8691731",
   "metadata": {},
   "outputs": [
    {
     "name": "stdout",
     "output_type": "stream",
     "text": [
      "[[0.2        0.33333333]\n",
      " [0.42857143 0.5       ]]\n",
      "[[0.2        0.33333333]\n",
      " [0.42857143 0.5       ]]\n"
     ]
    }
   ],
   "source": [
    "# Elementwise division; both produce the array\n",
    "# [[ 0.2         0.33333333]\n",
    "#  [ 0.42857143  0.5       ]]\n",
    "print(x / y)\n",
    "print(np.divide(x, y))"
   ]
  },
  {
   "cell_type": "code",
   "execution_count": 116,
   "id": "8c038586",
   "metadata": {},
   "outputs": [
    {
     "name": "stdout",
     "output_type": "stream",
     "text": [
      "[[1.         1.41421356]\n",
      " [1.73205081 2.        ]]\n"
     ]
    }
   ],
   "source": [
    "# Elementwise square root; produces the array\n",
    "# [[ 1.          1.41421356]\n",
    "#  [ 1.73205081  2.        ]]\n",
    "print(np.sqrt(x))"
   ]
  },
  {
   "attachments": {},
   "cell_type": "markdown",
   "id": "af383fd4",
   "metadata": {},
   "source": [
    "`*`은 행렬의 곱셈이 아닌 element wise 곱셈이므로 행렬곱을 구하기 위해서는 `dot`연산을 사용"
   ]
  },
  {
   "cell_type": "code",
   "execution_count": 117,
   "id": "d9d0813e",
   "metadata": {},
   "outputs": [
    {
     "name": "stdout",
     "output_type": "stream",
     "text": [
      "219\n",
      "219\n"
     ]
    }
   ],
   "source": [
    "x = np.array([[1,2],\n",
    "              [3,4]])\n",
    "y = np.array([[5,6],\n",
    "              [7,8]])\n",
    "\n",
    "v = np.array([9, 10])\n",
    "w = np.array([11, 12])\n",
    "\n",
    "# Inner product of vectors; both produce 219\n",
    "print(v.dot(w))\n",
    "print(np.dot(v, w))"
   ]
  },
  {
   "attachments": {},
   "cell_type": "markdown",
   "id": "f9e7fe17",
   "metadata": {},
   "source": [
    "Python 3.5 버전부터 추가된 `@`연산자를 이용하여 행렬의 곱셈을 수행 가능"
   ]
  },
  {
   "cell_type": "code",
   "execution_count": 118,
   "id": "26c32dd5",
   "metadata": {},
   "outputs": [
    {
     "name": "stdout",
     "output_type": "stream",
     "text": [
      "219\n"
     ]
    }
   ],
   "source": [
    "print(v @ w)"
   ]
  },
  {
   "cell_type": "code",
   "execution_count": 119,
   "id": "70051a98",
   "metadata": {},
   "outputs": [
    {
     "name": "stdout",
     "output_type": "stream",
     "text": [
      "[29 67]\n",
      "[29 67]\n",
      "[29 67]\n"
     ]
    }
   ],
   "source": [
    "# Matrix / vector product; both produce the rank 1 array [29 67]\n",
    "print(x.dot(v))\n",
    "print(np.dot(x, v))\n",
    "print(x @ v)"
   ]
  },
  {
   "cell_type": "code",
   "execution_count": 120,
   "id": "39f61a9c",
   "metadata": {},
   "outputs": [
    {
     "data": {
      "text/plain": [
       "(array([[19, 22],\n",
       "        [43, 50]]),\n",
       " (2, 2))"
      ]
     },
     "execution_count": 120,
     "metadata": {},
     "output_type": "execute_result"
    }
   ],
   "source": [
    "x@y,(x@y).shape"
   ]
  },
  {
   "cell_type": "markdown",
   "id": "bf8f170b",
   "metadata": {},
   "source": [
    "## [브로드캐스팅]\n",
    "1. 두 배열이 동일한 rank를 가지고 있지 않다면, 낮은 rank의 1차원 배열이 높은 rank 배열의 shape로 간주합니다.\n",
    "2. 특정 차원에서 두 배열이 동일한 크기를 갖거나, 두 배열 중 하나의 크기가 1이라면 그 두 배열은 특정 차원에서 compatible하다고 여겨집니다.\n",
    "3. 두 행렬이 모든 차원에서 compatible하다면, 브로드캐스팅이 가능합니다.\n",
    "4. 브로드캐스팅이 이뤄지면, 각 배열 shape의 요소별 최소공배수로 이루어진 shape가 두 배열의 shape로 간주합니다.\n",
    "5. 차원에 상관없이 크기가 1인 배열과 1보다 큰 배열이 있을 때, 크기가 1인 배열은 자신의 차원 수만큼 복사되어 쌓인 것처럼 간주합니다."
   ]
  },
  {
   "cell_type": "code",
   "execution_count": 121,
   "id": "17bbebef",
   "metadata": {},
   "outputs": [
    {
     "name": "stdout",
     "output_type": "stream",
     "text": [
      "[[ 2  2  4]\n",
      " [ 5  5  7]\n",
      " [ 8  8 10]\n",
      " [11 11 13]]\n"
     ]
    }
   ],
   "source": [
    "# 행렬 x의 각 행에 벡터 v를 더한 뒤,\n",
    "# 그 결과를 행렬 y에 저장하고자 합니다\n",
    "x = np.array([[1,2,3], \n",
    "              [4,5,6], \n",
    "              [7,8,9], \n",
    "              [10,11,12]])\n",
    "v = np.array([1, 0, 1])\n",
    "y = np.empty_like(x)   # x와 동일한 shape를 가지며 비어있는 행렬 생성\n",
    "\n",
    "# 명시적 반복문을 통해 행렬 x의 각 행에 벡터 v를 더하는 방법\n",
    "for i in range(4):\n",
    "    y[i, :] = x[i, :] + v\n",
    "\n",
    "# 이제 y는 다음과 같습니다\n",
    "# [[ 2  2  4]\n",
    "#  [ 5  5  7]\n",
    "#  [ 8  8 10]\n",
    "#  [11 11 13]]\n",
    "print(y)"
   ]
  },
  {
   "cell_type": "code",
   "execution_count": 122,
   "id": "0aa4600b",
   "metadata": {},
   "outputs": [
    {
     "name": "stdout",
     "output_type": "stream",
     "text": [
      "[[1 0 1]\n",
      " [1 0 1]\n",
      " [1 0 1]\n",
      " [1 0 1]]\n",
      "[[ 2  2  4]\n",
      " [ 5  5  7]\n",
      " [ 8  8 10]\n",
      " [11 11 13]]\n"
     ]
    }
   ],
   "source": [
    "# 벡터 v를 행렬 x의 각 행에 더한 뒤,\n",
    "# 그 결과를 행렬 y에 저장하고자 합니다\n",
    "x = np.array([[1,2,3], \n",
    "              [4,5,6], \n",
    "              [7,8,9], \n",
    "              [10, 11, 12]])\n",
    "v = np.array([1, 0, 1])\n",
    "vv = np.tile(v, (4, 1))  # v의 복사본 4개를 위로 차곡차곡 쌓은 것이 vv\n",
    "print(vv)                 # 출력 \"[[1 0 1]\n",
    "                         #       [1 0 1]\n",
    "                         #       [1 0 1]\n",
    "                         #       [1 0 1]]\"\n",
    "y = x + vv  # x와 vv의 요소별 합\n",
    "print(y) # 출력 \"[[ 2  2  4\n",
    "         #       [ 5  5  7]\n",
    "         #       [ 8  8 10]\n",
    "         #       [11 11 13]]\""
   ]
  },
  {
   "cell_type": "code",
   "execution_count": 123,
   "id": "595b1cb3",
   "metadata": {},
   "outputs": [
    {
     "name": "stdout",
     "output_type": "stream",
     "text": [
      "[[ 2  2  4]\n",
      " [ 5  5  7]\n",
      " [ 8  8 10]\n",
      " [11 11 13]]\n"
     ]
    }
   ],
   "source": [
    "# 벡터 v를 행렬 x의 각 행에 더한 뒤,\n",
    "# 그 결과를 행렬 y에 저장하고자 합니다\n",
    "x = np.array([[1,2,3], \n",
    "              [4,5,6], \n",
    "              [7,8,9], \n",
    "              [10, 11, 12]])\n",
    "v = np.array([1, 0, 1])\n",
    "y = x + v  # 브로드캐스팅을 이용하여 v를 x의 각 행에 더하기\n",
    "print(y) # 출력 \"[[ 2  2  4]\n",
    "         #       [ 5  5  7]\n",
    "         #       [ 8  8 10]\n",
    "         #       [11 11 13]]\""
   ]
  },
  {
   "attachments": {},
   "cell_type": "markdown",
   "id": "bfb58d87",
   "metadata": {},
   "source": [
    "## [많이 사용하는 함수]\n",
    "\n",
    "`transpose`, `reshape`, `concat`, `vstack`, `hstack`, `stack`, `squeeze`, `expand_dim`(`unsqueeze`)"
   ]
  },
  {
   "attachments": {},
   "cell_type": "markdown",
   "id": "74ebc16e",
   "metadata": {},
   "source": [
    "### transpose"
   ]
  },
  {
   "cell_type": "code",
   "execution_count": 124,
   "id": "4d4ff0d1",
   "metadata": {},
   "outputs": [
    {
     "name": "stdout",
     "output_type": "stream",
     "text": [
      "[[1 4]\n",
      " [2 5]\n",
      " [3 6]]\n",
      "[[1 4]\n",
      " [2 5]\n",
      " [3 6]]\n"
     ]
    }
   ],
   "source": [
    "x = np.array([[1,2,3], [4,5,6]])\n",
    "print(x.T)\n",
    "print(np.transpose(x))"
   ]
  },
  {
   "attachments": {},
   "cell_type": "markdown",
   "id": "ade183de",
   "metadata": {},
   "source": [
    "### reshape"
   ]
  },
  {
   "cell_type": "code",
   "execution_count": 125,
   "id": "2ce5fa8a",
   "metadata": {},
   "outputs": [
    {
     "name": "stdout",
     "output_type": "stream",
     "text": [
      "[[1 2 3]\n",
      " [4 5 6]] (2, 3)\n",
      "[[1 2]\n",
      " [3 4]\n",
      " [5 6]] (3, 2)\n"
     ]
    }
   ],
   "source": [
    "x = np.array([[1,2,3], [4,5,6]])\n",
    "print(x, x.shape)\n",
    "x = x.reshape(3,2)\n",
    "print(x,x.shape)"
   ]
  },
  {
   "cell_type": "markdown",
   "id": "d20349ea",
   "metadata": {},
   "source": [
    "### concat"
   ]
  },
  {
   "cell_type": "code",
   "execution_count": 126,
   "id": "e09c46b3",
   "metadata": {},
   "outputs": [
    {
     "data": {
      "text/plain": [
       "array([[1, 2],\n",
       "       [3, 4],\n",
       "       [5, 6]])"
      ]
     },
     "execution_count": 126,
     "metadata": {},
     "output_type": "execute_result"
    }
   ],
   "source": [
    "a = np.array([[1, 2], [3, 4]])\n",
    "b = np.array([[5, 6]])\n",
    "np.concatenate((a, b), axis=0)"
   ]
  },
  {
   "cell_type": "code",
   "execution_count": 127,
   "id": "1adf90ca",
   "metadata": {},
   "outputs": [
    {
     "data": {
      "text/plain": [
       "array([[1, 2, 5],\n",
       "       [3, 4, 6]])"
      ]
     },
     "execution_count": 127,
     "metadata": {},
     "output_type": "execute_result"
    }
   ],
   "source": [
    "np.concatenate((a, b.T), axis=1)"
   ]
  },
  {
   "cell_type": "markdown",
   "id": "e7d892eb",
   "metadata": {},
   "source": [
    "### vstack"
   ]
  },
  {
   "cell_type": "code",
   "execution_count": 128,
   "id": "62c512e3",
   "metadata": {},
   "outputs": [
    {
     "data": {
      "text/plain": [
       "array([[1, 2],\n",
       "       [3, 4],\n",
       "       [5, 6],\n",
       "       [7, 8]])"
      ]
     },
     "execution_count": 128,
     "metadata": {},
     "output_type": "execute_result"
    }
   ],
   "source": [
    "x = np.array([[1, 2], \n",
    "              [3, 4]])\n",
    "y = np.array([[5, 6], \n",
    "              [7, 8]])\n",
    "np.vstack((x,y))    # 행결합"
   ]
  },
  {
   "cell_type": "code",
   "execution_count": 129,
   "id": "709ea3da",
   "metadata": {},
   "outputs": [
    {
     "data": {
      "text/plain": [
       "array([[1, 2],\n",
       "       [3, 4],\n",
       "       [5, 6],\n",
       "       [7, 8]])"
      ]
     },
     "execution_count": 129,
     "metadata": {},
     "output_type": "execute_result"
    }
   ],
   "source": [
    "np.concatenate((x, y), axis=0)"
   ]
  },
  {
   "cell_type": "markdown",
   "id": "9f6a77a1",
   "metadata": {},
   "source": [
    "### hstack"
   ]
  },
  {
   "cell_type": "code",
   "execution_count": 130,
   "id": "8d0a1c78",
   "metadata": {},
   "outputs": [
    {
     "data": {
      "text/plain": [
       "array([[1, 2, 5, 6],\n",
       "       [3, 4, 7, 8]])"
      ]
     },
     "execution_count": 130,
     "metadata": {},
     "output_type": "execute_result"
    }
   ],
   "source": [
    "x = np.array([[1, 2], \n",
    "              [3, 4]])\n",
    "y = np.array([[5, 6], \n",
    "              [7, 8]])\n",
    "np.hstack((x,y))    # 열결합"
   ]
  },
  {
   "cell_type": "code",
   "execution_count": 131,
   "id": "6c5559f3",
   "metadata": {},
   "outputs": [
    {
     "data": {
      "text/plain": [
       "array([[1, 2, 5, 6],\n",
       "       [3, 4, 7, 8]])"
      ]
     },
     "execution_count": 131,
     "metadata": {},
     "output_type": "execute_result"
    }
   ],
   "source": [
    "np.concatenate((x, y), axis=1)"
   ]
  },
  {
   "attachments": {},
   "cell_type": "markdown",
   "id": "77d50af9",
   "metadata": {},
   "source": [
    "### stack\n",
    "- stack 함수는 지정한 axis를 완전히 새로운 axis로 생각\n",
    "- 지정한 axis 기준으로 reshape 후 concatenate"
   ]
  },
  {
   "cell_type": "code",
   "execution_count": 132,
   "id": "20d05f46",
   "metadata": {},
   "outputs": [],
   "source": [
    "a = np.array([[1, 2], \n",
    "              [3, 4]]) # a.shape=(2, 2)\n",
    "b = np.array([[5, 6]]) # b.shape=(2, 1)"
   ]
  },
  {
   "cell_type": "code",
   "execution_count": 133,
   "id": "e4b1b1ea",
   "metadata": {},
   "outputs": [],
   "source": [
    "# np.stack((a, b), axis=0) "
   ]
  },
  {
   "cell_type": "code",
   "execution_count": 134,
   "id": "9392f6c3",
   "metadata": {},
   "outputs": [],
   "source": [
    "a = np.array([[1, 2], \n",
    "              [3, 4]]) # a.shape=(2, 2)\n",
    "b = np.array([[5, 6], \n",
    "              [7, 8]]) # b.shape=(2, 2)"
   ]
  },
  {
   "cell_type": "code",
   "execution_count": 135,
   "id": "a079b744",
   "metadata": {},
   "outputs": [
    {
     "name": "stdout",
     "output_type": "stream",
     "text": [
      "[[[1 2]\n",
      "  [3 4]]\n",
      "\n",
      " [[5 6]\n",
      "  [7 8]]] (2, 2, 2)\n"
     ]
    }
   ],
   "source": [
    "c = np.stack((a, b), axis=0) \n",
    "print(c, c.shape)"
   ]
  },
  {
   "cell_type": "code",
   "execution_count": 136,
   "id": "7e6b6cf7",
   "metadata": {},
   "outputs": [
    {
     "name": "stdout",
     "output_type": "stream",
     "text": [
      "[[[1 2]\n",
      "  [5 6]]\n",
      "\n",
      " [[3 4]\n",
      "  [7 8]]] (2, 2, 2)\n"
     ]
    }
   ],
   "source": [
    "c = np.stack((a, b), axis=1) \n",
    "print(c, c.shape)"
   ]
  },
  {
   "cell_type": "code",
   "execution_count": 137,
   "id": "713bcfff",
   "metadata": {},
   "outputs": [
    {
     "name": "stdout",
     "output_type": "stream",
     "text": [
      "[[[1 5]\n",
      "  [2 6]]\n",
      "\n",
      " [[3 7]\n",
      "  [4 8]]] (2, 2, 2)\n"
     ]
    }
   ],
   "source": [
    "c = np.stack((a, b), axis=2) \n",
    "print(c, c.shape)"
   ]
  },
  {
   "attachments": {},
   "cell_type": "markdown",
   "id": "3277c41b",
   "metadata": {},
   "source": [
    "### squeeze"
   ]
  },
  {
   "cell_type": "code",
   "execution_count": 138,
   "id": "775fdafb",
   "metadata": {},
   "outputs": [
    {
     "name": "stdout",
     "output_type": "stream",
     "text": [
      "[[1 2 3]] (1, 3)\n",
      "[1 2 3] (3,)\n"
     ]
    }
   ],
   "source": [
    "a = np.array([[1,2,3]])\n",
    "print(a, a.shape)\n",
    "a= a.squeeze(0)\n",
    "print(a, a.shape)"
   ]
  },
  {
   "attachments": {},
   "cell_type": "markdown",
   "id": "2faba86b",
   "metadata": {},
   "source": [
    "### expand_dims"
   ]
  },
  {
   "cell_type": "code",
   "execution_count": 139,
   "id": "d54d4882",
   "metadata": {},
   "outputs": [
    {
     "name": "stdout",
     "output_type": "stream",
     "text": [
      "[1 2 3] (3,)\n",
      "[[1 2 3]] (1, 3)\n"
     ]
    }
   ],
   "source": [
    "a = np.array([1,2,3])\n",
    "print(a, a.shape)\n",
    "a= np.expand_dims(a,0)\n",
    "print(a, a.shape)"
   ]
  },
  {
   "attachments": {},
   "cell_type": "markdown",
   "id": "aa5c5cfd",
   "metadata": {},
   "source": [
    "# Matplotlib\n",
    "\n",
    "Matplotlib는 plotting 라이브러리입니다. 이번에는 MATLAB의 plotting 시스템과 유사한 기능을 제공하는 `matplotlib.pyplot` 모듈에 관한 간략한 소개가 있겠습니다.,"
   ]
  },
  {
   "cell_type": "code",
   "execution_count": 140,
   "id": "86e03f11",
   "metadata": {},
   "outputs": [],
   "source": [
    "import matplotlib.pyplot as plt\n",
    "%matplotlib inline  "
   ]
  },
  {
   "cell_type": "code",
   "execution_count": 141,
   "id": "309f5fec",
   "metadata": {},
   "outputs": [
    {
     "data": {
      "text/plain": [
       "[<matplotlib.lines.Line2D at 0x7f36159c01c0>]"
      ]
     },
     "execution_count": 141,
     "metadata": {},
     "output_type": "execute_result"
    },
    {
     "data": {
      "image/png": "[encoded data removed]",
      "text/plain": [
       "<Figure size 640x480 with 1 Axes>"
      ]
     },
     "metadata": {},
     "output_type": "display_data"
    }
   ],
   "source": [
    "# Compute the x and y coordinates for points on a sine curve\n",
    "x = np.arange(0, 3 * np.pi, 0.1)\n",
    "y = np.sin(x)\n",
    "\n",
    "# Plot the points using matplotlib\n",
    "plt.plot(x, y)"
   ]
  },
  {
   "cell_type": "code",
   "execution_count": 142,
   "id": "d0d1765e",
   "metadata": {},
   "outputs": [
    {
     "data": {
      "text/plain": [
       "<matplotlib.legend.Legend at 0x7f361596b760>"
      ]
     },
     "execution_count": 142,
     "metadata": {},
     "output_type": "execute_result"
    },
    {
     "data": {
      "image/png": "[encoded data removed]",
      "text/plain": [
       "<Figure size 640x480 with 1 Axes>"
      ]
     },
     "metadata": {},
     "output_type": "display_data"
    }
   ],
   "source": [
    "y_sin = np.sin(x)\n",
    "y_cos = np.cos(x)\n",
    "\n",
    "# Plot the points using matplotlib\n",
    "plt.plot(x, y_sin)\n",
    "plt.plot(x, y_cos)\n",
    "plt.xlabel('x axis label')\n",
    "plt.ylabel('y axis label')\n",
    "plt.title('Sine and Cosine')\n",
    "plt.legend(['Sine', 'Cosine'])"
   ]
  },
  {
   "cell_type": "code",
   "execution_count": 143,
   "id": "789e63bc",
   "metadata": {},
   "outputs": [
    {
     "data": {
      "image/png": "[encoded data removed]",
      "text/plain": [
       "<Figure size 640x480 with 2 Axes>"
      ]
     },
     "metadata": {},
     "output_type": "display_data"
    }
   ],
   "source": [
    "# Compute the x and y coordinates for points on sine and cosine curves\n",
    "x = np.arange(0, 3 * np.pi, 0.1)\n",
    "y_sin = np.sin(x)\n",
    "y_cos = np.cos(x)\n",
    "\n",
    "# Set up a subplot grid that has height 2 and width 1,\n",
    "# and set the first such subplot as active.\n",
    "plt.subplot(2, 1, 1)\n",
    "\n",
    "# Make the first plot\n",
    "plt.plot(x, y_sin)\n",
    "plt.title('Sine')\n",
    "\n",
    "# Set the second subplot as active, and make the second plot.\n",
    "plt.subplot(2, 1, 2)\n",
    "plt.plot(x, y_cos)\n",
    "plt.title('Cosine')\n",
    "\n",
    "# Show the figure.\n",
    "plt.show()"
   ]
  },
  {
   "cell_type": "code",
   "execution_count": 144,
   "id": "297c50d7",
   "metadata": {},
   "outputs": [
    {
     "data": {
      "image/png": "[encoded data removed]",
      "text/plain": [
       "<Figure size 640x480 with 2 Axes>"
      ]
     },
     "metadata": {},
     "output_type": "display_data"
    }
   ],
   "source": [
    "# Compute the x and y coordinates for points on sine and cosine curves\n",
    "x = np.arange(0, 3 * np.pi, 0.1)\n",
    "y_sin = np.sin(x)\n",
    "y_cos = np.cos(x)\n",
    "\n",
    "# Set up a subplot grid that has height 2 and width 1,\n",
    "# and set the first such subplot as active.\n",
    "plt.subplot(2, 1, 1)\n",
    "\n",
    "# Make the first plot\n",
    "plt.plot(x, y_sin)\n",
    "plt.title('Sine')\n",
    "\n",
    "# Set the second subplot as active, and make the second plot.\n",
    "plt.subplot(2, 1, 2)\n",
    "plt.plot(x, y_cos)\n",
    "plt.title('Cosine')\n",
    "\n",
    "# Show the figure.\n",
    "plt.tight_layout()\n",
    "plt.show()"
   ]
  },
  {
   "attachments": {},
   "cell_type": "markdown",
   "id": "10c9b554",
   "metadata": {},
   "source": [
    "## numpy 와 matplotlib 을 이용한 음성신호 생성  및 시각화"
   ]
  },
  {
   "cell_type": "code",
   "execution_count": 145,
   "id": "70a9863b",
   "metadata": {},
   "outputs": [
    {
     "data": {
      "text/plain": [
       "[<matplotlib.lines.Line2D at 0x7f3615907250>]"
      ]
     },
     "execution_count": 145,
     "metadata": {},
     "output_type": "execute_result"
    },
    {
     "data": {
      "image/png": "[encoded data removed]",
      "text/plain": [
       "<Figure size 640x480 with 1 Axes>"
      ]
     },
     "metadata": {},
     "output_type": "display_data"
    }
   ],
   "source": [
    "sr = 16000\n",
    "dur = 3\n",
    "F = 440\n",
    "t = np.arange(dur*sr)/sr\n",
    "sig = np.sin(2*t*np.pi*440) \n",
    "plt.plot(sig[:100])"
   ]
  },
  {
   "cell_type": "code",
   "execution_count": 146,
   "id": "8ee07cba",
   "metadata": {},
   "outputs": [],
   "source": [
    "import IPython.display as ipd"
   ]
  },
  {
   "cell_type": "code",
   "execution_count": 147,
   "id": "190758d0",
   "metadata": {},
   "outputs": [
    {
     "data": {
      "text/html": [
       "\n",
       "                <audio  controls=\"controls\" >\n",
       "                    <source src=\"data:audio/wav;base64,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\" type=\"audio/wav\" />\n",
       "                    Your browser does not support the audio element.\n",
       "                </audio>\n",
       "              "
      ],
      "text/plain": [
       "<IPython.lib.display.Audio object>"
      ]
     },
     "execution_count": 147,
     "metadata": {},
     "output_type": "execute_result"
    }
   ],
   "source": [
    "ipd.Audio(sig,rate=sr)"
   ]
  },
  {
   "attachments": {},
   "cell_type": "markdown",
   "id": "4a846c23",
   "metadata": {},
   "source": [
    "## 연습문제\n",
    "A4(4옥타브 라)에 해당하는 주파수는 440Hz이다.\n",
    "\n",
    "C4~C5에 해당하는 주파수가 아래와 같이 주어졌을때\n",
    "\n",
    "진폭과 주파수가 1초단위로 변경하는 음성 샘플을 생성하라"
   ]
  },
  {
   "cell_type": "code",
   "execution_count": 148,
   "id": "5ba4a770",
   "metadata": {},
   "outputs": [],
   "source": [
    "#Frequency(Hz) of C4 to C5 scales\n",
    "scales = [261.63, 293.66, 329.63, 349.23, 392.00, 440.00, 493.88, 523.25] \n",
    "sr = 16000\n",
    "dur = 1\n",
    "t = np.arange(dur*sr)/sr\n",
    "x = []\n"
   ]
  },
  {
   "cell_type": "code",
   "execution_count": 149,
   "id": "612ea013",
   "metadata": {},
   "outputs": [
    {
     "ename": "ValueError",
     "evalue": "zero-size array to reduction operation maximum which has no identity",
     "output_type": "error",
     "traceback": [
      "\u001b[0;31m---------------------------------------------------------------------------\u001b[0m",
      "\u001b[0;31mValueError\u001b[0m                                Traceback (most recent call last)",
      "\u001b[1;32m/home/yoonseo/2023_AI_Academy_ASR/0_tutorial.ipynb Cell 89\u001b[0m in \u001b[0;36m<cell line: 1>\u001b[0;34m()\u001b[0m\n\u001b[0;32m----> <a href='vscode-notebook-cell://ssh-remote%2Bkresnik/home/yoonseo/2023_AI_Academy_ASR/0_tutorial.ipynb#Y305sdnNjb2RlLXJlbW90ZQ%3D%3D?line=0'>1</a>\u001b[0m ipd\u001b[39m.\u001b[39;49mAudio(x,rate\u001b[39m=\u001b[39;49msr)\n",
      "File \u001b[0;32m~/.local/lib/python3.9/site-packages/IPython/lib/display.py:130\u001b[0m, in \u001b[0;36mAudio.__init__\u001b[0;34m(self, data, filename, url, embed, rate, autoplay, normalize, element_id)\u001b[0m\n\u001b[1;32m    128\u001b[0m \u001b[39mif\u001b[39;00m rate \u001b[39mis\u001b[39;00m \u001b[39mNone\u001b[39;00m:\n\u001b[1;32m    129\u001b[0m     \u001b[39mraise\u001b[39;00m \u001b[39mValueError\u001b[39;00m(\u001b[39m\"\u001b[39m\u001b[39mrate must be specified when data is a numpy array or list of audio samples.\u001b[39m\u001b[39m\"\u001b[39m)\n\u001b[0;32m--> 130\u001b[0m \u001b[39mself\u001b[39m\u001b[39m.\u001b[39mdata \u001b[39m=\u001b[39m Audio\u001b[39m.\u001b[39;49m_make_wav(data, rate, normalize)\n",
      "File \u001b[0;32m~/.local/lib/python3.9/site-packages/IPython/lib/display.py:152\u001b[0m, in \u001b[0;36mAudio._make_wav\u001b[0;34m(data, rate, normalize)\u001b[0m\n\u001b[1;32m    149\u001b[0m \u001b[39mimport\u001b[39;00m \u001b[39mwave\u001b[39;00m\n\u001b[1;32m    151\u001b[0m \u001b[39mtry\u001b[39;00m:\n\u001b[0;32m--> 152\u001b[0m     scaled, nchan \u001b[39m=\u001b[39m Audio\u001b[39m.\u001b[39;49m_validate_and_normalize_with_numpy(data, normalize)\n\u001b[1;32m    153\u001b[0m \u001b[39mexcept\u001b[39;00m \u001b[39mImportError\u001b[39;00m:\n\u001b[1;32m    154\u001b[0m     scaled, nchan \u001b[39m=\u001b[39m Audio\u001b[39m.\u001b[39m_validate_and_normalize_without_numpy(data, normalize)\n",
      "File \u001b[0;32m~/.local/lib/python3.9/site-packages/IPython/lib/display.py:185\u001b[0m, in \u001b[0;36mAudio._validate_and_normalize_with_numpy\u001b[0;34m(data, normalize)\u001b[0m\n\u001b[1;32m    182\u001b[0m \u001b[39melse\u001b[39;00m:\n\u001b[1;32m    183\u001b[0m     \u001b[39mraise\u001b[39;00m \u001b[39mValueError\u001b[39;00m(\u001b[39m'\u001b[39m\u001b[39mArray audio input must be a 1D or 2D array\u001b[39m\u001b[39m'\u001b[39m)\n\u001b[0;32m--> 185\u001b[0m max_abs_value \u001b[39m=\u001b[39m np\u001b[39m.\u001b[39;49mmax(np\u001b[39m.\u001b[39;49mabs(data))\n\u001b[1;32m    186\u001b[0m normalization_factor \u001b[39m=\u001b[39m Audio\u001b[39m.\u001b[39m_get_normalization_factor(max_abs_value, normalize)\n\u001b[1;32m    187\u001b[0m scaled \u001b[39m=\u001b[39m data \u001b[39m/\u001b[39m normalization_factor \u001b[39m*\u001b[39m \u001b[39m32767\u001b[39m\n",
      "File \u001b[0;32m<__array_function__ internals>:180\u001b[0m, in \u001b[0;36mamax\u001b[0;34m(*args, **kwargs)\u001b[0m\n",
      "File \u001b[0;32m~/.local/lib/python3.9/site-packages/numpy/core/fromnumeric.py:2791\u001b[0m, in \u001b[0;36mamax\u001b[0;34m(a, axis, out, keepdims, initial, where)\u001b[0m\n\u001b[1;32m   2675\u001b[0m \u001b[39m@array_function_dispatch\u001b[39m(_amax_dispatcher)\n\u001b[1;32m   2676\u001b[0m \u001b[39mdef\u001b[39;00m \u001b[39mamax\u001b[39m(a, axis\u001b[39m=\u001b[39m\u001b[39mNone\u001b[39;00m, out\u001b[39m=\u001b[39m\u001b[39mNone\u001b[39;00m, keepdims\u001b[39m=\u001b[39mnp\u001b[39m.\u001b[39m_NoValue, initial\u001b[39m=\u001b[39mnp\u001b[39m.\u001b[39m_NoValue,\n\u001b[1;32m   2677\u001b[0m          where\u001b[39m=\u001b[39mnp\u001b[39m.\u001b[39m_NoValue):\n\u001b[1;32m   2678\u001b[0m     \u001b[39m\"\"\"\u001b[39;00m\n\u001b[1;32m   2679\u001b[0m \u001b[39m    Return the maximum of an array or maximum along an axis.\u001b[39;00m\n\u001b[1;32m   2680\u001b[0m \n\u001b[0;32m   (...)\u001b[0m\n\u001b[1;32m   2789\u001b[0m \u001b[39m    5\u001b[39;00m\n\u001b[1;32m   2790\u001b[0m \u001b[39m    \"\"\"\u001b[39;00m\n\u001b[0;32m-> 2791\u001b[0m     \u001b[39mreturn\u001b[39;00m _wrapreduction(a, np\u001b[39m.\u001b[39;49mmaximum, \u001b[39m'\u001b[39;49m\u001b[39mmax\u001b[39;49m\u001b[39m'\u001b[39;49m, axis, \u001b[39mNone\u001b[39;49;00m, out,\n\u001b[1;32m   2792\u001b[0m                           keepdims\u001b[39m=\u001b[39;49mkeepdims, initial\u001b[39m=\u001b[39;49minitial, where\u001b[39m=\u001b[39;49mwhere)\n",
      "File \u001b[0;32m~/.local/lib/python3.9/site-packages/numpy/core/fromnumeric.py:86\u001b[0m, in \u001b[0;36m_wrapreduction\u001b[0;34m(obj, ufunc, method, axis, dtype, out, **kwargs)\u001b[0m\n\u001b[1;32m     83\u001b[0m         \u001b[39melse\u001b[39;00m:\n\u001b[1;32m     84\u001b[0m             \u001b[39mreturn\u001b[39;00m reduction(axis\u001b[39m=\u001b[39maxis, out\u001b[39m=\u001b[39mout, \u001b[39m*\u001b[39m\u001b[39m*\u001b[39mpasskwargs)\n\u001b[0;32m---> 86\u001b[0m \u001b[39mreturn\u001b[39;00m ufunc\u001b[39m.\u001b[39;49mreduce(obj, axis, dtype, out, \u001b[39m*\u001b[39;49m\u001b[39m*\u001b[39;49mpasskwargs)\n",
      "\u001b[0;31mValueError\u001b[0m: zero-size array to reduction operation maximum which has no identity"
     ]
    }
   ],
   "source": [
    "ipd.Audio(x,rate=sr)"
   ]
  },
  {
   "cell_type": "markdown",
   "id": "e7a22aee",
   "metadata": {},
   "source": [
    "# PyTorch Tensor\n",
    "텐서 등의 다양한 수학 함수가 포함되어져 있으며 Numpy와 유사한 구조를 가집니다."
   ]
  },
  {
   "cell_type": "markdown",
   "id": "c819aecc",
   "metadata": {},
   "source": [
    "## [파이토치 텐서]"
   ]
  },
  {
   "cell_type": "code",
   "execution_count": 150,
   "id": "baeb490f",
   "metadata": {},
   "outputs": [],
   "source": [
    "import torch"
   ]
  },
  {
   "cell_type": "markdown",
   "id": "3dfb19e8",
   "metadata": {},
   "source": [
    "### 1D 배열 생성"
   ]
  },
  {
   "cell_type": "code",
   "execution_count": 151,
   "id": "0827cdc2",
   "metadata": {},
   "outputs": [
    {
     "name": "stdout",
     "output_type": "stream",
     "text": [
      "tensor([0., 1., 2., 3., 4., 5., 6.])\n"
     ]
    }
   ],
   "source": [
    "t = torch.FloatTensor([0., 1., 2., 3., 4., 5., 6.])\n",
    "print(t)"
   ]
  },
  {
   "cell_type": "code",
   "execution_count": 152,
   "id": "8ace0198",
   "metadata": {},
   "outputs": [
    {
     "name": "stdout",
     "output_type": "stream",
     "text": [
      "1\n",
      "torch.Size([7])\n",
      "torch.Size([7])\n"
     ]
    }
   ],
   "source": [
    "print(t.dim())  # rank\n",
    "print(t.shape)  # shape\n",
    "print(t.size()) # shape"
   ]
  },
  {
   "cell_type": "markdown",
   "id": "a4f74936",
   "metadata": {},
   "source": [
    "### 1D 배열 인덱스를 통한 원소 접근 및 슬라이싱"
   ]
  },
  {
   "cell_type": "code",
   "execution_count": 153,
   "id": "30077c17",
   "metadata": {},
   "outputs": [
    {
     "name": "stdout",
     "output_type": "stream",
     "text": [
      "tensor(0.) tensor(1.) tensor(6.)\n",
      "tensor([2., 3.]) tensor([0., 1.])\n"
     ]
    }
   ],
   "source": [
    "print(t[0], t[1], t[-1])  \n",
    "print(t[2:4], t[:2])       "
   ]
  },
  {
   "cell_type": "markdown",
   "id": "2f9ab134",
   "metadata": {},
   "source": [
    "### 2D 배열 생성"
   ]
  },
  {
   "cell_type": "code",
   "execution_count": 154,
   "id": "8fb17945",
   "metadata": {},
   "outputs": [
    {
     "name": "stdout",
     "output_type": "stream",
     "text": [
      "tensor([[ 1.,  2.,  3.],\n",
      "        [ 4.,  5.,  6.],\n",
      "        [ 7.,  8.,  9.],\n",
      "        [10., 11., 12.]])\n"
     ]
    }
   ],
   "source": [
    "t = torch.FloatTensor([[1., 2., 3.],\n",
    "                       [4., 5., 6.],\n",
    "                       [7., 8., 9.],\n",
    "                       [10., 11., 12.]\n",
    "                      ])\n",
    "print(t)"
   ]
  },
  {
   "cell_type": "code",
   "execution_count": 155,
   "id": "502826b6",
   "metadata": {},
   "outputs": [
    {
     "name": "stdout",
     "output_type": "stream",
     "text": [
      "2\n",
      "torch.Size([4, 3])\n"
     ]
    }
   ],
   "source": [
    "print(t.dim())  # rank\n",
    "print(t.size()) # shape"
   ]
  },
  {
   "cell_type": "markdown",
   "id": "9d7845db",
   "metadata": {},
   "source": [
    "### 2D 배열 인덱스를 통한 원소 접근 및 슬라이싱"
   ]
  },
  {
   "cell_type": "code",
   "execution_count": 156,
   "id": "e6cc187f",
   "metadata": {},
   "outputs": [
    {
     "name": "stdout",
     "output_type": "stream",
     "text": [
      "tensor([ 2.,  5.,  8., 11.])\n",
      "torch.Size([4])\n"
     ]
    }
   ],
   "source": [
    "print(t[:, 1]) \n",
    "print(t[:, 1].size()) "
   ]
  },
  {
   "cell_type": "code",
   "execution_count": 157,
   "id": "0939a0ed",
   "metadata": {},
   "outputs": [
    {
     "name": "stdout",
     "output_type": "stream",
     "text": [
      "tensor([[ 1.,  2.],\n",
      "        [ 4.,  5.],\n",
      "        [ 7.,  8.],\n",
      "        [10., 11.]])\n"
     ]
    }
   ],
   "source": [
    "print(t[:, :-1])"
   ]
  },
  {
   "cell_type": "markdown",
   "id": "93bbd9b9",
   "metadata": {},
   "source": [
    "## [브로드캐스팅]"
   ]
  },
  {
   "cell_type": "code",
   "execution_count": 158,
   "id": "120ce3f1",
   "metadata": {},
   "outputs": [
    {
     "name": "stdout",
     "output_type": "stream",
     "text": [
      "tensor([[4., 6.]])\n"
     ]
    }
   ],
   "source": [
    "m1 = torch.Tensor([[1, 2]])\n",
    "m2 = torch.Tensor([[3, 4]])\n",
    "print(m1 + m2)"
   ]
  },
  {
   "cell_type": "code",
   "execution_count": 159,
   "id": "6eb117ed",
   "metadata": {},
   "outputs": [
    {
     "name": "stdout",
     "output_type": "stream",
     "text": [
      "tensor([[4., 5.]])\n"
     ]
    }
   ],
   "source": [
    "m1 = torch.Tensor([[1, 2]])\n",
    "m2 = torch.Tensor([3]) # [3] -> [3, 3]\n",
    "print(m1 + m2)"
   ]
  },
  {
   "cell_type": "code",
   "execution_count": 160,
   "id": "9b5350cb",
   "metadata": {},
   "outputs": [
    {
     "name": "stdout",
     "output_type": "stream",
     "text": [
      "tensor([[4., 5.],\n",
      "        [5., 6.]])\n"
     ]
    }
   ],
   "source": [
    "m1 = torch.Tensor([[1, 2]])\n",
    "m2 = torch.Tensor([[3], [4]])\n",
    "print(m1 + m2)\n",
    "\n",
    "\n",
    "# [1, 2]\n",
    "# ==> [[1, 2],\n",
    "#      [1, 2]]\n",
    "# [3]\n",
    "# [4]\n",
    "# ==> [[3, 3],\n",
    "#      [4, 4]]"
   ]
  },
  {
   "cell_type": "markdown",
   "id": "e438a96b",
   "metadata": {},
   "source": [
    "## [텐서 연산]"
   ]
  },
  {
   "cell_type": "markdown",
   "id": "1f39aeb6",
   "metadata": {},
   "source": [
    "### matrix multiplication , multiplication"
   ]
  },
  {
   "cell_type": "code",
   "execution_count": 161,
   "id": "4fc0103c",
   "metadata": {},
   "outputs": [
    {
     "name": "stdout",
     "output_type": "stream",
     "text": [
      "tensor([[ 5.],\n",
      "        [11.]])\n"
     ]
    }
   ],
   "source": [
    "m1 = torch.Tensor([[1, 2], \n",
    "                   [3, 4]])\n",
    "m2 = torch.Tensor([[1], \n",
    "                   [2]])\n",
    "print(m1.matmul(m2)) # 2 x 1"
   ]
  },
  {
   "cell_type": "code",
   "execution_count": 162,
   "id": "a7f55070",
   "metadata": {},
   "outputs": [
    {
     "name": "stdout",
     "output_type": "stream",
     "text": [
      "tensor([[1., 2.],\n",
      "        [6., 8.]])\n",
      "tensor([[1., 2.],\n",
      "        [6., 8.]])\n"
     ]
    }
   ],
   "source": [
    "m1 = torch.Tensor([[1, 2], \n",
    "                   [3, 4]])\n",
    "m2 = torch.Tensor([[1], \n",
    "                   [2]])\n",
    "print(m1 * m2) # 2 x 2\n",
    "print(m1.mul(m2))"
   ]
  },
  {
   "cell_type": "markdown",
   "id": "b273a9a9",
   "metadata": {},
   "source": [
    "### Mean"
   ]
  },
  {
   "cell_type": "code",
   "execution_count": 163,
   "id": "aa32ae0f",
   "metadata": {},
   "outputs": [
    {
     "name": "stdout",
     "output_type": "stream",
     "text": [
      "tensor(1.5000)\n"
     ]
    }
   ],
   "source": [
    "t = torch.Tensor([1, 2])\n",
    "print(t.mean())"
   ]
  },
  {
   "cell_type": "code",
   "execution_count": 164,
   "id": "5f3a5478",
   "metadata": {},
   "outputs": [
    {
     "name": "stdout",
     "output_type": "stream",
     "text": [
      "tensor(2.5000)\n"
     ]
    }
   ],
   "source": [
    "t = torch.Tensor([[1, 2], \n",
    "                  [3, 4]])\n",
    "print(t.mean())     "
   ]
  },
  {
   "cell_type": "code",
   "execution_count": 165,
   "id": "ad96c068",
   "metadata": {},
   "outputs": [
    {
     "name": "stdout",
     "output_type": "stream",
     "text": [
      "tensor([2., 3.])\n"
     ]
    }
   ],
   "source": [
    "print(t.mean(dim=0))    # 행을 제거하고 열만 남긴다. "
   ]
  },
  {
   "cell_type": "code",
   "execution_count": 166,
   "id": "83a1d14a",
   "metadata": {},
   "outputs": [
    {
     "name": "stdout",
     "output_type": "stream",
     "text": [
      "tensor([1.5000, 3.5000])\n"
     ]
    }
   ],
   "source": [
    "print(t.mean(dim=1))    # 열을 제거하고 행만 남긴다. "
   ]
  },
  {
   "cell_type": "markdown",
   "id": "08434d1b",
   "metadata": {},
   "source": [
    "### Sum"
   ]
  },
  {
   "cell_type": "code",
   "execution_count": 167,
   "id": "27cbb59e",
   "metadata": {},
   "outputs": [
    {
     "name": "stdout",
     "output_type": "stream",
     "text": [
      "tensor(10.)\n",
      "tensor([4., 6.])\n",
      "tensor([3., 7.])\n",
      "tensor([3., 7.])\n"
     ]
    }
   ],
   "source": [
    "t = torch.Tensor([[1, 2], \n",
    "                  [3, 4]])\n",
    "print(t.sum())          # 단순히 원소 전체의 덧셈을 수행\n",
    "print(t.sum(dim=0))     # 행을 제거\n",
    "print(t.sum(dim=1))     # 열을 제거\n",
    "print(t.sum(dim=-1))    # 열을 제거"
   ]
  },
  {
   "cell_type": "markdown",
   "id": "8e1b1282",
   "metadata": {},
   "source": [
    "### Max, ArgMax"
   ]
  },
  {
   "cell_type": "code",
   "execution_count": 168,
   "id": "8b715e08",
   "metadata": {},
   "outputs": [
    {
     "name": "stdout",
     "output_type": "stream",
     "text": [
      "tensor(4.)\n",
      "tensor([3., 4.]) tensor([1, 1])\n",
      "tensor([2., 4.]) tensor([1, 1])\n"
     ]
    }
   ],
   "source": [
    "t = torch.Tensor([[1, 2], \n",
    "                  [3, 4]])\n",
    "print(t.max())\n",
    "print(t.max(dim=0)[0], t.max(dim=0)[1])     # Max, ArgMax\n",
    "print(t.max(dim=1)[0], t.max(dim=1)[1])     # Max, ArgMax"
   ]
  },
  {
   "cell_type": "markdown",
   "id": "5d0d703f",
   "metadata": {},
   "source": [
    "## 많이 사용하는 함수"
   ]
  },
  {
   "cell_type": "markdown",
   "id": "51c3e317",
   "metadata": {},
   "source": [
    "### View"
   ]
  },
  {
   "cell_type": "code",
   "execution_count": 169,
   "id": "944c0f32",
   "metadata": {},
   "outputs": [],
   "source": [
    "t = np.array([[[0, 1, 2],\n",
    "               [3, 4, 5]],\n",
    "              [[6, 7, 8],\n",
    "               [9, 10, 11]]])\n",
    "ft = torch.Tensor(t)"
   ]
  },
  {
   "cell_type": "code",
   "execution_count": 170,
   "id": "4e0a4a3c",
   "metadata": {},
   "outputs": [
    {
     "name": "stdout",
     "output_type": "stream",
     "text": [
      "torch.Size([2, 2, 3])\n"
     ]
    }
   ],
   "source": [
    "print(ft.shape)"
   ]
  },
  {
   "cell_type": "code",
   "execution_count": 171,
   "id": "79778f94",
   "metadata": {},
   "outputs": [
    {
     "name": "stdout",
     "output_type": "stream",
     "text": [
      "tensor([[ 0.,  1.,  2.],\n",
      "        [ 3.,  4.,  5.],\n",
      "        [ 6.,  7.,  8.],\n",
      "        [ 9., 10., 11.]])\n",
      "torch.Size([4, 3])\n"
     ]
    }
   ],
   "source": [
    "print(ft.view([-1, 3]))       # -1로 설정되면 다른 차원으로부터 해당 값을 유추  \n",
    "print(ft.view([-1, 3]).shape)"
   ]
  },
  {
   "cell_type": "code",
   "execution_count": 172,
   "id": "fc30cb58",
   "metadata": {},
   "outputs": [
    {
     "name": "stdout",
     "output_type": "stream",
     "text": [
      "tensor([[[ 0.,  1.,  2.]],\n",
      "\n",
      "        [[ 3.,  4.,  5.]],\n",
      "\n",
      "        [[ 6.,  7.,  8.]],\n",
      "\n",
      "        [[ 9., 10., 11.]]])\n",
      "torch.Size([4, 1, 3])\n"
     ]
    }
   ],
   "source": [
    "print(ft.view([-1, 1, 3]))\n",
    "print(ft.view([-1, 1, 3]).shape)"
   ]
  },
  {
   "cell_type": "markdown",
   "id": "75d9ecf6",
   "metadata": {},
   "source": [
    "### Squeeze"
   ]
  },
  {
   "cell_type": "code",
   "execution_count": 173,
   "id": "4968c17a",
   "metadata": {},
   "outputs": [
    {
     "name": "stdout",
     "output_type": "stream",
     "text": [
      "tensor([[0.],\n",
      "        [1.],\n",
      "        [2.]])\n",
      "torch.Size([3, 1])\n"
     ]
    }
   ],
   "source": [
    "ft = torch.Tensor([[0], [1], [2]])\n",
    "print(ft)\n",
    "print(ft.shape)"
   ]
  },
  {
   "cell_type": "code",
   "execution_count": 174,
   "id": "558d3ad2",
   "metadata": {},
   "outputs": [
    {
     "name": "stdout",
     "output_type": "stream",
     "text": [
      "tensor([0., 1., 2.])\n",
      "torch.Size([3])\n"
     ]
    }
   ],
   "source": [
    "print(ft.squeeze())\n",
    "print(ft.squeeze().shape)"
   ]
  },
  {
   "cell_type": "markdown",
   "id": "b22ae766",
   "metadata": {},
   "source": [
    "### Unsqueeze"
   ]
  },
  {
   "cell_type": "code",
   "execution_count": 175,
   "id": "875b8336",
   "metadata": {},
   "outputs": [
    {
     "name": "stdout",
     "output_type": "stream",
     "text": [
      "torch.Size([3])\n"
     ]
    }
   ],
   "source": [
    "ft = torch.Tensor([0, 1, 2])\n",
    "print(ft.shape)"
   ]
  },
  {
   "cell_type": "code",
   "execution_count": 176,
   "id": "6da9bcdc",
   "metadata": {},
   "outputs": [
    {
     "name": "stdout",
     "output_type": "stream",
     "text": [
      "tensor([[0., 1., 2.]])\n",
      "torch.Size([1, 3])\n"
     ]
    }
   ],
   "source": [
    "print(ft.unsqueeze(0)) # 인덱스가 0부터 시작하므로 0은 첫번째 차원을 의미한다.\n",
    "print(ft.unsqueeze(0).shape)"
   ]
  },
  {
   "cell_type": "code",
   "execution_count": 177,
   "id": "0c1b4cbc",
   "metadata": {},
   "outputs": [
    {
     "name": "stdout",
     "output_type": "stream",
     "text": [
      "tensor([[0.],\n",
      "        [1.],\n",
      "        [2.]])\n",
      "torch.Size([3, 1])\n"
     ]
    }
   ],
   "source": [
    "print(ft.unsqueeze(1))\n",
    "print(ft.unsqueeze(1).shape)"
   ]
  },
  {
   "cell_type": "markdown",
   "id": "349785e1",
   "metadata": {},
   "source": [
    "### Concatenate"
   ]
  },
  {
   "cell_type": "code",
   "execution_count": 178,
   "id": "77225555",
   "metadata": {},
   "outputs": [],
   "source": [
    "x = torch.Tensor([[1, 2], [3, 4]])\n",
    "y = torch.Tensor([[5, 6], [7, 8]])"
   ]
  },
  {
   "cell_type": "code",
   "execution_count": 179,
   "id": "3a982063",
   "metadata": {},
   "outputs": [
    {
     "name": "stdout",
     "output_type": "stream",
     "text": [
      "tensor([[1., 2.],\n",
      "        [3., 4.],\n",
      "        [5., 6.],\n",
      "        [7., 8.]])\n"
     ]
    }
   ],
   "source": [
    "print(torch.cat([x, y], dim=0))"
   ]
  },
  {
   "cell_type": "code",
   "execution_count": 180,
   "id": "19ddb247",
   "metadata": {},
   "outputs": [
    {
     "name": "stdout",
     "output_type": "stream",
     "text": [
      "tensor([[1., 2., 5., 6.],\n",
      "        [3., 4., 7., 8.]])\n"
     ]
    }
   ],
   "source": [
    "print(torch.cat([x, y], dim=1))"
   ]
  },
  {
   "cell_type": "markdown",
   "id": "d303b029",
   "metadata": {},
   "source": [
    "### Stack"
   ]
  },
  {
   "cell_type": "code",
   "execution_count": 181,
   "id": "ad1119d2",
   "metadata": {},
   "outputs": [],
   "source": [
    "x = torch.Tensor([1, 4])\n",
    "y = torch.Tensor([2, 5])\n",
    "z = torch.Tensor([3, 6])"
   ]
  },
  {
   "cell_type": "code",
   "execution_count": 182,
   "id": "bbde5618",
   "metadata": {},
   "outputs": [
    {
     "name": "stdout",
     "output_type": "stream",
     "text": [
      "tensor([[1., 4.],\n",
      "        [2., 5.],\n",
      "        [3., 6.]])\n"
     ]
    }
   ],
   "source": [
    "print(torch.stack([x, y, z]))"
   ]
  },
  {
   "cell_type": "code",
   "execution_count": 183,
   "id": "62048305",
   "metadata": {},
   "outputs": [
    {
     "name": "stdout",
     "output_type": "stream",
     "text": [
      "tensor([[1., 2., 3.],\n",
      "        [4., 5., 6.]])\n"
     ]
    }
   ],
   "source": [
    "print(torch.stack([x, y, z], dim=1))"
   ]
  },
  {
   "cell_type": "markdown",
   "id": "fd0d4d65",
   "metadata": {},
   "source": [
    "### ones_like, zeros_like"
   ]
  },
  {
   "cell_type": "code",
   "execution_count": 184,
   "id": "d9cd9491",
   "metadata": {},
   "outputs": [
    {
     "name": "stdout",
     "output_type": "stream",
     "text": [
      "tensor([[0., 1., 2.],\n",
      "        [2., 1., 0.]])\n"
     ]
    }
   ],
   "source": [
    "x = torch.FloatTensor([[0, 1, 2], [2, 1, 0]])\n",
    "print(x)"
   ]
  },
  {
   "cell_type": "code",
   "execution_count": 185,
   "id": "3afda069",
   "metadata": {},
   "outputs": [
    {
     "name": "stdout",
     "output_type": "stream",
     "text": [
      "tensor([[1., 1., 1.],\n",
      "        [1., 1., 1.]])\n"
     ]
    }
   ],
   "source": [
    "print(torch.ones_like(x))"
   ]
  },
  {
   "cell_type": "code",
   "execution_count": 186,
   "id": "846a9b09",
   "metadata": {},
   "outputs": [
    {
     "name": "stdout",
     "output_type": "stream",
     "text": [
      "tensor([[0., 0., 0.],\n",
      "        [0., 0., 0.]])\n"
     ]
    }
   ],
   "source": [
    "print(torch.zeros_like(x))"
   ]
  },
  {
   "cell_type": "code",
   "execution_count": null,
   "id": "41869774",
   "metadata": {},
   "outputs": [],
   "source": []
  }
 ],
 "metadata": {
  "kernelspec": {
   "display_name": "Python 3 (ipykernel)",
   "language": "python",
   "name": "python3"
  },
  "language_info": {
   "codemirror_mode": {
    "name": "ipython",
    "version": 3
   },
   "file_extension": ".py",
   "mimetype": "text/x-python",
   "name": "python",
   "nbconvert_exporter": "python",
   "pygments_lexer": "ipython3",
   "version": "3.9.12"
  }
 },
 "nbformat": 4,
 "nbformat_minor": 5
}
