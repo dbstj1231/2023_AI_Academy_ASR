{
  "nbformat": 4,
  "nbformat_minor": 0,
  "metadata": {
    "colab": {
      "provenance": [],
      "toc_visible": true
    },
    "kernelspec": {
      "name": "python3",
      "display_name": "Python 3"
    },
    "language_info": {
      "name": "python"
    },
    "gpuClass": "standard",
    "accelerator": "GPU"
  },
  "cells": [
    {
      "cell_type": "markdown",
      "metadata": {
        "id": "view-in-github"
      },
      "source": [
        "<a href=\"https://colab.research.google.com/github/dbstj1231/2023_AI_Academy_ASR/blob/main/6_nemo_finetuning.ipynb\" target=\"_parent\"><img src=\"https://colab.research.google.com/assets/colab-badge.svg\" alt=\"Open In Colab\"/></a>"
      ]
    },
    {
      "cell_type": "markdown",
      "source": [
        "# 6. NeMo fine-tuning"
      ],
      "metadata": {
        "id": "pf-wqxq7wryJ"
      }
    },
    {
      "cell_type": "markdown",
      "source": [
        "## NeMo (NVIDIA, 2019)\n",
        "-  https://developer.nvidia.com/nvidia-nemo (homepage)\n",
        "- https://github.com/NVIDIA/NeMo (source)\n",
        "- open-source framework for developers to build and train state-of-the-art (SOTA) conversational AI models\n",
        "- PyTorch, PyTorch Lightning을 기반으로 작성된 E2E toolkit\n",
        "- SOTA model들의 pretrained model을 제공\n",
        "- https://catalog.ngc.nvidia.com/ (ASR pretrained models)"
      ],
      "metadata": {
        "id": "n6tUJnIcwjoW"
      }
    },
    {
      "cell_type": "markdown",
      "source": [
        "## NeMo 설치\n",
        "\n",
        "### pip를 이용한 설치\n",
        "- pip install nemo_toolkit['all']\n",
        "\n",
        "### Source code를 이용한 설치\n",
        "- apt-get update && apt-get install -y libsndfile1 ffmpeg\n",
        "- git clone https://github.com/NVIDIA/NeMo\n",
        "- cd NeMo\n",
        "- ./reinstall.sh\n",
        "\n",
        "### NeMo Docker containers\n",
        "- https://catalog.ngc.nvidia.com/orgs/nvidia/containers/nemo\n",
        "- docker pull nvcr.io/nvidia/nemo:22.11 (build container)\n",
        "- docker run --runtime=nvidia -it --rm -v --shm-size=16g -p 8888:8888 -p 6006:6006 --ulimit memlock=-1 --ulimit stack=67108864 nvcr.io/nvidia/nemo:22.11 (docker run)"
      ],
      "metadata": {
        "id": "CCiShttXyp0w"
      }
    },
    {
      "cell_type": "code",
      "execution_count": null,
      "metadata": {
        "id": "vpVF6TAeVv-7"
      },
      "outputs": [],
      "source": [
        "# install NeMo\n",
        "!pip install git+https://github.com/NVIDIA/NeMo.git@main#egg=nemo_toolkit[all]"
      ]
    },
    {
      "cell_type": "markdown",
      "source": [
        "- `omegaconf` : yaml, json등의 configuration 파일을 읽고 쓸 수 있는 라이브러리, Nemo에서 기본적으로 사용\n",
        "- `nemo.collections.asr` : NeMo ASR Class\n",
        "- `nemo.utils.exp_manager` : 학습로그, conf 등에 사용되는 라이브러리"
      ],
      "metadata": {
        "id": "cSs3eHUd06Jv"
      }
    },
    {
      "cell_type": "code",
      "source": [
        "from omegaconf import OmegaConf, open_dict"
      ],
      "metadata": {
        "id": "wmqTzTE-W5wC"
      },
      "execution_count": null,
      "outputs": []
    },
    {
      "cell_type": "code",
      "source": [
        "import nemo\n",
        "import nemo.collections.asr as nemo_asr\n",
        "from nemo.utils import exp_manager"
      ],
      "metadata": {
        "id": "1MMMe1WHXEZH"
      },
      "execution_count": null,
      "outputs": []
    },
    {
      "cell_type": "markdown",
      "source": [
        "## pre-trained 모델 불러오기\n",
        "- Quartznet model 사용\n",
        "- https://docs.nvidia.com/deeplearning/nemo/user-guide/docs/en/main/asr/models.html#quartznet\n",
        "- SOTA성능을 보이는 모델은 아니지만, 파라미터 수가 작아 low resourced computing 환경에서 동작이 쉬움\n",
        "- 500MB~1,000MB 사이의 SOTA 수준 모델에 비해 78MB의 적은 용량으로 동작 가능\n",
        "- Librispeech test set 기준 4.19%의 word error rate (WER)\n",
        "- https://arxiv.org/abs/1910.10261 (paper)\n",
        "\n",
        "\n",
        "<img src = \"https://docs.nvidia.com/deeplearning/nemo/user-guide/docs/en/main/_images/quartz_vertical.png\" height=700>\n",
        "\n",
        "- https://catalog.ngc.nvidia.com/orgs/nvidia/teams/nemo/models/stt_en_quartznet15x5 (pretrained model)\n"
      ],
      "metadata": {
        "id": "YgeBsmuNyg2p"
      }
    },
    {
      "cell_type": "code",
      "source": [
        "# pretrained model load (model : \"stt_en_quartznet15x5\")\n"
      ],
      "metadata": {
        "id": "gdvlhCLkXVM0"
      },
      "execution_count": null,
      "outputs": []
    },
    {
      "cell_type": "markdown",
      "source": [
        "## Small data를 통한 모델 확인 (영어)"
      ],
      "metadata": {
        "id": "Z5n5801TAfdc"
      }
    },
    {
      "cell_type": "markdown",
      "source": [
        "- `datasets.load_dataset` : 학습 및 테스트 데이터 관리 라이브러리"
      ],
      "metadata": {
        "id": "0GzVSXMd2aOs"
      }
    },
    {
      "cell_type": "code",
      "source": [
        "! pip install datasets"
      ],
      "metadata": {
        "id": "klAnzjjzXPdF"
      },
      "execution_count": null,
      "outputs": []
    },
    {
      "cell_type": "code",
      "source": [
        "from datasets import load_dataset"
      ],
      "metadata": {
        "id": "7TghfcL0_ZRj"
      },
      "execution_count": null,
      "outputs": []
    },
    {
      "cell_type": "code",
      "source": [
        "# LibriSpeech dataset load\n",
        "english_ds = load_dataset(\"kresnik/librispeech_asr_test\", \"clean\")"
      ],
      "metadata": {
        "id": "RLMqniSiASUY"
      },
      "execution_count": null,
      "outputs": []
    },
    {
      "cell_type": "code",
      "source": [
        "english_ds"
      ],
      "metadata": {
        "id": "_g5zpQBo_nfo"
      },
      "execution_count": null,
      "outputs": []
    },
    {
      "cell_type": "code",
      "source": [
        "# check file list\n",
        "english_ds = english_ds['test']"
      ],
      "metadata": {
        "id": "gjk7sWYms1vx"
      },
      "execution_count": null,
      "outputs": []
    },
    {
      "cell_type": "code",
      "source": [
        "# check sample data\n",
        "sample = english_ds[0]"
      ],
      "metadata": {
        "id": "SWVqUPUBtMga"
      },
      "execution_count": null,
      "outputs": []
    },
    {
      "cell_type": "code",
      "source": [
        "from pprint import pprint"
      ],
      "metadata": {
        "id": "GIl_K_RD_xqy"
      },
      "execution_count": null,
      "outputs": []
    },
    {
      "cell_type": "code",
      "source": [
        "pprint(sample)"
      ],
      "metadata": {
        "id": "TEn-wkXe_3iK"
      },
      "execution_count": null,
      "outputs": []
    },
    {
      "cell_type": "markdown",
      "source": [
        "- `IPython.display` : IPython 위젯을 사용할 수 있는 라이브러리"
      ],
      "metadata": {
        "id": "MqqWSJfvA1iF"
      }
    },
    {
      "cell_type": "code",
      "source": [
        "import IPython.display as ipd"
      ],
      "metadata": {
        "id": "dQXP6NcRtT05"
      },
      "execution_count": null,
      "outputs": []
    },
    {
      "cell_type": "code",
      "source": [
        "# listen audio file using ipd.Audio\n"
      ],
      "metadata": {
        "id": "No3-IE0CtcHZ"
      },
      "execution_count": null,
      "outputs": []
    },
    {
      "cell_type": "code",
      "source": [
        "# transcribe using pretrained model\n",
        "result ="
      ],
      "metadata": {
        "id": "J4mMCjFutevI"
      },
      "execution_count": null,
      "outputs": []
    },
    {
      "cell_type": "code",
      "source": [
        "# check result\n",
        "print(result)"
      ],
      "metadata": {
        "id": "-2j0Ww6tuBb0"
      },
      "execution_count": null,
      "outputs": []
    },
    {
      "cell_type": "code",
      "source": [
        "# compare with reference\n",
        "print(\"hypothesis: \" + result[0])\n",
        "print(\"reference: \" + sample['text'].lower())"
      ],
      "metadata": {
        "id": "PMI_r5vYt74a"
      },
      "execution_count": null,
      "outputs": []
    },
    {
      "cell_type": "markdown",
      "source": [
        "- `jiwer` : CER, WER 등 음성인식 결과 평가 관련 라이브러리"
      ],
      "metadata": {
        "id": "_g_J-PwBBSa5"
      }
    },
    {
      "cell_type": "code",
      "source": [
        "! pip install jiwer"
      ],
      "metadata": {
        "id": "1pe6w4eJuMKR"
      },
      "execution_count": null,
      "outputs": []
    },
    {
      "cell_type": "code",
      "source": [
        "from jiwer import cer"
      ],
      "metadata": {
        "id": "34__DoKYAfw-"
      },
      "execution_count": null,
      "outputs": []
    },
    {
      "cell_type": "code",
      "source": [
        "# calculate cer\n"
      ],
      "metadata": {
        "id": "xIz_fwSxubwG"
      },
      "execution_count": null,
      "outputs": []
    },
    {
      "cell_type": "code",
      "source": [
        "results = model.transcribe(english_ds['file'][:10])"
      ],
      "metadata": {
        "id": "3BS2kgwLAruR"
      },
      "execution_count": null,
      "outputs": []
    },
    {
      "cell_type": "code",
      "source": [],
      "metadata": {
        "id": "VFs3OyPbA23t"
      },
      "execution_count": null,
      "outputs": []
    },
    {
      "cell_type": "code",
      "source": [],
      "metadata": {
        "id": "Cln19ZuXBJLn"
      },
      "execution_count": null,
      "outputs": []
    },
    {
      "cell_type": "code",
      "source": [],
      "metadata": {
        "id": "ohQ7RenCBYzw"
      },
      "execution_count": null,
      "outputs": []
    },
    {
      "cell_type": "code",
      "source": [],
      "metadata": {
        "id": "atMrXpWaBdDN"
      },
      "execution_count": null,
      "outputs": []
    },
    {
      "cell_type": "code",
      "source": [],
      "metadata": {
        "id": "ZLJp9FexA9xj"
      },
      "execution_count": null,
      "outputs": []
    },
    {
      "cell_type": "code",
      "source": [],
      "metadata": {
        "id": "o2du7d6EBj_G"
      },
      "execution_count": null,
      "outputs": []
    },
    {
      "cell_type": "markdown",
      "source": [
        "## traning/test 데이터 불러오기 및 데이터 확인 (한국어)\n",
        "\n",
        "- dataset : file, audio, text, speaker 정보"
      ],
      "metadata": {
        "id": "1QR8lmC3Bo1M"
      }
    },
    {
      "cell_type": "code",
      "source": [
        "# Zeroth-Korean dataset load\n",
        "ds = load_dataset(\"kresnik/zeroth_korean\", \"clean\")"
      ],
      "metadata": {
        "id": "Dw25f74Vn1m4"
      },
      "execution_count": null,
      "outputs": []
    },
    {
      "cell_type": "code",
      "source": [
        "# check file list\n",
        "ds"
      ],
      "metadata": {
        "id": "gDz0Dq1ksfm_"
      },
      "execution_count": null,
      "outputs": []
    },
    {
      "cell_type": "code",
      "source": [
        "total_train_ds =\n",
        "test_ds ="
      ],
      "metadata": {
        "id": "ysyQ7MF_DNgn"
      },
      "execution_count": null,
      "outputs": []
    },
    {
      "cell_type": "code",
      "source": [
        "# check sample data\n",
        "total_train_ds"
      ],
      "metadata": {
        "id": "wEzuVJCusmch"
      },
      "execution_count": null,
      "outputs": []
    },
    {
      "cell_type": "code",
      "source": [
        "# listen audio file using ipd.Audio"
      ],
      "metadata": {
        "id": "jgWCjDSQ0X6X"
      },
      "execution_count": null,
      "outputs": []
    },
    {
      "cell_type": "code",
      "source": [
        "# split train, validation, test set\n",
        "total_train_ds ="
      ],
      "metadata": {
        "id": "xN103B8F07q-"
      },
      "execution_count": null,
      "outputs": []
    },
    {
      "cell_type": "code",
      "source": [
        "total_train_ds"
      ],
      "metadata": {
        "id": "hz2K1TbADoAI"
      },
      "execution_count": null,
      "outputs": []
    },
    {
      "cell_type": "code",
      "source": [
        "train_ds = total_train_ds['train']\n",
        "val_ds = total_train_ds['test']"
      ],
      "metadata": {
        "id": "il_tAXeIDzir"
      },
      "execution_count": null,
      "outputs": []
    },
    {
      "cell_type": "code",
      "source": [
        "print(len(train_ds))\n",
        "print(len(val_ds))\n",
        "print(len(test_ds))"
      ],
      "metadata": {
        "id": "jgM5s8wWD5uq"
      },
      "execution_count": null,
      "outputs": []
    },
    {
      "cell_type": "code",
      "source": [
        "train_ds.column_names"
      ],
      "metadata": {
        "id": "NGQG5kqQEM7n"
      },
      "execution_count": null,
      "outputs": []
    },
    {
      "cell_type": "markdown",
      "source": [
        "NeMo의 ASR data preparation은 3가지의 정보 필요\n",
        "- audio_filepath, duration, text"
      ],
      "metadata": {
        "id": "4Pa-o71WTISI"
      }
    },
    {
      "cell_type": "code",
      "source": [
        "# remove columns [\"audio\", \"speaker_id\", \"chapter_id\", \"id\"]\n",
        "train_ds =\n",
        "val_ds ="
      ],
      "metadata": {
        "id": "T5aW_STk1agy"
      },
      "execution_count": null,
      "outputs": []
    },
    {
      "cell_type": "code",
      "source": [
        "train_ds[0].keys()"
      ],
      "metadata": {
        "id": "yMlLbuW_EoPu"
      },
      "execution_count": null,
      "outputs": []
    },
    {
      "cell_type": "code",
      "source": [
        "# rename column\n",
        "train_ds = train_ds.rename_column(original_column_name= , new_column_name = )\n",
        "val_ds = val_ds.rename_column(original_column_name= , new_column_name = )"
      ],
      "metadata": {
        "id": "rJ_YOUkhTB_M"
      },
      "execution_count": null,
      "outputs": []
    },
    {
      "cell_type": "code",
      "source": [
        "train_ds[0].keys()"
      ],
      "metadata": {
        "id": "3_xo425MFMMI"
      },
      "execution_count": null,
      "outputs": []
    },
    {
      "cell_type": "code",
      "source": [
        "train_ds[0]"
      ],
      "metadata": {
        "id": "LqAcVEYaFrBn"
      },
      "execution_count": null,
      "outputs": []
    },
    {
      "cell_type": "code",
      "source": [
        "import soundfile as sf"
      ],
      "metadata": {
        "id": "J3hAxMYYFhX_"
      },
      "execution_count": null,
      "outputs": []
    },
    {
      "cell_type": "code",
      "source": [
        "# get duration\n",
        "\n",
        "def get_duration(batch):\n"
      ],
      "metadata": {
        "id": "GPERBdXhTG8n"
      },
      "execution_count": null,
      "outputs": []
    },
    {
      "cell_type": "code",
      "source": [
        "get_duration(train_ds[0])"
      ],
      "metadata": {
        "id": "0fXyJ3cSF2EV"
      },
      "execution_count": null,
      "outputs": []
    },
    {
      "cell_type": "code",
      "source": [
        "train_ds = train_ds.map(get_duration)\n",
        "val_ds = val_ds.map(get_duration)"
      ],
      "metadata": {
        "id": "0FAimN6IGYAW"
      },
      "execution_count": null,
      "outputs": []
    },
    {
      "cell_type": "code",
      "source": [
        "train_ds[0]"
      ],
      "metadata": {
        "id": "Gmiy_GX8GuYS"
      },
      "execution_count": null,
      "outputs": []
    },
    {
      "cell_type": "code",
      "source": [
        "ipd.Audio(train_ds[0]['audio_filepath'])"
      ],
      "metadata": {
        "id": "OgVpWBZwF6ux"
      },
      "execution_count": null,
      "outputs": []
    },
    {
      "cell_type": "code",
      "source": [
        "import os"
      ],
      "metadata": {
        "id": "kJHOXlADGAwj"
      },
      "execution_count": null,
      "outputs": []
    },
    {
      "cell_type": "code",
      "source": [
        "train_json_path = os.path.abspath(\"train.json\")\n",
        "print(train_json_path)\n",
        "val_json_path = os.path.abspath(\"validation.json\")\n",
        "print(val_json_path)"
      ],
      "metadata": {
        "id": "qe0_KbXJG4Hi"
      },
      "execution_count": null,
      "outputs": []
    },
    {
      "cell_type": "markdown",
      "source": [
        "- `force_ascii = False` : 한글이 깨지지 않도록 encoding\n",
        "- `orient = \"records` : {columns:value} 형태의 딕셔너리를 요소로 하는 리스트 형태"
      ],
      "metadata": {
        "id": "rsPbspTmdALT"
      }
    },
    {
      "cell_type": "code",
      "source": [
        "# make json file\n",
        "train_ds.to_json(train_json_path, lines=True, force_ascii=False, orient=\"records\")"
      ],
      "metadata": {
        "id": "iTlxAh5T2nn9"
      },
      "execution_count": null,
      "outputs": []
    },
    {
      "cell_type": "code",
      "source": [
        "# check json file\n",
        "! head -5 train.json"
      ],
      "metadata": {
        "id": "zcUMrjY_3L0P"
      },
      "execution_count": null,
      "outputs": []
    },
    {
      "cell_type": "code",
      "source": [
        "# make validation json file\n",
        "val_ds.to_json( )"
      ],
      "metadata": {
        "id": "5jqymPEvHxkn"
      },
      "execution_count": null,
      "outputs": []
    },
    {
      "cell_type": "code",
      "source": [
        "# check validation json file\n"
      ],
      "metadata": {
        "id": "B2ArLa9uH8lJ"
      },
      "execution_count": null,
      "outputs": []
    },
    {
      "cell_type": "code",
      "source": [
        "hug_ds = load_dataset(\"json\", data_files=train_json_path)"
      ],
      "metadata": {
        "id": "IJ6R2Gr-IQpO"
      },
      "execution_count": null,
      "outputs": []
    },
    {
      "cell_type": "code",
      "source": [
        "hug_ds = hug_ds['train']"
      ],
      "metadata": {
        "id": "WxT7i-VIIfVo"
      },
      "execution_count": null,
      "outputs": []
    },
    {
      "cell_type": "code",
      "source": [
        "hug_ds[0]"
      ],
      "metadata": {
        "id": "kpGtzc_bIis7"
      },
      "execution_count": null,
      "outputs": []
    },
    {
      "cell_type": "code",
      "source": [
        "import pandas as pd"
      ],
      "metadata": {
        "id": "TSXjV2z_Imy2"
      },
      "execution_count": null,
      "outputs": []
    },
    {
      "cell_type": "code",
      "source": [
        "pd.read_json()"
      ],
      "metadata": {
        "id": "r_Lm_jbGIqz6"
      },
      "execution_count": null,
      "outputs": []
    },
    {
      "cell_type": "markdown",
      "source": [
        "## 한국어 fine-tuning을 위한 모델 설정\n",
        "- 영어로 학습된 모델을 소용량의 한국어를 이용해 원활히 tuning하기 위해  \n",
        "model의 encoder 정보는 그대로 유지  \n",
        "model의 deocder 정보(sequence of output unit representation)을 재학습하는 것이 효율적)\n",
        "- 충분한 양의 데이터를 확보하지 못했거나, computing 환경이 부족할 때 사용하는 방법\n",
        "- encoder 전체를 학습하지 않는 경우 normalization 문제가 발생할 수 있음  \n",
        "Ex> 원본 모델이 학습한 음성 데이터와 새로운 학습 데이터의 볼륨(소리 크기) 차이가 많이 나는 문제  \n",
        "이를 방지하기 위해 batch normalization 부분은 freeze하지 않음\n",
        "\n",
        "\n"
      ],
      "metadata": {
        "id": "c05FWTjTeSZ-"
      }
    },
    {
      "cell_type": "code",
      "source": [
        "import torch\n",
        "import torch.nn as nn"
      ],
      "metadata": {
        "id": "30QdJ9Wi3qQO"
      },
      "execution_count": null,
      "outputs": []
    },
    {
      "cell_type": "code",
      "source": [
        "list(model.modules())"
      ],
      "metadata": {
        "id": "MqQbEaTLKTT1"
      },
      "execution_count": null,
      "outputs": []
    },
    {
      "cell_type": "code",
      "source": [
        "# batch normalization unfreeze\n",
        "def enable_bn(m):\n",
        "  if type(m) == nn.BatchNorm1d:\n",
        "    m.train()\n",
        "    for param in m.parameters():\n",
        "      param.requires_grad_(True)"
      ],
      "metadata": {
        "id": "ppQYlopJ8rrV"
      },
      "execution_count": null,
      "outputs": []
    },
    {
      "cell_type": "code",
      "source": [
        "# encoder freeze\n"
      ],
      "metadata": {
        "id": "CopXWeajcM15"
      },
      "execution_count": null,
      "outputs": []
    },
    {
      "cell_type": "code",
      "source": [
        "for name, param in model.encoder.named_parameters():\n",
        "  print(name, param.requires_grad)"
      ],
      "metadata": {
        "id": "BL0oBlDMKhS0"
      },
      "execution_count": null,
      "outputs": []
    },
    {
      "cell_type": "code",
      "source": [
        "# unfreeze apply\n",
        "model.encoder.apply(enable_bn)"
      ],
      "metadata": {
        "id": "9IoFrVgPjOlX"
      },
      "execution_count": null,
      "outputs": []
    },
    {
      "cell_type": "code",
      "source": [
        "# unfreeze check (requires_grad -> True : 가중치 학습)\n",
        "for name, param in model.encoder.named_parameters():\n",
        "  print(name, param.requires_grad)"
      ],
      "metadata": {
        "id": "7m1i7KB-9s5H"
      },
      "execution_count": null,
      "outputs": []
    },
    {
      "cell_type": "markdown",
      "source": [
        "## 한국어 ouput unit 설정 및 training 세팅\n",
        "- 영어 알파벳으로 정의된 모델을 한국어 음절로 변경"
      ],
      "metadata": {
        "id": "lYcI1BwwfzFX"
      }
    },
    {
      "cell_type": "code",
      "source": [
        "# check model config\n",
        "print(OmegaConf.to_yaml(model.cfg))"
      ],
      "metadata": {
        "id": "H083b8nQr1HS"
      },
      "execution_count": null,
      "outputs": []
    },
    {
      "cell_type": "code",
      "source": [
        "train_ds[0]['text']"
      ],
      "metadata": {
        "id": "-fr9Ft-DjD7u"
      },
      "execution_count": null,
      "outputs": []
    },
    {
      "cell_type": "code",
      "source": [
        "#join\n"
      ],
      "metadata": {
        "id": "wiF4TUQHjaig"
      },
      "execution_count": null,
      "outputs": []
    },
    {
      "cell_type": "code",
      "source": [
        "# extract characters\n",
        "def all_extract_characters(batch):\n"
      ],
      "metadata": {
        "id": "e1AyaN9BsJoY"
      },
      "execution_count": null,
      "outputs": []
    },
    {
      "cell_type": "code",
      "source": [
        "len(train_ds)"
      ],
      "metadata": {
        "id": "7GfdW3oKj6Aw"
      },
      "execution_count": null,
      "outputs": []
    },
    {
      "cell_type": "code",
      "source": [
        "# make vocab list\n",
        "train_vocab_list = train_ds.map(all_extract_characters, batched= True, batch_size=-1, remove_columns=train_ds.column_names)"
      ],
      "metadata": {
        "id": "Rrj91qy2uVN8"
      },
      "execution_count": null,
      "outputs": []
    },
    {
      "cell_type": "code",
      "source": [
        "len(train_vocab_list[\"vocab\"][0])"
      ],
      "metadata": {
        "id": "XvLAAj9fkAek"
      },
      "execution_count": null,
      "outputs": []
    },
    {
      "cell_type": "code",
      "source": [
        "val_vocab_list = val_ds.map(all_extract_characters, batched= True, batch_size=-1, remove_columns=val_ds.column_names)"
      ],
      "metadata": {
        "id": "qPcbmv84kSSh"
      },
      "execution_count": null,
      "outputs": []
    },
    {
      "cell_type": "code",
      "source": [],
      "metadata": {
        "id": "usWQTmjlkyyk"
      },
      "execution_count": null,
      "outputs": []
    },
    {
      "cell_type": "code",
      "source": [
        "vocab_list = list(set(train_vocab_list[\"vocab\"][0]) | set(val_vocab_list[\"vocab\"][0]))"
      ],
      "metadata": {
        "id": "s9e4YFIJkZGJ"
      },
      "execution_count": null,
      "outputs": []
    },
    {
      "cell_type": "code",
      "source": [
        "print(len(vocab_list))"
      ],
      "metadata": {
        "id": "GdnZYJqSklxi"
      },
      "execution_count": null,
      "outputs": []
    },
    {
      "cell_type": "code",
      "source": [
        "# check vocab list"
      ],
      "metadata": {
        "id": "fFsZ1v2Iffw-"
      },
      "execution_count": null,
      "outputs": []
    },
    {
      "cell_type": "code",
      "source": [
        "# change model output unit\n",
        "model.change_vocabulary(vocab_list)"
      ],
      "metadata": {
        "id": "eiSXUcV3qKsr"
      },
      "execution_count": null,
      "outputs": []
    },
    {
      "cell_type": "code",
      "source": [
        "print(OmegaConf.to_yaml(model.cfg))"
      ],
      "metadata": {
        "id": "MhteGnIVk6Tk"
      },
      "execution_count": null,
      "outputs": []
    },
    {
      "cell_type": "code",
      "source": [
        "import copy"
      ],
      "metadata": {
        "id": "fq8IjrwIgR8O"
      },
      "execution_count": null,
      "outputs": []
    },
    {
      "cell_type": "code",
      "source": [
        "# copy configuration\n",
        "print(OmegaConf.to_yaml(model.cfg.train_ds))"
      ],
      "metadata": {
        "id": "vw3x9s72gqyH"
      },
      "execution_count": null,
      "outputs": []
    },
    {
      "cell_type": "code",
      "source": [
        "cfg = copy.deepcopy(model.cfg)"
      ],
      "metadata": {
        "id": "rTpwcqY_lrx_"
      },
      "execution_count": null,
      "outputs": []
    },
    {
      "cell_type": "code",
      "source": [
        "# setup train, validation configuration(manifest_filepath, labels, normalize_transcripts(대소문자), batch_size, num_workers, pin_memory, trim_silence)\n",
        "with open_dict(cfg) as f:\n",
        "  f.train_ds.manifest_filepath = train_json_path\n",
        "  f.train_ds.normalize_transcripts = False\n",
        "  f.train_ds.batch_size = 8\n",
        "  f.train_ds.num_workers = 2\n",
        "  f.train_ds.pin_memory = True\n",
        "  f.train_ds.trim_silence = True\n",
        "\n",
        "  f.validation_ds.manifest_filepath = val_json_path\n",
        "  f.validation_ds.normalize_transcripts = False\n",
        "  f.validation_ds.batch_size = 8\n",
        "  f.validation_ds.num_workers = 2\n",
        "  f.validation_ds.pin_memory = True\n",
        "  f.validation_ds.trim_silence = True"
      ],
      "metadata": {
        "id": "BNH94Ysfgwm-"
      },
      "execution_count": null,
      "outputs": []
    },
    {
      "cell_type": "code",
      "source": [
        "# setup data loader with new configs\n",
        "model.setup_training_data(cfg.train_ds)\n",
        "model.setup_validation_data(cfg.validation_ds)"
      ],
      "metadata": {
        "id": "ogf5nr4ziClD"
      },
      "execution_count": null,
      "outputs": []
    },
    {
      "cell_type": "code",
      "source": [
        "# print original optimizer + scheduler\n",
        "print(OmegaConf.to_yaml(model.cfg.optim))"
      ],
      "metadata": {
        "id": "NR6YITSVlIDd",
        "collapsed": true
      },
      "execution_count": null,
      "outputs": []
    },
    {
      "cell_type": "code",
      "source": [
        "??torch.optim.Adam"
      ],
      "metadata": {
        "id": "69V_7edA7PDr"
      },
      "execution_count": null,
      "outputs": []
    },
    {
      "cell_type": "markdown",
      "source": [
        "- lr = 0.01\n",
        "- betas = [0.95, 0.25]\n",
        "- weight_decay = 0.001 (original weight decay)\n",
        "- sched.warup_steps = None (remove default number of steps of warmup)\n",
        "- sched.warup_ratio = 0.05 (5% warmup)\n",
        "- sched.min_lr = 1e-5"
      ],
      "metadata": {
        "id": "RACNZIERhaSN"
      }
    },
    {
      "cell_type": "code",
      "source": [
        "# setup optimizer\n",
        "with open_dict(model.cfg.optim) as f:\n",
        "  f.betas = [0.95, 0.25]\n",
        "  f.weight_decay = 0.001\n",
        "  f.sched.warmup_steps = None\n",
        "  f.sched.warmup_ratio = 0.05\n",
        "  f.sched.min_lr = 1e-5"
      ],
      "metadata": {
        "id": "ORUWwpdWlLvL"
      },
      "execution_count": null,
      "outputs": []
    },
    {
      "cell_type": "code",
      "source": [
        "print(OmegaConf.to_yaml(model.cfg.optim))"
      ],
      "metadata": {
        "id": "yl_jYbSpohaa"
      },
      "execution_count": null,
      "outputs": []
    },
    {
      "cell_type": "code",
      "source": [
        "# print original spec_augment\n",
        "print(OmegaConf.to_yaml(model.cfg.spec_augment))"
      ],
      "metadata": {
        "id": "M1c1cw7Mlp6y"
      },
      "execution_count": null,
      "outputs": []
    },
    {
      "cell_type": "code",
      "source": [
        "model.spec_augmentaion = model.from_config_dict(model.cfg.spec_augment)"
      ],
      "metadata": {
        "id": "sQa_ozw8o6wd"
      },
      "execution_count": null,
      "outputs": []
    },
    {
      "cell_type": "code",
      "source": [
        "print(OmegaConf.to_yaml(model.cfg.train_ds))"
      ],
      "metadata": {
        "id": "pEEs8D-FpJUy"
      },
      "execution_count": null,
      "outputs": []
    },
    {
      "cell_type": "markdown",
      "source": [
        "## 학습\n",
        "- 학습 과정을 표시하는 metric 설정"
      ],
      "metadata": {
        "id": "0t4oXQKEh8Hs"
      }
    },
    {
      "cell_type": "code",
      "source": [
        "# use_cer & log_prediction\n",
        "model._wer.use_cer = True\n",
        "model._wer.log_prediction = True"
      ],
      "metadata": {
        "id": "1FuAo1FYm0db"
      },
      "execution_count": null,
      "outputs": []
    },
    {
      "cell_type": "code",
      "source": [
        "import torch\n",
        "import pytorch_lightning as ptl"
      ],
      "metadata": {
        "id": "cUs-6nQYnL7D"
      },
      "execution_count": null,
      "outputs": []
    },
    {
      "cell_type": "code",
      "source": [
        "if torch.cuda.is_available():\n",
        "  gpus = 1\n",
        "else:\n",
        "  gpus = 0"
      ],
      "metadata": {
        "id": "oFISVVkYpu18"
      },
      "execution_count": null,
      "outputs": []
    },
    {
      "cell_type": "code",
      "source": [
        "epochs = 1"
      ],
      "metadata": {
        "id": "i01iqpT9p9bS"
      },
      "execution_count": null,
      "outputs": []
    },
    {
      "cell_type": "code",
      "source": [
        "??ptl.Trainer"
      ],
      "metadata": {
        "id": "JXJ5qGUfqIMN"
      },
      "execution_count": null,
      "outputs": []
    },
    {
      "cell_type": "markdown",
      "source": [
        "- gpus, max_epochs, accumulate_grad_batches, enable_checkpointing, logger, log_every_n_steps, check_val_every_n_epoch"
      ],
      "metadata": {
        "id": "BMdSjhoXiX_c"
      }
    },
    {
      "cell_type": "code",
      "source": [
        "# set trainer\n",
        "trainer = ptl.Trainer(\n",
        "    gpus = gpus,\n",
        "    max_epochs = True,\n",
        "    accumulate_grad_batches = 1,\n",
        "    enable_checkpointing = False,\n",
        "    log_every_n_steps = 50,\n",
        "    check_val_every_n_epoch=1\n",
        ")"
      ],
      "metadata": {
        "id": "oj0s-bdPnQDL"
      },
      "execution_count": null,
      "outputs": []
    },
    {
      "cell_type": "code",
      "source": [
        "# setup model with the trainer\n",
        "model.set_trainer(trainer)"
      ],
      "metadata": {
        "id": "mJjEul_Zn7DS"
      },
      "execution_count": null,
      "outputs": []
    },
    {
      "cell_type": "code",
      "source": [
        "# update the model's internal config\n",
        "model.cfg = model._cfg"
      ],
      "metadata": {
        "id": "OGMwg_z7qHgS"
      },
      "execution_count": null,
      "outputs": []
    },
    {
      "cell_type": "code",
      "source": [
        "import os\n",
        "\n",
        "os.environ.pop('NEMO_EXPM_VERSION', None)"
      ],
      "metadata": {
        "id": "PvsQNxFF0uIX"
      },
      "execution_count": null,
      "outputs": []
    },
    {
      "cell_type": "code",
      "source": [
        "??exp_manager.ExpManagerConfig"
      ],
      "metadata": {
        "id": "58p2WJV62N6T"
      },
      "execution_count": 18,
      "outputs": []
    },
    {
      "cell_type": "code",
      "source": [
        "# set log path\n",
        "config = exp_manager.ExpManagerConfig(\n",
        "    exp_dir = f\"experiment/lang/\",\n",
        "    name=f\"ASR-Char-Model-Korean\",\n",
        "    checkpoint_callback_params=exp_manager.CallbackParams(\n",
        "        monitor=\"val_wer\",\n",
        "        mode=\"min\",\n",
        "        always_save_nemo=True,\n",
        "        save_best_model=True\n",
        "    ),\n",
        ")"
      ],
      "metadata": {
        "id": "hL09uubG0wLG"
      },
      "execution_count": null,
      "outputs": []
    },
    {
      "cell_type": "code",
      "source": [
        "config"
      ],
      "metadata": {
        "id": "Kjg44LMkroKa"
      },
      "execution_count": null,
      "outputs": []
    },
    {
      "cell_type": "code",
      "source": [
        "# set exp_manager\n",
        "config ="
      ],
      "metadata": {
        "id": "pP1gPcNa2DGK"
      },
      "execution_count": null,
      "outputs": []
    },
    {
      "cell_type": "code",
      "source": [
        "config"
      ],
      "metadata": {
        "id": "l852-1IKrqwh"
      },
      "execution_count": null,
      "outputs": []
    },
    {
      "cell_type": "code",
      "source": [
        "logdir = exp_manager.exp_manager(trainer, config)"
      ],
      "metadata": {
        "id": "fyaaCm50rtqP"
      },
      "execution_count": null,
      "outputs": []
    },
    {
      "cell_type": "code",
      "source": [
        "# set tensorboard\n",
        "%load_ext tensorboard\n",
        "%tensorboard --logdir /content/experiment/lang/ASR-Char-Model-Korean/"
      ],
      "metadata": {
        "id": "isSamDmT2UZd"
      },
      "execution_count": null,
      "outputs": []
    },
    {
      "cell_type": "code",
      "source": [
        "# start train\n"
      ],
      "metadata": {
        "id": "Be7_-HnaoCEU"
      },
      "execution_count": null,
      "outputs": []
    },
    {
      "cell_type": "code",
      "source": [
        "# save model"
      ],
      "metadata": {
        "id": "giLPAAcg2cjw"
      },
      "execution_count": null,
      "outputs": []
    },
    {
      "cell_type": "markdown",
      "source": [
        "## 테스트"
      ],
      "metadata": {
        "id": "Z3uoCDQc2hO5"
      }
    },
    {
      "cell_type": "code",
      "source": [
        "# load trained model"
      ],
      "metadata": {
        "id": "v5PxhmlI2j29"
      },
      "execution_count": null,
      "outputs": []
    },
    {
      "cell_type": "code",
      "source": [
        "# transcribe using trained model"
      ],
      "metadata": {
        "id": "QqHdt5wa2nRe"
      },
      "execution_count": null,
      "outputs": []
    },
    {
      "cell_type": "code",
      "source": [
        "# compare with reference"
      ],
      "metadata": {
        "id": "U-wRLwcU232g"
      },
      "execution_count": null,
      "outputs": []
    },
    {
      "cell_type": "code",
      "source": [
        "# calculate cer"
      ],
      "metadata": {
        "id": "o8NdNBJM3AXt"
      },
      "execution_count": null,
      "outputs": []
    },
    {
      "cell_type": "markdown",
      "source": [
        "## NeMo에서 full recipe로 학습을 수행하는 방법\n",
        "- 임의의 데이터에 대해 같은 모델을 처음부터 학습하는 방법\n",
        "- Colab에서는 동작이 어려움\n",
        "- 시간 소요가 큼\n",
        "- https://github.com/NVIDIA/NeMo/tree/main/examples/asr/asr_ctc"
      ],
      "metadata": {
        "id": "YeQhFDjG3Mbj"
      }
    }
  ]
}