{
  "cells": [
    {
      "cell_type": "markdown",
      "metadata": {
        "colab_type": "text",
        "id": "view-in-github"
      },
      "source": [
        "<a href=\"https://colab.research.google.com/github/dbstj1231/2023_AI_Academy_ASR/blob/main/7_nemo_data_preparation.ipynb\" target=\"_parent\"><img src=\"https://colab.research.google.com/assets/colab-badge.svg\" alt=\"Open In Colab\"/></a>"
      ]
    },
    {
      "cell_type": "code",
      "execution_count": null,
      "metadata": {
        "id": "K993tUuB8kN3"
      },
      "outputs": [],
      "source": [
        "!pip install git+https://github.com/NVIDIA/NeMo.git@main#egg=nemo_toolkit[all]"
      ]
    },
    {
      "cell_type": "code",
      "execution_count": null,
      "metadata": {
        "id": "bDf6BdYFBEIh"
      },
      "outputs": [],
      "source": [
        "import nemo.collections.asr as nemo_asr"
      ]
    },
    {
      "cell_type": "code",
      "execution_count": null,
      "metadata": {
        "id": "62UPiJTcCZ51"
      },
      "outputs": [],
      "source": [
        "model = nemo_asr.models.ASRModel.from_pretrained('stt_en_conformer_ctc_large_ls')"
      ]
    },
    {
      "cell_type": "code",
      "execution_count": null,
      "metadata": {
        "id": "_zKLj9i4Clj3"
      },
      "outputs": [],
      "source": [
        "# token 추출"
      ]
    },
    {
      "cell_type": "code",
      "execution_count": null,
      "metadata": {
        "id": "nBoBMf83DLGw"
      },
      "outputs": [],
      "source": [
        "# 단어 추출"
      ]
    },
    {
      "cell_type": "code",
      "execution_count": null,
      "metadata": {
        "id": "FGFrg-0iEGYI"
      },
      "outputs": [],
      "source": [
        "# word와 subword의 관계를 정리한 lexicon"
      ]
    }
  ],
  "metadata": {
    "accelerator": "GPU",
    "colab": {
      "authorship_tag": "ABX9TyN/hbNI+6deJ0lXPbM5TMQA",
      "include_colab_link": true,
      "provenance": []
    },
    "gpuClass": "standard",
    "kernelspec": {
      "display_name": "Python 3",
      "name": "python3"
    },
    "language_info": {
      "name": "python"
    }
  },
  "nbformat": 4,
  "nbformat_minor": 0
}
