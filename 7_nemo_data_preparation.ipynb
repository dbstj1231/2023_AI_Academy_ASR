{
  "cells": [
    {
      "cell_type": "markdown",
      "metadata": {
        "id": "view-in-github"
      },
      "source": [
        "<a href=\"https://colab.research.google.com/github/dbstj1231/2023_AI_Academy_ASR/blob/main/7_nemo_data_preparation.ipynb\" target=\"_parent\"><img src=\"https://colab.research.google.com/assets/colab-badge.svg\" alt=\"Open In Colab\"/></a>"
      ]
    },
    {
      "cell_type": "markdown",
      "source": [
        "# Nemo Installation"
      ],
      "metadata": {
        "id": "jsCEydQbFU72"
      }
    },
    {
      "cell_type": "code",
      "execution_count": null,
      "metadata": {
        "id": "RF4n2g6PgXup"
      },
      "outputs": [],
      "source": [
        "!pip install git+https://github.com/NVIDIA/NeMo.git@main#egg=nemo_toolkit[all]"
      ]
    },
    {
      "cell_type": "markdown",
      "source": [
        "# Pre-trained model\n",
        "\n",
        "Model: Conformer-large (https://www.isca-speech.org/archive/interspeech_2020/gulati20_interspeech.html)\n",
        "https://catalog.ngc.nvidia.com/orgs/nvidia/teams/nemo/models/stt_en_conformer_ctc_large\n",
        "\n",
        "\n",
        "Dataset: LibriSpeech (https://openslr.org/12/)\n",
        "\n",
        "Tokenizer: Byte-pair Encoding by Sentencepiece (https://github.com/google/sentencepiece)\n",
        "\n"
      ],
      "metadata": {
        "id": "L1FHH6WqFcij"
      }
    },
    {
      "cell_type": "markdown",
      "source": [
        "## Model load"
      ],
      "metadata": {
        "id": "tX-kIZVxhwu-"
      }
    },
    {
      "cell_type": "code",
      "execution_count": 2,
      "metadata": {
        "id": "ZCp5mWtEgag0"
      },
      "outputs": [],
      "source": [
        "import nemo.collections.asr as nemo_asr"
      ]
    },
    {
      "cell_type": "code",
      "execution_count": null,
      "metadata": {
        "id": "cTybIfeYh7JI"
      },
      "outputs": [],
      "source": [
        "model = nemo_asr.models.EncDecCTCModelBPE.from_pretrained(model_name=\"stt_en_conformer_ctc_large_ls\")"
      ]
    },
    {
      "cell_type": "markdown",
      "source": [
        "## Tokenizer and Vocabulary"
      ],
      "metadata": {
        "id": "sXu1xsHuFhYz"
      }
    },
    {
      "cell_type": "markdown",
      "source": [
        "### Tokenizer\n",
        "\n"
      ],
      "metadata": {
        "id": "gvfc7u4XHhta"
      }
    },
    {
      "cell_type": "code",
      "execution_count": null,
      "metadata": {
        "id": "KJiHEEgWiCUh"
      },
      "outputs": [],
      "source": [
        "tokenizer =\n"
      ]
    },
    {
      "cell_type": "markdown",
      "source": [
        "### output units\n",
        "\n",
        "vocab: 1+127+1 (<unk> + tokens + blank)\n"
      ],
      "metadata": {
        "id": "acPDKCJzHdO6"
      }
    },
    {
      "cell_type": "code",
      "execution_count": null,
      "metadata": {
        "id": "8IafEbezk-kG"
      },
      "outputs": [],
      "source": [
        "vocab ="
      ]
    },
    {
      "cell_type": "code",
      "execution_count": 7,
      "metadata": {
        "id": "P_KTXv1GlEWQ"
      },
      "outputs": [],
      "source": [
        "with open('tokens.txt', 'w') as f:\n",
        "  for k, v in enumerate(vocab):\n",
        "    f.write(str(v) + ' '+str(k)+ '\\n')"
      ]
    },
    {
      "cell_type": "markdown",
      "source": [
        "### words\n",
        "\n",
        "'word.raw' file: All words in language model(librispeech dataset)\n"
      ],
      "metadata": {
        "id": "A3L45dyuHVav"
      }
    },
    {
      "cell_type": "code",
      "execution_count": 8,
      "metadata": {
        "id": "tGvpRO3mmT9r"
      },
      "outputs": [],
      "source": [
        "with open('word.raw', 'r') as f:\n",
        "  wlist = f.read().splitlines()"
      ]
    },
    {
      "cell_type": "code",
      "execution_count": null,
      "metadata": {
        "id": "dbghkk_yoQY2"
      },
      "outputs": [],
      "source": []
    },
    {
      "cell_type": "code",
      "source": [
        "len(wlist)"
      ],
      "metadata": {
        "colab": {
          "base_uri": "https://localhost:8080/"
        },
        "id": "ET1cQelQNrV6",
        "outputId": "e9ca92f2-173b-4bdd-c7bd-8009bb8b177a"
      },
      "execution_count": 19,
      "outputs": [
        {
          "output_type": "execute_result",
          "data": {
            "text/plain": [
              "797682"
            ]
          },
          "metadata": {},
          "execution_count": 19
        }
      ]
    },
    {
      "cell_type": "code",
      "source": [
        "with open('words.txt', 'w') as f:\n",
        "  for k, v, in enumerate(wlist):\n",
        "    f.write(str(v)+' '+str(k)+'\\n')"
      ],
      "metadata": {
        "id": "gJTsUqhMLdOW"
      },
      "execution_count": 10,
      "outputs": []
    },
    {
      "cell_type": "markdown",
      "source": [
        "## Lexicon"
      ],
      "metadata": {
        "id": "mkORY0XXHqdr"
      }
    },
    {
      "cell_type": "markdown",
      "source": [
        "### wordpiece"
      ],
      "metadata": {
        "id": "XvKwqLJ0HwU1"
      }
    },
    {
      "cell_type": "code",
      "execution_count": 11,
      "metadata": {
        "id": "hcusTLMaov59"
      },
      "outputs": [],
      "source": [
        "pieces = []\n",
        "for i in wlist:\n",
        "  pieces.append(tokenizer.encode_as_pieces(i))"
      ]
    },
    {
      "cell_type": "code",
      "source": [],
      "metadata": {
        "id": "TgLbLcxhMdum"
      },
      "execution_count": null,
      "outputs": []
    },
    {
      "cell_type": "code",
      "source": [
        "len(pieces)"
      ],
      "metadata": {
        "colab": {
          "base_uri": "https://localhost:8080/"
        },
        "id": "ubeWaawdOFo4",
        "outputId": "84a2cdd7-7a83-4088-da7d-d77c6cadc4d8"
      },
      "execution_count": 20,
      "outputs": [
        {
          "output_type": "execute_result",
          "data": {
            "text/plain": [
              "797682"
            ]
          },
          "metadata": {},
          "execution_count": 20
        }
      ]
    },
    {
      "cell_type": "markdown",
      "source": [
        "### Lexicon format\n",
        "\n",
        "lexicon: word token pair (except for special symbols)"
      ],
      "metadata": {
        "id": "RB1FM8ARH00Y"
      }
    },
    {
      "cell_type": "code",
      "execution_count": 13,
      "metadata": {
        "id": "5sqzAO5co1FN"
      },
      "outputs": [],
      "source": [
        "lexicon = list(zip(wlist, pieces))"
      ]
    },
    {
      "cell_type": "code",
      "execution_count": 14,
      "metadata": {
        "id": "A7ZHpYYNoRPk"
      },
      "outputs": [],
      "source": [
        "with open('lexicon.txt', \"w\", encoding=\"utf-8\") as f:\n",
        "  for word, tokens in lexicon[1:-1]: # special symbol removal\n",
        "    f.write(f\"{word} {' '.join(tokens)}\\n\")"
      ]
    },
    {
      "cell_type": "code",
      "source": [
        "len(lexicon)"
      ],
      "metadata": {
        "colab": {
          "base_uri": "https://localhost:8080/"
        },
        "id": "_FTbTBLhzOVK",
        "outputId": "6aa3eefe-d36d-4858-fd1b-2ce1672b3ed4"
      },
      "execution_count": 15,
      "outputs": [
        {
          "output_type": "execute_result",
          "data": {
            "text/plain": [
              "797682"
            ]
          },
          "metadata": {},
          "execution_count": 15
        }
      ]
    },
    {
      "cell_type": "markdown",
      "source": [
        "# Test set logits"
      ],
      "metadata": {
        "id": "sE6CxBI-H4Eu"
      }
    },
    {
      "cell_type": "markdown",
      "source": [
        "## Test set load\n",
        "\n",
        "Librispeech test-clean set\n",
        "\n",
        "HuggingFace URL: https://huggingface.co/datasets/kresnik/librispeech_asr_test\n",
        "\n"
      ],
      "metadata": {
        "id": "MVQK2s4nJYiQ"
      }
    },
    {
      "cell_type": "code",
      "execution_count": null,
      "metadata": {
        "id": "wqwOw_6jpA29"
      },
      "outputs": [],
      "source": [
        "!pip install datasets\n",
        "from datasets import load_dataset\n",
        "ds = load_dataset(\"kresnik/librispeech_asr_test\", \"clean\")\n",
        "test_ds = ds['test']\n",
        "fl = test_ds['file']"
      ]
    },
    {
      "cell_type": "markdown",
      "source": [
        "## logit extraction"
      ],
      "metadata": {
        "id": "DsMpi9mLJTfd"
      }
    },
    {
      "cell_type": "markdown",
      "source": [
        "extracting log-probabilities using Nemo model and huggingface dataset"
      ],
      "metadata": {
        "id": "UNs5zkNjrMwC"
      }
    },
    {
      "cell_type": "code",
      "execution_count": 17,
      "metadata": {
        "colab": {
          "base_uri": "https://localhost:8080/",
          "height": 49,
          "referenced_widgets": [
            "94ce6ea1a1244ff3bdf5c2ea3ed3c549",
            "6ce539f372c94802b08f4bfda27443e1",
            "11bf1b5d47e243d8a0201588cd815cab",
            "12b2da8f08aa4862b00e7c23b657564c",
            "7815a8b95b8e44eca985cee196942095",
            "5c07c2d9ffef43278b5387f2755edf90",
            "5e70be82d3ce43e99a5a0f7ddd72f347",
            "11e9956c9b2a4b23ab96d38bc0758903",
            "f0d692c903f4498ea5069e5af9f1ef62",
            "5cb4ddc1d80c42fab6ae7f03721ac3e3",
            "fa8101bd61634798a9039c14aa6b5c8e"
          ]
        },
        "id": "40eLxx5OphsW",
        "outputId": "72b9c2f6-4108-4ace-c37e-26842815f1fe"
      },
      "outputs": [
        {
          "output_type": "display_data",
          "data": {
            "text/plain": [
              "Transcribing:   0%|          | 0/655 [00:00<?, ?it/s]"
            ],
            "application/vnd.jupyter.widget-view+json": {
              "version_major": 2,
              "version_minor": 0,
              "model_id": "94ce6ea1a1244ff3bdf5c2ea3ed3c549"
            }
          },
          "metadata": {}
        }
      ],
      "source": [
        "r = asr_model.transcribe(fl, logprobs=True)"
      ]
    },
    {
      "cell_type": "code",
      "source": [
        "r"
      ],
      "metadata": {
        "id": "l4miAy3yOPY_"
      },
      "execution_count": null,
      "outputs": []
    },
    {
      "cell_type": "markdown",
      "source": [
        "## save logits\n",
        "\n",
        "save logits as pt file"
      ],
      "metadata": {
        "id": "rBLohm_6JcsL"
      }
    },
    {
      "cell_type": "code",
      "execution_count": 21,
      "metadata": {
        "id": "eWLkzX7FrYI4"
      },
      "outputs": [],
      "source": [
        "import torch\n",
        "\n",
        "out_list = []\n",
        "for i in r:\n",
        "  out_list.append(torch.tensor(i))"
      ]
    },
    {
      "cell_type": "code",
      "execution_count": null,
      "metadata": {
        "id": "RU1JEidCt9Hm"
      },
      "outputs": [],
      "source": [
        "out_list"
      ]
    },
    {
      "cell_type": "code",
      "execution_count": 27,
      "metadata": {
        "id": "nlKsmdz_t-E2"
      },
      "outputs": [],
      "source": [
        "torch.save(out_list, 'logits.pt')"
      ]
    },
    {
      "cell_type": "code",
      "execution_count": null,
      "metadata": {
        "id": "-SUPtWZCuDbF"
      },
      "outputs": [],
      "source": [
        "out_list[0].shape"
      ]
    },
    {
      "cell_type": "markdown",
      "source": [
        "## save reference"
      ],
      "metadata": {
        "id": "DnUPs7EzJfCa"
      }
    },
    {
      "cell_type": "markdown",
      "source": [
        "save reference text"
      ],
      "metadata": {
        "id": "bifgdkSKrfP4"
      }
    },
    {
      "cell_type": "code",
      "execution_count": 29,
      "metadata": {
        "id": "AUcAouI9u0sg"
      },
      "outputs": [],
      "source": [
        "with open('ref.txt', 'w') as f:\n",
        "  for i in test_ds['text']:\n",
        "    f.write(i+'\\n')"
      ]
    },
    {
      "cell_type": "code",
      "execution_count": null,
      "metadata": {
        "id": "FmiWToyOxCbr"
      },
      "outputs": [],
      "source": []
    }
  ],
  "metadata": {
    "accelerator": "GPU",
    "colab": {
      "provenance": []
    },
    "gpuClass": "standard",
    "kernelspec": {
      "display_name": "Python 3",
      "name": "python3"
    },
    "language_info": {
      "name": "python"
    },
    "widgets": {
      "application/vnd.jupyter.widget-state+json": {
        "94ce6ea1a1244ff3bdf5c2ea3ed3c549": {
          "model_module": "@jupyter-widgets/controls",
          "model_name": "HBoxModel",
          "model_module_version": "1.5.0",
          "state": {
            "_dom_classes": [],
            "_model_module": "@jupyter-widgets/controls",
            "_model_module_version": "1.5.0",
            "_model_name": "HBoxModel",
            "_view_count": null,
            "_view_module": "@jupyter-widgets/controls",
            "_view_module_version": "1.5.0",
            "_view_name": "HBoxView",
            "box_style": "",
            "children": [
              "IPY_MODEL_6ce539f372c94802b08f4bfda27443e1",
              "IPY_MODEL_11bf1b5d47e243d8a0201588cd815cab",
              "IPY_MODEL_12b2da8f08aa4862b00e7c23b657564c"
            ],
            "layout": "IPY_MODEL_7815a8b95b8e44eca985cee196942095"
          }
        },
        "6ce539f372c94802b08f4bfda27443e1": {
          "model_module": "@jupyter-widgets/controls",
          "model_name": "HTMLModel",
          "model_module_version": "1.5.0",
          "state": {
            "_dom_classes": [],
            "_model_module": "@jupyter-widgets/controls",
            "_model_module_version": "1.5.0",
            "_model_name": "HTMLModel",
            "_view_count": null,
            "_view_module": "@jupyter-widgets/controls",
            "_view_module_version": "1.5.0",
            "_view_name": "HTMLView",
            "description": "",
            "description_tooltip": null,
            "layout": "IPY_MODEL_5c07c2d9ffef43278b5387f2755edf90",
            "placeholder": "​",
            "style": "IPY_MODEL_5e70be82d3ce43e99a5a0f7ddd72f347",
            "value": "Transcribing: 100%"
          }
        },
        "11bf1b5d47e243d8a0201588cd815cab": {
          "model_module": "@jupyter-widgets/controls",
          "model_name": "FloatProgressModel",
          "model_module_version": "1.5.0",
          "state": {
            "_dom_classes": [],
            "_model_module": "@jupyter-widgets/controls",
            "_model_module_version": "1.5.0",
            "_model_name": "FloatProgressModel",
            "_view_count": null,
            "_view_module": "@jupyter-widgets/controls",
            "_view_module_version": "1.5.0",
            "_view_name": "ProgressView",
            "bar_style": "success",
            "description": "",
            "description_tooltip": null,
            "layout": "IPY_MODEL_11e9956c9b2a4b23ab96d38bc0758903",
            "max": 655,
            "min": 0,
            "orientation": "horizontal",
            "style": "IPY_MODEL_f0d692c903f4498ea5069e5af9f1ef62",
            "value": 655
          }
        },
        "12b2da8f08aa4862b00e7c23b657564c": {
          "model_module": "@jupyter-widgets/controls",
          "model_name": "HTMLModel",
          "model_module_version": "1.5.0",
          "state": {
            "_dom_classes": [],
            "_model_module": "@jupyter-widgets/controls",
            "_model_module_version": "1.5.0",
            "_model_name": "HTMLModel",
            "_view_count": null,
            "_view_module": "@jupyter-widgets/controls",
            "_view_module_version": "1.5.0",
            "_view_name": "HTMLView",
            "description": "",
            "description_tooltip": null,
            "layout": "IPY_MODEL_5cb4ddc1d80c42fab6ae7f03721ac3e3",
            "placeholder": "​",
            "style": "IPY_MODEL_fa8101bd61634798a9039c14aa6b5c8e",
            "value": " 655/655 [02:16&lt;00:00,  5.67it/s]"
          }
        },
        "7815a8b95b8e44eca985cee196942095": {
          "model_module": "@jupyter-widgets/base",
          "model_name": "LayoutModel",
          "model_module_version": "1.2.0",
          "state": {
            "_model_module": "@jupyter-widgets/base",
            "_model_module_version": "1.2.0",
            "_model_name": "LayoutModel",
            "_view_count": null,
            "_view_module": "@jupyter-widgets/base",
            "_view_module_version": "1.2.0",
            "_view_name": "LayoutView",
            "align_content": null,
            "align_items": null,
            "align_self": null,
            "border": null,
            "bottom": null,
            "display": null,
            "flex": null,
            "flex_flow": null,
            "grid_area": null,
            "grid_auto_columns": null,
            "grid_auto_flow": null,
            "grid_auto_rows": null,
            "grid_column": null,
            "grid_gap": null,
            "grid_row": null,
            "grid_template_areas": null,
            "grid_template_columns": null,
            "grid_template_rows": null,
            "height": null,
            "justify_content": null,
            "justify_items": null,
            "left": null,
            "margin": null,
            "max_height": null,
            "max_width": null,
            "min_height": null,
            "min_width": null,
            "object_fit": null,
            "object_position": null,
            "order": null,
            "overflow": null,
            "overflow_x": null,
            "overflow_y": null,
            "padding": null,
            "right": null,
            "top": null,
            "visibility": null,
            "width": null
          }
        },
        "5c07c2d9ffef43278b5387f2755edf90": {
          "model_module": "@jupyter-widgets/base",
          "model_name": "LayoutModel",
          "model_module_version": "1.2.0",
          "state": {
            "_model_module": "@jupyter-widgets/base",
            "_model_module_version": "1.2.0",
            "_model_name": "LayoutModel",
            "_view_count": null,
            "_view_module": "@jupyter-widgets/base",
            "_view_module_version": "1.2.0",
            "_view_name": "LayoutView",
            "align_content": null,
            "align_items": null,
            "align_self": null,
            "border": null,
            "bottom": null,
            "display": null,
            "flex": null,
            "flex_flow": null,
            "grid_area": null,
            "grid_auto_columns": null,
            "grid_auto_flow": null,
            "grid_auto_rows": null,
            "grid_column": null,
            "grid_gap": null,
            "grid_row": null,
            "grid_template_areas": null,
            "grid_template_columns": null,
            "grid_template_rows": null,
            "height": null,
            "justify_content": null,
            "justify_items": null,
            "left": null,
            "margin": null,
            "max_height": null,
            "max_width": null,
            "min_height": null,
            "min_width": null,
            "object_fit": null,
            "object_position": null,
            "order": null,
            "overflow": null,
            "overflow_x": null,
            "overflow_y": null,
            "padding": null,
            "right": null,
            "top": null,
            "visibility": null,
            "width": null
          }
        },
        "5e70be82d3ce43e99a5a0f7ddd72f347": {
          "model_module": "@jupyter-widgets/controls",
          "model_name": "DescriptionStyleModel",
          "model_module_version": "1.5.0",
          "state": {
            "_model_module": "@jupyter-widgets/controls",
            "_model_module_version": "1.5.0",
            "_model_name": "DescriptionStyleModel",
            "_view_count": null,
            "_view_module": "@jupyter-widgets/base",
            "_view_module_version": "1.2.0",
            "_view_name": "StyleView",
            "description_width": ""
          }
        },
        "11e9956c9b2a4b23ab96d38bc0758903": {
          "model_module": "@jupyter-widgets/base",
          "model_name": "LayoutModel",
          "model_module_version": "1.2.0",
          "state": {
            "_model_module": "@jupyter-widgets/base",
            "_model_module_version": "1.2.0",
            "_model_name": "LayoutModel",
            "_view_count": null,
            "_view_module": "@jupyter-widgets/base",
            "_view_module_version": "1.2.0",
            "_view_name": "LayoutView",
            "align_content": null,
            "align_items": null,
            "align_self": null,
            "border": null,
            "bottom": null,
            "display": null,
            "flex": null,
            "flex_flow": null,
            "grid_area": null,
            "grid_auto_columns": null,
            "grid_auto_flow": null,
            "grid_auto_rows": null,
            "grid_column": null,
            "grid_gap": null,
            "grid_row": null,
            "grid_template_areas": null,
            "grid_template_columns": null,
            "grid_template_rows": null,
            "height": null,
            "justify_content": null,
            "justify_items": null,
            "left": null,
            "margin": null,
            "max_height": null,
            "max_width": null,
            "min_height": null,
            "min_width": null,
            "object_fit": null,
            "object_position": null,
            "order": null,
            "overflow": null,
            "overflow_x": null,
            "overflow_y": null,
            "padding": null,
            "right": null,
            "top": null,
            "visibility": null,
            "width": null
          }
        },
        "f0d692c903f4498ea5069e5af9f1ef62": {
          "model_module": "@jupyter-widgets/controls",
          "model_name": "ProgressStyleModel",
          "model_module_version": "1.5.0",
          "state": {
            "_model_module": "@jupyter-widgets/controls",
            "_model_module_version": "1.5.0",
            "_model_name": "ProgressStyleModel",
            "_view_count": null,
            "_view_module": "@jupyter-widgets/base",
            "_view_module_version": "1.2.0",
            "_view_name": "StyleView",
            "bar_color": null,
            "description_width": ""
          }
        },
        "5cb4ddc1d80c42fab6ae7f03721ac3e3": {
          "model_module": "@jupyter-widgets/base",
          "model_name": "LayoutModel",
          "model_module_version": "1.2.0",
          "state": {
            "_model_module": "@jupyter-widgets/base",
            "_model_module_version": "1.2.0",
            "_model_name": "LayoutModel",
            "_view_count": null,
            "_view_module": "@jupyter-widgets/base",
            "_view_module_version": "1.2.0",
            "_view_name": "LayoutView",
            "align_content": null,
            "align_items": null,
            "align_self": null,
            "border": null,
            "bottom": null,
            "display": null,
            "flex": null,
            "flex_flow": null,
            "grid_area": null,
            "grid_auto_columns": null,
            "grid_auto_flow": null,
            "grid_auto_rows": null,
            "grid_column": null,
            "grid_gap": null,
            "grid_row": null,
            "grid_template_areas": null,
            "grid_template_columns": null,
            "grid_template_rows": null,
            "height": null,
            "justify_content": null,
            "justify_items": null,
            "left": null,
            "margin": null,
            "max_height": null,
            "max_width": null,
            "min_height": null,
            "min_width": null,
            "object_fit": null,
            "object_position": null,
            "order": null,
            "overflow": null,
            "overflow_x": null,
            "overflow_y": null,
            "padding": null,
            "right": null,
            "top": null,
            "visibility": null,
            "width": null
          }
        },
        "fa8101bd61634798a9039c14aa6b5c8e": {
          "model_module": "@jupyter-widgets/controls",
          "model_name": "DescriptionStyleModel",
          "model_module_version": "1.5.0",
          "state": {
            "_model_module": "@jupyter-widgets/controls",
            "_model_module_version": "1.5.0",
            "_model_name": "DescriptionStyleModel",
            "_view_count": null,
            "_view_module": "@jupyter-widgets/base",
            "_view_module_version": "1.2.0",
            "_view_name": "StyleView",
            "description_width": ""
          }
        }
      }
    }
  },
  "nbformat": 4,
  "nbformat_minor": 0
}